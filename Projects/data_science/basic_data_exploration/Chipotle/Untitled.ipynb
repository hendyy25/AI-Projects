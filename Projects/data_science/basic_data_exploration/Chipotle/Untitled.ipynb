{
 "cells": [
  {
   "cell_type": "code",
   "execution_count": 2,
   "id": "48db38e8",
   "metadata": {
    "ExecuteTime": {
     "end_time": "2022-03-28T15:23:40.774606Z",
     "start_time": "2022-03-28T15:23:40.699761Z"
    }
   },
   "outputs": [],
   "source": [
    "import pandas as pd \n",
    "import requests"
   ]
  },
  {
   "cell_type": "code",
   "execution_count": 95,
   "id": "ef49d29f",
   "metadata": {
    "ExecuteTime": {
     "end_time": "2022-03-28T16:09:19.968796Z",
     "start_time": "2022-03-28T16:09:08.450017Z"
    }
   },
   "outputs": [],
   "source": [
    "url = 'https://raw.githubusercontent.com/justmarkham/DAT8/master/data/chipotle.tsv'\n",
    "url_data = pd.read_csv(url,sep='\\t')"
   ]
  },
  {
   "cell_type": "code",
   "execution_count": 89,
   "id": "3d3d286f",
   "metadata": {
    "ExecuteTime": {
     "end_time": "2022-03-28T16:08:02.439665Z",
     "start_time": "2022-03-28T16:08:02.419683Z"
    }
   },
   "outputs": [
    {
     "data": {
      "text/html": [
       "<div>\n",
       "<style scoped>\n",
       "    .dataframe tbody tr th:only-of-type {\n",
       "        vertical-align: middle;\n",
       "    }\n",
       "\n",
       "    .dataframe tbody tr th {\n",
       "        vertical-align: top;\n",
       "    }\n",
       "\n",
       "    .dataframe thead th {\n",
       "        text-align: right;\n",
       "    }\n",
       "</style>\n",
       "<table border=\"1\" class=\"dataframe\">\n",
       "  <thead>\n",
       "    <tr style=\"text-align: right;\">\n",
       "      <th></th>\n",
       "      <th>order_id</th>\n",
       "      <th>quantity</th>\n",
       "      <th>item_name</th>\n",
       "      <th>choice_description</th>\n",
       "      <th>item_price</th>\n",
       "    </tr>\n",
       "  </thead>\n",
       "  <tbody>\n",
       "    <tr>\n",
       "      <th>0</th>\n",
       "      <td>1</td>\n",
       "      <td>1</td>\n",
       "      <td>Chips and Fresh Tomato Salsa</td>\n",
       "      <td>NaN</td>\n",
       "      <td>$2.39</td>\n",
       "    </tr>\n",
       "    <tr>\n",
       "      <th>1</th>\n",
       "      <td>1</td>\n",
       "      <td>1</td>\n",
       "      <td>Izze</td>\n",
       "      <td>[Clementine]</td>\n",
       "      <td>$3.39</td>\n",
       "    </tr>\n",
       "    <tr>\n",
       "      <th>2</th>\n",
       "      <td>1</td>\n",
       "      <td>1</td>\n",
       "      <td>Nantucket Nectar</td>\n",
       "      <td>[Apple]</td>\n",
       "      <td>$3.39</td>\n",
       "    </tr>\n",
       "    <tr>\n",
       "      <th>3</th>\n",
       "      <td>1</td>\n",
       "      <td>1</td>\n",
       "      <td>Chips and Tomatillo-Green Chili Salsa</td>\n",
       "      <td>NaN</td>\n",
       "      <td>$2.39</td>\n",
       "    </tr>\n",
       "    <tr>\n",
       "      <th>4</th>\n",
       "      <td>2</td>\n",
       "      <td>2</td>\n",
       "      <td>Chicken Bowl</td>\n",
       "      <td>[Tomatillo-Red Chili Salsa (Hot), [Black Beans...</td>\n",
       "      <td>$16.98</td>\n",
       "    </tr>\n",
       "    <tr>\n",
       "      <th>...</th>\n",
       "      <td>...</td>\n",
       "      <td>...</td>\n",
       "      <td>...</td>\n",
       "      <td>...</td>\n",
       "      <td>...</td>\n",
       "    </tr>\n",
       "    <tr>\n",
       "      <th>4617</th>\n",
       "      <td>1833</td>\n",
       "      <td>1</td>\n",
       "      <td>Steak Burrito</td>\n",
       "      <td>[Fresh Tomato Salsa, [Rice, Black Beans, Sour ...</td>\n",
       "      <td>$11.75</td>\n",
       "    </tr>\n",
       "    <tr>\n",
       "      <th>4618</th>\n",
       "      <td>1833</td>\n",
       "      <td>1</td>\n",
       "      <td>Steak Burrito</td>\n",
       "      <td>[Fresh Tomato Salsa, [Rice, Sour Cream, Cheese...</td>\n",
       "      <td>$11.75</td>\n",
       "    </tr>\n",
       "    <tr>\n",
       "      <th>4619</th>\n",
       "      <td>1834</td>\n",
       "      <td>1</td>\n",
       "      <td>Chicken Salad Bowl</td>\n",
       "      <td>[Fresh Tomato Salsa, [Fajita Vegetables, Pinto...</td>\n",
       "      <td>$11.25</td>\n",
       "    </tr>\n",
       "    <tr>\n",
       "      <th>4620</th>\n",
       "      <td>1834</td>\n",
       "      <td>1</td>\n",
       "      <td>Chicken Salad Bowl</td>\n",
       "      <td>[Fresh Tomato Salsa, [Fajita Vegetables, Lettu...</td>\n",
       "      <td>$8.75</td>\n",
       "    </tr>\n",
       "    <tr>\n",
       "      <th>4621</th>\n",
       "      <td>1834</td>\n",
       "      <td>1</td>\n",
       "      <td>Chicken Salad Bowl</td>\n",
       "      <td>[Fresh Tomato Salsa, [Fajita Vegetables, Pinto...</td>\n",
       "      <td>$8.75</td>\n",
       "    </tr>\n",
       "  </tbody>\n",
       "</table>\n",
       "<p>4622 rows × 5 columns</p>\n",
       "</div>"
      ],
      "text/plain": [
       "      order_id  quantity                              item_name  \\\n",
       "0            1         1           Chips and Fresh Tomato Salsa   \n",
       "1            1         1                                   Izze   \n",
       "2            1         1                       Nantucket Nectar   \n",
       "3            1         1  Chips and Tomatillo-Green Chili Salsa   \n",
       "4            2         2                           Chicken Bowl   \n",
       "...        ...       ...                                    ...   \n",
       "4617      1833         1                          Steak Burrito   \n",
       "4618      1833         1                          Steak Burrito   \n",
       "4619      1834         1                     Chicken Salad Bowl   \n",
       "4620      1834         1                     Chicken Salad Bowl   \n",
       "4621      1834         1                     Chicken Salad Bowl   \n",
       "\n",
       "                                     choice_description item_price  \n",
       "0                                                   NaN     $2.39   \n",
       "1                                          [Clementine]     $3.39   \n",
       "2                                               [Apple]     $3.39   \n",
       "3                                                   NaN     $2.39   \n",
       "4     [Tomatillo-Red Chili Salsa (Hot), [Black Beans...    $16.98   \n",
       "...                                                 ...        ...  \n",
       "4617  [Fresh Tomato Salsa, [Rice, Black Beans, Sour ...    $11.75   \n",
       "4618  [Fresh Tomato Salsa, [Rice, Sour Cream, Cheese...    $11.75   \n",
       "4619  [Fresh Tomato Salsa, [Fajita Vegetables, Pinto...    $11.25   \n",
       "4620  [Fresh Tomato Salsa, [Fajita Vegetables, Lettu...     $8.75   \n",
       "4621  [Fresh Tomato Salsa, [Fajita Vegetables, Pinto...     $8.75   \n",
       "\n",
       "[4622 rows x 5 columns]"
      ]
     },
     "execution_count": 89,
     "metadata": {},
     "output_type": "execute_result"
    }
   ],
   "source": [
    "url_data"
   ]
  },
  {
   "cell_type": "code",
   "execution_count": 41,
   "id": "2467b516",
   "metadata": {
    "ExecuteTime": {
     "end_time": "2022-03-28T15:38:41.010262Z",
     "start_time": "2022-03-28T15:38:40.986053Z"
    }
   },
   "outputs": [
    {
     "ename": "KeyError",
     "evalue": "\"None of [Index(['item_name'], dtype='object')] are in the [columns]\"",
     "output_type": "error",
     "traceback": [
      "\u001b[0;31m---------------------------------------------------------------------------\u001b[0m",
      "\u001b[0;31mKeyError\u001b[0m                                  Traceback (most recent call last)",
      "\u001b[0;32m<ipython-input-41-ec3c1697a3af>\u001b[0m in \u001b[0;36m<module>\u001b[0;34m\u001b[0m\n\u001b[0;32m----> 1\u001b[0;31m \u001b[0mchipo_df\u001b[0m\u001b[0;34m[\u001b[0m\u001b[0mdf\u001b[0m\u001b[0;34m[\u001b[0m\u001b[0;34m[\u001b[0m\u001b[0;34m'item_name'\u001b[0m\u001b[0;34m]\u001b[0m\u001b[0;34m]\u001b[0m\u001b[0;34m==\u001b[0m\u001b[0;34m'Chicken Salad Bowl'\u001b[0m\u001b[0;34m]\u001b[0m\u001b[0;34m\u001b[0m\u001b[0;34m\u001b[0m\u001b[0m\n\u001b[0m",
      "\u001b[0;32m~/opt/anaconda3/lib/python3.8/site-packages/pandas/core/frame.py\u001b[0m in \u001b[0;36m__getitem__\u001b[0;34m(self, key)\u001b[0m\n\u001b[1;32m   3028\u001b[0m             \u001b[0;32mif\u001b[0m \u001b[0mis_iterator\u001b[0m\u001b[0;34m(\u001b[0m\u001b[0mkey\u001b[0m\u001b[0;34m)\u001b[0m\u001b[0;34m:\u001b[0m\u001b[0;34m\u001b[0m\u001b[0;34m\u001b[0m\u001b[0m\n\u001b[1;32m   3029\u001b[0m                 \u001b[0mkey\u001b[0m \u001b[0;34m=\u001b[0m \u001b[0mlist\u001b[0m\u001b[0;34m(\u001b[0m\u001b[0mkey\u001b[0m\u001b[0;34m)\u001b[0m\u001b[0;34m\u001b[0m\u001b[0;34m\u001b[0m\u001b[0m\n\u001b[0;32m-> 3030\u001b[0;31m             \u001b[0mindexer\u001b[0m \u001b[0;34m=\u001b[0m \u001b[0mself\u001b[0m\u001b[0;34m.\u001b[0m\u001b[0mloc\u001b[0m\u001b[0;34m.\u001b[0m\u001b[0m_get_listlike_indexer\u001b[0m\u001b[0;34m(\u001b[0m\u001b[0mkey\u001b[0m\u001b[0;34m,\u001b[0m \u001b[0maxis\u001b[0m\u001b[0;34m=\u001b[0m\u001b[0;36m1\u001b[0m\u001b[0;34m,\u001b[0m \u001b[0mraise_missing\u001b[0m\u001b[0;34m=\u001b[0m\u001b[0;32mTrue\u001b[0m\u001b[0;34m)\u001b[0m\u001b[0;34m[\u001b[0m\u001b[0;36m1\u001b[0m\u001b[0;34m]\u001b[0m\u001b[0;34m\u001b[0m\u001b[0;34m\u001b[0m\u001b[0m\n\u001b[0m\u001b[1;32m   3031\u001b[0m \u001b[0;34m\u001b[0m\u001b[0m\n\u001b[1;32m   3032\u001b[0m         \u001b[0;31m# take() does not accept boolean indexers\u001b[0m\u001b[0;34m\u001b[0m\u001b[0;34m\u001b[0m\u001b[0;34m\u001b[0m\u001b[0m\n",
      "\u001b[0;32m~/opt/anaconda3/lib/python3.8/site-packages/pandas/core/indexing.py\u001b[0m in \u001b[0;36m_get_listlike_indexer\u001b[0;34m(self, key, axis, raise_missing)\u001b[0m\n\u001b[1;32m   1264\u001b[0m             \u001b[0mkeyarr\u001b[0m\u001b[0;34m,\u001b[0m \u001b[0mindexer\u001b[0m\u001b[0;34m,\u001b[0m \u001b[0mnew_indexer\u001b[0m \u001b[0;34m=\u001b[0m \u001b[0max\u001b[0m\u001b[0;34m.\u001b[0m\u001b[0m_reindex_non_unique\u001b[0m\u001b[0;34m(\u001b[0m\u001b[0mkeyarr\u001b[0m\u001b[0;34m)\u001b[0m\u001b[0;34m\u001b[0m\u001b[0;34m\u001b[0m\u001b[0m\n\u001b[1;32m   1265\u001b[0m \u001b[0;34m\u001b[0m\u001b[0m\n\u001b[0;32m-> 1266\u001b[0;31m         \u001b[0mself\u001b[0m\u001b[0;34m.\u001b[0m\u001b[0m_validate_read_indexer\u001b[0m\u001b[0;34m(\u001b[0m\u001b[0mkeyarr\u001b[0m\u001b[0;34m,\u001b[0m \u001b[0mindexer\u001b[0m\u001b[0;34m,\u001b[0m \u001b[0maxis\u001b[0m\u001b[0;34m,\u001b[0m \u001b[0mraise_missing\u001b[0m\u001b[0;34m=\u001b[0m\u001b[0mraise_missing\u001b[0m\u001b[0;34m)\u001b[0m\u001b[0;34m\u001b[0m\u001b[0;34m\u001b[0m\u001b[0m\n\u001b[0m\u001b[1;32m   1267\u001b[0m         \u001b[0;32mreturn\u001b[0m \u001b[0mkeyarr\u001b[0m\u001b[0;34m,\u001b[0m \u001b[0mindexer\u001b[0m\u001b[0;34m\u001b[0m\u001b[0;34m\u001b[0m\u001b[0m\n\u001b[1;32m   1268\u001b[0m \u001b[0;34m\u001b[0m\u001b[0m\n",
      "\u001b[0;32m~/opt/anaconda3/lib/python3.8/site-packages/pandas/core/indexing.py\u001b[0m in \u001b[0;36m_validate_read_indexer\u001b[0;34m(self, key, indexer, axis, raise_missing)\u001b[0m\n\u001b[1;32m   1306\u001b[0m             \u001b[0;32mif\u001b[0m \u001b[0mmissing\u001b[0m \u001b[0;34m==\u001b[0m \u001b[0mlen\u001b[0m\u001b[0;34m(\u001b[0m\u001b[0mindexer\u001b[0m\u001b[0;34m)\u001b[0m\u001b[0;34m:\u001b[0m\u001b[0;34m\u001b[0m\u001b[0;34m\u001b[0m\u001b[0m\n\u001b[1;32m   1307\u001b[0m                 \u001b[0maxis_name\u001b[0m \u001b[0;34m=\u001b[0m \u001b[0mself\u001b[0m\u001b[0;34m.\u001b[0m\u001b[0mobj\u001b[0m\u001b[0;34m.\u001b[0m\u001b[0m_get_axis_name\u001b[0m\u001b[0;34m(\u001b[0m\u001b[0maxis\u001b[0m\u001b[0;34m)\u001b[0m\u001b[0;34m\u001b[0m\u001b[0;34m\u001b[0m\u001b[0m\n\u001b[0;32m-> 1308\u001b[0;31m                 \u001b[0;32mraise\u001b[0m \u001b[0mKeyError\u001b[0m\u001b[0;34m(\u001b[0m\u001b[0;34mf\"None of [{key}] are in the [{axis_name}]\"\u001b[0m\u001b[0;34m)\u001b[0m\u001b[0;34m\u001b[0m\u001b[0;34m\u001b[0m\u001b[0m\n\u001b[0m\u001b[1;32m   1309\u001b[0m \u001b[0;34m\u001b[0m\u001b[0m\n\u001b[1;32m   1310\u001b[0m             \u001b[0max\u001b[0m \u001b[0;34m=\u001b[0m \u001b[0mself\u001b[0m\u001b[0;34m.\u001b[0m\u001b[0mobj\u001b[0m\u001b[0;34m.\u001b[0m\u001b[0m_get_axis\u001b[0m\u001b[0;34m(\u001b[0m\u001b[0maxis\u001b[0m\u001b[0;34m)\u001b[0m\u001b[0;34m\u001b[0m\u001b[0;34m\u001b[0m\u001b[0m\n",
      "\u001b[0;31mKeyError\u001b[0m: \"None of [Index(['item_name'], dtype='object')] are in the [columns]\""
     ]
    }
   ],
   "source": []
  },
  {
   "cell_type": "code",
   "execution_count": 96,
   "id": "1291093e",
   "metadata": {
    "ExecuteTime": {
     "end_time": "2022-03-28T16:09:25.435983Z",
     "start_time": "2022-03-28T16:09:25.433071Z"
    }
   },
   "outputs": [],
   "source": [
    "chipo_df = url_data"
   ]
  },
  {
   "cell_type": "code",
   "execution_count": 91,
   "id": "64d491ae",
   "metadata": {
    "ExecuteTime": {
     "end_time": "2022-03-28T16:08:10.684948Z",
     "start_time": "2022-03-28T16:08:10.665143Z"
    }
   },
   "outputs": [
    {
     "data": {
      "text/html": [
       "<div>\n",
       "<style scoped>\n",
       "    .dataframe tbody tr th:only-of-type {\n",
       "        vertical-align: middle;\n",
       "    }\n",
       "\n",
       "    .dataframe tbody tr th {\n",
       "        vertical-align: top;\n",
       "    }\n",
       "\n",
       "    .dataframe thead th {\n",
       "        text-align: right;\n",
       "    }\n",
       "</style>\n",
       "<table border=\"1\" class=\"dataframe\">\n",
       "  <thead>\n",
       "    <tr style=\"text-align: right;\">\n",
       "      <th></th>\n",
       "      <th>order_id</th>\n",
       "      <th>quantity</th>\n",
       "      <th>item_name</th>\n",
       "      <th>choice_description</th>\n",
       "      <th>item_price</th>\n",
       "    </tr>\n",
       "  </thead>\n",
       "  <tbody>\n",
       "    <tr>\n",
       "      <th>0</th>\n",
       "      <td>1</td>\n",
       "      <td>1</td>\n",
       "      <td>Chips and Fresh Tomato Salsa</td>\n",
       "      <td>NaN</td>\n",
       "      <td>$2.39</td>\n",
       "    </tr>\n",
       "    <tr>\n",
       "      <th>1</th>\n",
       "      <td>1</td>\n",
       "      <td>1</td>\n",
       "      <td>Izze</td>\n",
       "      <td>[Clementine]</td>\n",
       "      <td>$3.39</td>\n",
       "    </tr>\n",
       "    <tr>\n",
       "      <th>2</th>\n",
       "      <td>1</td>\n",
       "      <td>1</td>\n",
       "      <td>Nantucket Nectar</td>\n",
       "      <td>[Apple]</td>\n",
       "      <td>$3.39</td>\n",
       "    </tr>\n",
       "    <tr>\n",
       "      <th>3</th>\n",
       "      <td>1</td>\n",
       "      <td>1</td>\n",
       "      <td>Chips and Tomatillo-Green Chili Salsa</td>\n",
       "      <td>NaN</td>\n",
       "      <td>$2.39</td>\n",
       "    </tr>\n",
       "    <tr>\n",
       "      <th>4</th>\n",
       "      <td>2</td>\n",
       "      <td>2</td>\n",
       "      <td>Chicken Bowl</td>\n",
       "      <td>[Tomatillo-Red Chili Salsa (Hot), [Black Beans...</td>\n",
       "      <td>$16.98</td>\n",
       "    </tr>\n",
       "    <tr>\n",
       "      <th>...</th>\n",
       "      <td>...</td>\n",
       "      <td>...</td>\n",
       "      <td>...</td>\n",
       "      <td>...</td>\n",
       "      <td>...</td>\n",
       "    </tr>\n",
       "    <tr>\n",
       "      <th>4617</th>\n",
       "      <td>1833</td>\n",
       "      <td>1</td>\n",
       "      <td>Steak Burrito</td>\n",
       "      <td>[Fresh Tomato Salsa, [Rice, Black Beans, Sour ...</td>\n",
       "      <td>$11.75</td>\n",
       "    </tr>\n",
       "    <tr>\n",
       "      <th>4618</th>\n",
       "      <td>1833</td>\n",
       "      <td>1</td>\n",
       "      <td>Steak Burrito</td>\n",
       "      <td>[Fresh Tomato Salsa, [Rice, Sour Cream, Cheese...</td>\n",
       "      <td>$11.75</td>\n",
       "    </tr>\n",
       "    <tr>\n",
       "      <th>4619</th>\n",
       "      <td>1834</td>\n",
       "      <td>1</td>\n",
       "      <td>Chicken Salad Bowl</td>\n",
       "      <td>[Fresh Tomato Salsa, [Fajita Vegetables, Pinto...</td>\n",
       "      <td>$11.25</td>\n",
       "    </tr>\n",
       "    <tr>\n",
       "      <th>4620</th>\n",
       "      <td>1834</td>\n",
       "      <td>1</td>\n",
       "      <td>Chicken Salad Bowl</td>\n",
       "      <td>[Fresh Tomato Salsa, [Fajita Vegetables, Lettu...</td>\n",
       "      <td>$8.75</td>\n",
       "    </tr>\n",
       "    <tr>\n",
       "      <th>4621</th>\n",
       "      <td>1834</td>\n",
       "      <td>1</td>\n",
       "      <td>Chicken Salad Bowl</td>\n",
       "      <td>[Fresh Tomato Salsa, [Fajita Vegetables, Pinto...</td>\n",
       "      <td>$8.75</td>\n",
       "    </tr>\n",
       "  </tbody>\n",
       "</table>\n",
       "<p>4622 rows × 5 columns</p>\n",
       "</div>"
      ],
      "text/plain": [
       "      order_id  quantity                              item_name  \\\n",
       "0            1         1           Chips and Fresh Tomato Salsa   \n",
       "1            1         1                                   Izze   \n",
       "2            1         1                       Nantucket Nectar   \n",
       "3            1         1  Chips and Tomatillo-Green Chili Salsa   \n",
       "4            2         2                           Chicken Bowl   \n",
       "...        ...       ...                                    ...   \n",
       "4617      1833         1                          Steak Burrito   \n",
       "4618      1833         1                          Steak Burrito   \n",
       "4619      1834         1                     Chicken Salad Bowl   \n",
       "4620      1834         1                     Chicken Salad Bowl   \n",
       "4621      1834         1                     Chicken Salad Bowl   \n",
       "\n",
       "                                     choice_description item_price  \n",
       "0                                                   NaN     $2.39   \n",
       "1                                          [Clementine]     $3.39   \n",
       "2                                               [Apple]     $3.39   \n",
       "3                                                   NaN     $2.39   \n",
       "4     [Tomatillo-Red Chili Salsa (Hot), [Black Beans...    $16.98   \n",
       "...                                                 ...        ...  \n",
       "4617  [Fresh Tomato Salsa, [Rice, Black Beans, Sour ...    $11.75   \n",
       "4618  [Fresh Tomato Salsa, [Rice, Sour Cream, Cheese...    $11.75   \n",
       "4619  [Fresh Tomato Salsa, [Fajita Vegetables, Pinto...    $11.25   \n",
       "4620  [Fresh Tomato Salsa, [Fajita Vegetables, Lettu...     $8.75   \n",
       "4621  [Fresh Tomato Salsa, [Fajita Vegetables, Pinto...     $8.75   \n",
       "\n",
       "[4622 rows x 5 columns]"
      ]
     },
     "execution_count": 91,
     "metadata": {},
     "output_type": "execute_result"
    }
   ],
   "source": [
    "chipo_df"
   ]
  },
  {
   "cell_type": "code",
   "execution_count": 17,
   "id": "b600d111",
   "metadata": {
    "ExecuteTime": {
     "end_time": "2022-03-28T15:30:03.658240Z",
     "start_time": "2022-03-28T15:30:03.652890Z"
    }
   },
   "outputs": [
    {
     "data": {
      "text/plain": [
       "4622"
      ]
     },
     "execution_count": 17,
     "metadata": {},
     "output_type": "execute_result"
    }
   ],
   "source": [
    "chipo_df.shape[0]"
   ]
  },
  {
   "cell_type": "code",
   "execution_count": 63,
   "id": "674ff953",
   "metadata": {
    "ExecuteTime": {
     "end_time": "2022-03-28T15:55:36.419907Z",
     "start_time": "2022-03-28T15:55:36.410346Z"
    }
   },
   "outputs": [
    {
     "data": {
      "text/plain": [
       "0             Chips and Fresh Tomato Salsa\n",
       "1                                     Izze\n",
       "2                         Nantucket Nectar\n",
       "3    Chips and Tomatillo-Green Chili Salsa\n",
       "4                             Chicken Bowl\n",
       "5                             Chicken Bowl\n",
       "6                            Side of Chips\n",
       "7                            Steak Burrito\n",
       "8                         Steak Soft Tacos\n",
       "9                            Steak Burrito\n",
       "Name: item_name, dtype: object"
      ]
     },
     "execution_count": 63,
     "metadata": {},
     "output_type": "execute_result"
    }
   ],
   "source": [
    "data = chipo_df.head(10)\n",
    "data['item_name'][data['choice_description']!='NaN']"
   ]
  },
  {
   "cell_type": "code",
   "execution_count": 18,
   "id": "4a876605",
   "metadata": {
    "ExecuteTime": {
     "end_time": "2022-03-28T15:30:19.087238Z",
     "start_time": "2022-03-28T15:30:19.079817Z"
    }
   },
   "outputs": [
    {
     "data": {
      "text/plain": [
       "(4622, 5)"
      ]
     },
     "execution_count": 18,
     "metadata": {},
     "output_type": "execute_result"
    }
   ],
   "source": [
    "chipo_df.shape"
   ]
  },
  {
   "cell_type": "code",
   "execution_count": 19,
   "id": "1e2ec05e",
   "metadata": {
    "ExecuteTime": {
     "end_time": "2022-03-28T15:30:38.072786Z",
     "start_time": "2022-03-28T15:30:38.066353Z"
    }
   },
   "outputs": [
    {
     "data": {
      "text/plain": [
       "Index(['order_id', 'quantity', 'item_name', 'choice_description',\n",
       "       'item_price'],\n",
       "      dtype='object')"
      ]
     },
     "execution_count": 19,
     "metadata": {},
     "output_type": "execute_result"
    }
   ],
   "source": [
    "chipo_df.columns"
   ]
  },
  {
   "cell_type": "code",
   "execution_count": 20,
   "id": "120d6648",
   "metadata": {
    "ExecuteTime": {
     "end_time": "2022-03-28T15:30:53.152945Z",
     "start_time": "2022-03-28T15:30:53.147989Z"
    }
   },
   "outputs": [
    {
     "data": {
      "text/plain": [
       "5"
      ]
     },
     "execution_count": 20,
     "metadata": {},
     "output_type": "execute_result"
    }
   ],
   "source": [
    "len(chipo_df.columns)"
   ]
  },
  {
   "cell_type": "code",
   "execution_count": 22,
   "id": "589086ef",
   "metadata": {
    "ExecuteTime": {
     "end_time": "2022-03-28T15:31:10.687059Z",
     "start_time": "2022-03-28T15:31:10.682071Z"
    }
   },
   "outputs": [
    {
     "data": {
      "text/plain": [
       "['order_id', 'quantity', 'item_name', 'choice_description', 'item_price']"
      ]
     },
     "execution_count": 22,
     "metadata": {},
     "output_type": "execute_result"
    }
   ],
   "source": [
    "chipo_df.columns.to_list()"
   ]
  },
  {
   "cell_type": "code",
   "execution_count": 23,
   "id": "8728ced1",
   "metadata": {
    "ExecuteTime": {
     "end_time": "2022-03-28T15:31:28.540002Z",
     "start_time": "2022-03-28T15:31:28.534531Z"
    }
   },
   "outputs": [
    {
     "data": {
      "text/plain": [
       "RangeIndex(start=0, stop=4622, step=1)"
      ]
     },
     "execution_count": 23,
     "metadata": {},
     "output_type": "execute_result"
    }
   ],
   "source": [
    "chipo_df.index"
   ]
  },
  {
   "cell_type": "code",
   "execution_count": 29,
   "id": "0d4e6338",
   "metadata": {
    "ExecuteTime": {
     "end_time": "2022-03-28T15:33:02.282403Z",
     "start_time": "2022-03-28T15:33:02.264979Z"
    }
   },
   "outputs": [
    {
     "data": {
      "text/plain": [
       "item_name                            \n",
       "Chicken Bowl                             726\n",
       "Chicken Burrito                          553\n",
       "Chips and Guacamole                      479\n",
       "Steak Burrito                            368\n",
       "Canned Soft Drink                        301\n",
       "Steak Bowl                               211\n",
       "Chips                                    211\n",
       "Bottled Water                            162\n",
       "Chicken Soft Tacos                       115\n",
       "Chicken Salad Bowl                       110\n",
       "Chips and Fresh Tomato Salsa             110\n",
       "Canned Soda                              104\n",
       "Side of Chips                            101\n",
       "Veggie Burrito                            95\n",
       "Barbacoa Burrito                          91\n",
       "Veggie Bowl                               85\n",
       "Carnitas Bowl                             68\n",
       "Barbacoa Bowl                             66\n",
       "Carnitas Burrito                          59\n",
       "Steak Soft Tacos                          55\n",
       "6 Pack Soft Drink                         54\n",
       "Chips and Tomatillo Red Chili Salsa       48\n",
       "Chicken Crispy Tacos                      47\n",
       "Chips and Tomatillo Green Chili Salsa     43\n",
       "Carnitas Soft Tacos                       40\n",
       "Steak Crispy Tacos                        35\n",
       "Chips and Tomatillo-Green Chili Salsa     31\n",
       "Steak Salad Bowl                          29\n",
       "Nantucket Nectar                          27\n",
       "Barbacoa Soft Tacos                       25\n",
       "Chips and Roasted Chili Corn Salsa        22\n",
       "Chips and Tomatillo-Red Chili Salsa       20\n",
       "Izze                                      20\n",
       "Veggie Salad Bowl                         18\n",
       "Chips and Roasted Chili-Corn Salsa        18\n",
       "Barbacoa Crispy Tacos                     11\n",
       "Barbacoa Salad Bowl                       10\n",
       "Chicken Salad                              9\n",
       "Carnitas Crispy Tacos                      7\n",
       "Veggie Soft Tacos                          7\n",
       "Burrito                                    6\n",
       "Veggie Salad                               6\n",
       "Carnitas Salad Bowl                        6\n",
       "Steak Salad                                4\n",
       "Bowl                                       2\n",
       "Salad                                      2\n",
       "Crispy Tacos                               2\n",
       "Chips and Mild Fresh Tomato Salsa          1\n",
       "Carnitas Salad                             1\n",
       "Veggie Crispy Tacos                        1\n",
       "dtype: int64"
      ]
     },
     "execution_count": 29,
     "metadata": {},
     "output_type": "execute_result"
    }
   ],
   "source": [
    "chipo_df[['item_name']].value_counts()"
   ]
  },
  {
   "cell_type": "code",
   "execution_count": 36,
   "id": "3f90817f",
   "metadata": {
    "ExecuteTime": {
     "end_time": "2022-03-28T15:34:53.166361Z",
     "start_time": "2022-03-28T15:34:53.155812Z"
    }
   },
   "outputs": [
    {
     "name": "stdout",
     "output_type": "stream",
     "text": [
      "The most odrderd item is: Chicken Bowl with an amount of: 726\n"
     ]
    }
   ],
   "source": [
    "print('The most odrderd item is:',chipo_df.item_name.value_counts().index[0],'with an amount of:',chipo_df.item_name.value_counts()[0])"
   ]
  },
  {
   "cell_type": "code",
   "execution_count": 65,
   "id": "0fa5b6ae",
   "metadata": {
    "ExecuteTime": {
     "end_time": "2022-03-28T15:57:19.261562Z",
     "start_time": "2022-03-28T15:57:19.254260Z"
    }
   },
   "outputs": [
    {
     "data": {
      "text/plain": [
       "726"
      ]
     },
     "execution_count": 65,
     "metadata": {},
     "output_type": "execute_result"
    }
   ],
   "source": [
    "len(chipo_df['quantity'][chipo_df['item_name']=='Chicken Bowl'])"
   ]
  },
  {
   "cell_type": "code",
   "execution_count": 66,
   "id": "08e8ba18",
   "metadata": {
    "ExecuteTime": {
     "end_time": "2022-03-28T15:58:52.444150Z",
     "start_time": "2022-03-28T15:58:52.441574Z"
    }
   },
   "outputs": [],
   "source": [
    "# if you want a complete data frame, df[condition]\n",
    "# if you want a data frame from a relation between two comlumns, df[column][condition]\n"
   ]
  },
  {
   "cell_type": "code",
   "execution_count": 67,
   "id": "cd9e5a34",
   "metadata": {
    "ExecuteTime": {
     "end_time": "2022-03-28T15:59:16.471380Z",
     "start_time": "2022-03-28T15:59:16.462963Z"
    }
   },
   "outputs": [
    {
     "data": {
      "text/plain": [
       "'[Diet Coke]'"
      ]
     },
     "execution_count": 67,
     "metadata": {},
     "output_type": "execute_result"
    }
   ],
   "source": [
    "chipo_df.choice_description.value_counts().index[0]"
   ]
  },
  {
   "cell_type": "code",
   "execution_count": 69,
   "id": "79c93230",
   "metadata": {
    "ExecuteTime": {
     "end_time": "2022-03-28T16:00:44.038815Z",
     "start_time": "2022-03-28T16:00:44.030974Z"
    }
   },
   "outputs": [
    {
     "data": {
      "text/plain": [
       "4972"
      ]
     },
     "execution_count": 69,
     "metadata": {},
     "output_type": "execute_result"
    }
   ],
   "source": [
    "sum(chipo_df.quantity)"
   ]
  },
  {
   "cell_type": "code",
   "execution_count": 86,
   "id": "66020dd6",
   "metadata": {
    "ExecuteTime": {
     "end_time": "2022-03-28T16:07:02.692955Z",
     "start_time": "2022-03-28T16:07:02.685403Z"
    }
   },
   "outputs": [
    {
     "data": {
      "text/plain": [
       "0       eo\n",
       "1       eo\n",
       "2       eo\n",
       "3       eo\n",
       "4       eo\n",
       "        ..\n",
       "4617    eo\n",
       "4618    eo\n",
       "4619    eo\n",
       "4620    eo\n",
       "4621    eo\n",
       "Name: item_price, Length: 4622, dtype: object"
      ]
     },
     "execution_count": 86,
     "metadata": {},
     "output_type": "execute_result"
    }
   ],
   "source": [
    "chipo_df.item_price"
   ]
  },
  {
   "cell_type": "code",
   "execution_count": 97,
   "id": "760fe0e8",
   "metadata": {
    "ExecuteTime": {
     "end_time": "2022-03-28T16:09:30.072038Z",
     "start_time": "2022-03-28T16:09:29.216063Z"
    }
   },
   "outputs": [
    {
     "name": "stderr",
     "output_type": "stream",
     "text": [
      "<ipython-input-97-edd6ab61bae8>:5: SettingWithCopyWarning: \n",
      "A value is trying to be set on a copy of a slice from a DataFrame\n",
      "\n",
      "See the caveats in the documentation: https://pandas.pydata.org/pandas-docs/stable/user_guide/indexing.html#returning-a-view-versus-a-copy\n",
      "  chipo_df.item_price[i]= float(string)\n"
     ]
    },
    {
     "data": {
      "text/plain": [
       "0        2.39\n",
       "1        3.39\n",
       "2        3.39\n",
       "3        2.39\n",
       "4       16.98\n",
       "        ...  \n",
       "4617    11.75\n",
       "4618    11.75\n",
       "4619    11.25\n",
       "4620     8.75\n",
       "4621     8.75\n",
       "Name: item_price, Length: 4622, dtype: object"
      ]
     },
     "execution_count": 97,
     "metadata": {},
     "output_type": "execute_result"
    }
   ],
   "source": [
    "for i in range(len(chipo_df.item_price)):\n",
    "    string = chipo_df.item_price[i]\n",
    "    string = string.replace(string[0],\"\")\n",
    "    string.strip()\n",
    "    chipo_df.item_price[i]= float(string)\n",
    "    \n",
    "chipo_df.item_price"
   ]
  },
  {
   "cell_type": "code",
   "execution_count": 98,
   "id": "bf391cd6",
   "metadata": {
    "ExecuteTime": {
     "end_time": "2022-03-28T16:09:32.276785Z",
     "start_time": "2022-03-28T16:09:32.271527Z"
    }
   },
   "outputs": [
    {
     "data": {
      "text/plain": [
       "float"
      ]
     },
     "execution_count": 98,
     "metadata": {},
     "output_type": "execute_result"
    }
   ],
   "source": [
    "type(chipo_df['item_price'][0])"
   ]
  },
  {
   "cell_type": "code",
   "execution_count": 102,
   "id": "b0cece58",
   "metadata": {
    "ExecuteTime": {
     "end_time": "2022-03-28T16:10:19.668348Z",
     "start_time": "2022-03-28T16:10:19.663213Z"
    }
   },
   "outputs": [
    {
     "data": {
      "text/plain": [
       "float"
      ]
     },
     "execution_count": 102,
     "metadata": {},
     "output_type": "execute_result"
    }
   ],
   "source": [
    "type(chipo_df.item_price[34])\n"
   ]
  },
  {
   "cell_type": "code",
   "execution_count": 111,
   "id": "00e9923b",
   "metadata": {
    "ExecuteTime": {
     "end_time": "2022-03-28T16:14:11.521241Z",
     "start_time": "2022-03-28T16:14:11.515520Z"
    }
   },
   "outputs": [],
   "source": [
    "revenue = sum(chipo_df['quantity']*chipo_df['item_price'])"
   ]
  },
  {
   "cell_type": "code",
   "execution_count": 114,
   "id": "29f44f9f",
   "metadata": {
    "ExecuteTime": {
     "end_time": "2022-03-28T16:14:45.407011Z",
     "start_time": "2022-03-28T16:14:45.403312Z"
    }
   },
   "outputs": [],
   "source": [
    "no_orders = len(chipo_df.order_id.unique())"
   ]
  },
  {
   "cell_type": "code",
   "execution_count": 115,
   "id": "b36a705f",
   "metadata": {
    "ExecuteTime": {
     "end_time": "2022-03-28T16:14:47.858040Z",
     "start_time": "2022-03-28T16:14:47.853666Z"
    }
   },
   "outputs": [
    {
     "data": {
      "text/plain": [
       "21.3942311886587"
      ]
     },
     "execution_count": 115,
     "metadata": {},
     "output_type": "execute_result"
    }
   ],
   "source": [
    "revenue/no_orders"
   ]
  },
  {
   "cell_type": "code",
   "execution_count": null,
   "id": "7747b585",
   "metadata": {},
   "outputs": [],
   "source": [
    "chipo_df.item_name.u"
   ]
  }
 ],
 "metadata": {
  "kernelspec": {
   "display_name": "Python 3",
   "language": "python",
   "name": "python3"
  },
  "language_info": {
   "codemirror_mode": {
    "name": "ipython",
    "version": 3
   },
   "file_extension": ".py",
   "mimetype": "text/x-python",
   "name": "python",
   "nbconvert_exporter": "python",
   "pygments_lexer": "ipython3",
   "version": "3.8.8"
  },
  "toc": {
   "base_numbering": 1,
   "nav_menu": {},
   "number_sections": true,
   "sideBar": true,
   "skip_h1_title": false,
   "title_cell": "Table of Contents",
   "title_sidebar": "Contents",
   "toc_cell": false,
   "toc_position": {},
   "toc_section_display": true,
   "toc_window_display": false
  },
  "varInspector": {
   "cols": {
    "lenName": 16,
    "lenType": 16,
    "lenVar": 40
   },
   "kernels_config": {
    "python": {
     "delete_cmd_postfix": "",
     "delete_cmd_prefix": "del ",
     "library": "var_list.py",
     "varRefreshCmd": "print(var_dic_list())"
    },
    "r": {
     "delete_cmd_postfix": ") ",
     "delete_cmd_prefix": "rm(",
     "library": "var_list.r",
     "varRefreshCmd": "cat(var_dic_list()) "
    }
   },
   "types_to_exclude": [
    "module",
    "function",
    "builtin_function_or_method",
    "instance",
    "_Feature"
   ],
   "window_display": false
  }
 },
 "nbformat": 4,
 "nbformat_minor": 5
}
