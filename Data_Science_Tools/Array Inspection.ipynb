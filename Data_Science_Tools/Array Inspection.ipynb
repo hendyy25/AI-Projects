{
 "cells": [
  {
   "cell_type": "code",
   "execution_count": 3,
   "id": "08711f06",
   "metadata": {
    "ExecuteTime": {
     "end_time": "2022-02-15T20:55:25.030728Z",
     "start_time": "2022-02-15T20:55:25.026982Z"
    }
   },
   "outputs": [],
   "source": [
    "import numpy as np\n",
    "\n",
    "arr = np.array([[1,2,3],[4,5,6]],dtype = np.int64)"
   ]
  },
  {
   "cell_type": "markdown",
   "id": "43c331f2",
   "metadata": {},
   "source": [
    "### Inspecting General Info Of An Array"
   ]
  },
  {
   "cell_type": "code",
   "execution_count": 4,
   "id": "f9483e1f",
   "metadata": {
    "ExecuteTime": {
     "end_time": "2022-02-15T20:55:26.944130Z",
     "start_time": "2022-02-15T20:55:26.939441Z"
    }
   },
   "outputs": [
    {
     "name": "stdout",
     "output_type": "stream",
     "text": [
      "class:  ndarray\n",
      "shape:  (2, 3)\n",
      "strides:  (24, 8)\n",
      "itemsize:  8\n",
      "aligned:  True\n",
      "contiguous:  True\n",
      "fortran:  False\n",
      "data pointer: 0x7f8a1fd043f0\n",
      "byteorder:  little\n",
      "byteswap:  False\n",
      "type: int64\n",
      "None\n"
     ]
    }
   ],
   "source": [
    "print(np.info(arr))"
   ]
  },
  {
   "cell_type": "markdown",
   "id": "7cf3ea21",
   "metadata": {},
   "source": [
    "### Inspecting Specific Info Of An Array"
   ]
  },
  {
   "cell_type": "code",
   "execution_count": 5,
   "id": "8a75b659",
   "metadata": {
    "ExecuteTime": {
     "end_time": "2022-02-15T20:58:47.720194Z",
     "start_time": "2022-02-15T20:58:47.711680Z"
    }
   },
   "outputs": [
    {
     "name": "stdout",
     "output_type": "stream",
     "text": [
      "int64\n",
      "3\n",
      "2\n",
      "2\n",
      "6\n",
      "8\n",
      "48\n"
     ]
    }
   ],
   "source": [
    "print(arr.dtype) # data type\n",
    "print(arr.shape[1]) # dimension\n",
    "print(len(arr)) #length\n",
    "print(arr.ndim) # number of dimesions \n",
    "print(arr.size) # number of elements\n",
    "print(arr.itemsize) # number of bytes of each element\n",
    "print(arr.nbytes) # memory size of an array in bytes \n",
    "\n",
    "# note: arr.nbytes = arr.size * arr.itemsize"
   ]
  },
  {
   "cell_type": "code",
   "execution_count": null,
   "id": "61c1d441",
   "metadata": {},
   "outputs": [],
   "source": []
  }
 ],
 "metadata": {
  "kernelspec": {
   "display_name": "Python 3",
   "language": "python",
   "name": "python3"
  },
  "language_info": {
   "codemirror_mode": {
    "name": "ipython",
    "version": 3
   },
   "file_extension": ".py",
   "mimetype": "text/x-python",
   "name": "python",
   "nbconvert_exporter": "python",
   "pygments_lexer": "ipython3",
   "version": "3.8.8"
  },
  "toc": {
   "base_numbering": 1,
   "nav_menu": {},
   "number_sections": true,
   "sideBar": true,
   "skip_h1_title": false,
   "title_cell": "Table of Contents",
   "title_sidebar": "Contents",
   "toc_cell": false,
   "toc_position": {},
   "toc_section_display": true,
   "toc_window_display": false
  },
  "varInspector": {
   "cols": {
    "lenName": 16,
    "lenType": 16,
    "lenVar": 40
   },
   "kernels_config": {
    "python": {
     "delete_cmd_postfix": "",
     "delete_cmd_prefix": "del ",
     "library": "var_list.py",
     "varRefreshCmd": "print(var_dic_list())"
    },
    "r": {
     "delete_cmd_postfix": ") ",
     "delete_cmd_prefix": "rm(",
     "library": "var_list.r",
     "varRefreshCmd": "cat(var_dic_list()) "
    }
   },
   "types_to_exclude": [
    "module",
    "function",
    "builtin_function_or_method",
    "instance",
    "_Feature"
   ],
   "window_display": false
  }
 },
 "nbformat": 4,
 "nbformat_minor": 5
}
