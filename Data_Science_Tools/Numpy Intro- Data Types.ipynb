{
 "cells": [
  {
   "cell_type": "markdown",
   "id": "92dff2ee",
   "metadata": {},
   "source": [
    "**Numpy (Numeric Python)**"
   ]
  },
  {
   "cell_type": "markdown",
   "id": "a0cb3de3",
   "metadata": {},
   "source": [
    "**Why numpy?**\n",
    "...."
   ]
  },
  {
   "cell_type": "code",
   "execution_count": 1,
   "id": "61174a6c",
   "metadata": {
    "ExecuteTime": {
     "end_time": "2022-02-13T21:46:21.654938Z",
     "start_time": "2022-02-13T21:46:21.646468Z"
    }
   },
   "outputs": [],
   "source": [
    "import numpy as np"
   ]
  },
  {
   "cell_type": "markdown",
   "id": "0f993a16",
   "metadata": {},
   "source": [
    "**1- Numpy Data Types**\n"
   ]
  },
  {
   "cell_type": "markdown",
   "id": "6bf20497",
   "metadata": {},
   "source": [
    "# **Numpy has the following data types:**\n",
    "* int \n",
    "* float \n",
    "* complex \n",
    "* bool\n",
    "* string \n",
    "* unicode\n",
    "* object\n",
    "* see the notebook from instructor"
   ]
  },
  {
   "cell_type": "code",
   "execution_count": 3,
   "id": "cbed966c",
   "metadata": {
    "ExecuteTime": {
     "end_time": "2022-02-13T22:00:42.153876Z",
     "start_time": "2022-02-13T22:00:42.146756Z"
    }
   },
   "outputs": [
    {
     "name": "stdout",
     "output_type": "stream",
     "text": [
      "1.0\n",
      "2.0\n",
      "3.0\n"
     ]
    },
    {
     "data": {
      "text/plain": [
       "dtype('float32')"
      ]
     },
     "execution_count": 3,
     "metadata": {},
     "output_type": "execute_result"
    }
   ],
   "source": [
    "# creating a numpy array \n",
    "arr = np.array([1,2,3],dtype='f4')\n",
    "for i in arr:\n",
    "    print(i)\n",
    "arr.dtype"
   ]
  },
  {
   "cell_type": "code",
   "execution_count": 4,
   "id": "f01a5573",
   "metadata": {
    "ExecuteTime": {
     "end_time": "2022-02-13T22:04:15.299610Z",
     "start_time": "2022-02-13T22:04:15.294175Z"
    }
   },
   "outputs": [
    {
     "name": "stdout",
     "output_type": "stream",
     "text": [
      "<class 'numpy.float32'>\n",
      "<class 'numpy.float32'>\n",
      "<class 'numpy.float32'>\n",
      "6.400000095367432\n"
     ]
    }
   ],
   "source": [
    "arr = np.array([1,2,'3.4'], dtype= 'f4')\n",
    "arr.dtype\n",
    "for i in arr:\n",
    "    print(type(i))\n",
    "print(arr[2]+3)"
   ]
  },
  {
   "cell_type": "code",
   "execution_count": 7,
   "id": "3e636006",
   "metadata": {
    "ExecuteTime": {
     "end_time": "2022-02-13T22:05:25.074930Z",
     "start_time": "2022-02-13T22:05:25.069893Z"
    }
   },
   "outputs": [
    {
     "name": "stdout",
     "output_type": "stream",
     "text": [
      "int64\n",
      "1\n",
      "2\n",
      "3\n"
     ]
    }
   ],
   "source": [
    "arr = np.array(['1','2','3'], dtype = 'int')\n",
    "print(arr.dtype)\n",
    "for i in arr:\n",
    "    print(i)"
   ]
  },
  {
   "cell_type": "code",
   "execution_count": 8,
   "id": "8374de62",
   "metadata": {
    "ExecuteTime": {
     "end_time": "2022-02-13T22:07:00.881150Z",
     "start_time": "2022-02-13T22:07:00.868275Z"
    }
   },
   "outputs": [
    {
     "name": "stdout",
     "output_type": "stream",
     "text": [
      "(1+2j)\n"
     ]
    },
    {
     "data": {
      "text/plain": [
       "dtype('complex64')"
      ]
     },
     "execution_count": 8,
     "metadata": {},
     "output_type": "execute_result"
    }
   ],
   "source": [
    "arr = np.array([1+2j,3-4j], dtype= np.complex64)\n",
    "print(arr[0])\n",
    "arr.dtype"
   ]
  },
  {
   "cell_type": "code",
   "execution_count": 10,
   "id": "46562546",
   "metadata": {
    "ExecuteTime": {
     "end_time": "2022-02-13T22:10:21.837360Z",
     "start_time": "2022-02-13T22:10:21.825939Z"
    }
   },
   "outputs": [
    {
     "name": "stdout",
     "output_type": "stream",
     "text": [
      "The original data type is:  int16\n",
      "The new data type is:  float32\n"
     ]
    },
    {
     "data": {
      "text/plain": [
       "array([1., 2., 3.], dtype=float32)"
      ]
     },
     "execution_count": 10,
     "metadata": {},
     "output_type": "execute_result"
    }
   ],
   "source": [
    "arr = np.array([1,2,3], dtype='int16')\n",
    "print('The original data type is: ', arr.dtype)\n",
    "\n",
    "arr = arr.astype(np.float32) # converting the data type from int16 to float32\n",
    "print('The new data type is: ', arr.dtype)\n",
    "arr"
   ]
  },
  {
   "cell_type": "code",
   "execution_count": 17,
   "id": "02407c54",
   "metadata": {
    "ExecuteTime": {
     "end_time": "2022-02-13T22:17:18.728659Z",
     "start_time": "2022-02-13T22:17:18.722716Z"
    }
   },
   "outputs": [
    {
     "name": "stdout",
     "output_type": "stream",
     "text": [
      "numpy array before type conversion:  [126 127 129]\n",
      "numpy array after type conversion:  [ 126  127 -127]\n"
     ]
    }
   ],
   "source": [
    "# An example of integer overflow at downcasting \n",
    "# tip: 'int8' only carries numbers in this range [-127,127]. Any number out of the range will cause overflow\n",
    "\n",
    "arr = np.array([126,127,129], dtype= 'int16')\n",
    "print('numpy array before type conversion: ', arr)\n",
    "\n",
    "arr = arr.astype('int8')\n",
    "print('numpy array after type conversion: ', arr)\n"
   ]
  },
  {
   "cell_type": "code",
   "execution_count": 20,
   "id": "54928699",
   "metadata": {
    "ExecuteTime": {
     "end_time": "2022-02-13T22:22:49.365953Z",
     "start_time": "2022-02-13T22:22:49.356961Z"
    }
   },
   "outputs": [
    {
     "name": "stdout",
     "output_type": "stream",
     "text": [
      "[b'abc' b'def']\n",
      "['abc' 'def']\n"
     ]
    }
   ],
   "source": [
    "# truncated string\n",
    "s = np.array([\"abc\", \"defg\"], dtype = 'S3') # array of strings of 3 characters\n",
    "print(s)\n",
    "\n",
    "# truncated unicode\n",
    "s = np.array(['abcd','defg'], dtype = 'U3')\n",
    "print(s)"
   ]
  },
  {
   "cell_type": "code",
   "execution_count": 25,
   "id": "fdc9ee23",
   "metadata": {
    "ExecuteTime": {
     "end_time": "2022-02-13T22:28:39.557909Z",
     "start_time": "2022-02-13T22:28:39.549014Z"
    }
   },
   "outputs": [
    {
     "name": "stdout",
     "output_type": "stream",
     "text": [
      "The array is:  [b'a' b'ab' b'abc']\n",
      "The data type is: |S3 because the longest string is \"abc\"\n",
      "The array is:  ['a' 'abc' 'abcd']\n",
      "The data type is: <U4 because the longest string is \"abcd\"\n"
     ]
    }
   ],
   "source": [
    "arr = np.array(['a','ab','abc'], dtype = np.string_)\n",
    "print('The array is: ', arr)\n",
    "print('The data type is:', arr.dtype,'because the longest string is \"abc\"')\n",
    "\n",
    "arr= np.array(['a','abc','abcd'], dtype = np.unicode_)\n",
    "print('The array is: ', arr)\n",
    "print('The data type is:', arr.dtype,'because the longest string is \"abcd\"')\n",
    "\n",
    "\n",
    "\n"
   ]
  },
  {
   "cell_type": "code",
   "execution_count": null,
   "id": "cb576403",
   "metadata": {},
   "outputs": [],
   "source": []
  }
 ],
 "metadata": {
  "kernelspec": {
   "display_name": "Python 3",
   "language": "python",
   "name": "python3"
  },
  "language_info": {
   "codemirror_mode": {
    "name": "ipython",
    "version": 3
   },
   "file_extension": ".py",
   "mimetype": "text/x-python",
   "name": "python",
   "nbconvert_exporter": "python",
   "pygments_lexer": "ipython3",
   "version": "3.8.8"
  },
  "toc": {
   "base_numbering": 1,
   "nav_menu": {},
   "number_sections": true,
   "sideBar": true,
   "skip_h1_title": false,
   "title_cell": "Table of Contents",
   "title_sidebar": "Contents",
   "toc_cell": false,
   "toc_position": {},
   "toc_section_display": true,
   "toc_window_display": false
  },
  "varInspector": {
   "cols": {
    "lenName": 16,
    "lenType": 16,
    "lenVar": 40
   },
   "kernels_config": {
    "python": {
     "delete_cmd_postfix": "",
     "delete_cmd_prefix": "del ",
     "library": "var_list.py",
     "varRefreshCmd": "print(var_dic_list())"
    },
    "r": {
     "delete_cmd_postfix": ") ",
     "delete_cmd_prefix": "rm(",
     "library": "var_list.r",
     "varRefreshCmd": "cat(var_dic_list()) "
    }
   },
   "types_to_exclude": [
    "module",
    "function",
    "builtin_function_or_method",
    "instance",
    "_Feature"
   ],
   "window_display": false
  }
 },
 "nbformat": 4,
 "nbformat_minor": 5
}
