{
 "cells": [
  {
   "cell_type": "code",
   "execution_count": 1,
   "id": "71c83662",
   "metadata": {
    "ExecuteTime": {
     "end_time": "2022-02-16T23:29:01.186677Z",
     "start_time": "2022-02-16T23:29:01.181200Z"
    }
   },
   "outputs": [],
   "source": [
    "import numpy as np"
   ]
  },
  {
   "cell_type": "code",
   "execution_count": 2,
   "id": "a89a9f5f",
   "metadata": {
    "ExecuteTime": {
     "end_time": "2022-02-16T23:29:19.933306Z",
     "start_time": "2022-02-16T23:29:19.928441Z"
    }
   },
   "outputs": [
    {
     "name": "stdout",
     "output_type": "stream",
     "text": [
      "[[0.36594049 0.54400294 0.55519529 0.73378505]\n",
      " [0.66332515 0.46629412 0.71471096 0.86307239]\n",
      " [0.72590829 0.40221267 0.60255686 0.54708443]]\n"
     ]
    }
   ],
   "source": [
    "arr = np.random.rand(3,4)\n",
    "print(arr)"
   ]
  },
  {
   "cell_type": "markdown",
   "id": "3f948b6d",
   "metadata": {},
   "source": [
    "### Transpose An Array "
   ]
  },
  {
   "cell_type": "code",
   "execution_count": 4,
   "id": "4ba2f3f2",
   "metadata": {
    "ExecuteTime": {
     "end_time": "2022-02-16T23:30:12.348386Z",
     "start_time": "2022-02-16T23:30:12.342852Z"
    }
   },
   "outputs": [
    {
     "name": "stdout",
     "output_type": "stream",
     "text": [
      "[[0.36594049 0.66332515 0.72590829]\n",
      " [0.54400294 0.46629412 0.40221267]\n",
      " [0.55519529 0.71471096 0.60255686]\n",
      " [0.73378505 0.86307239 0.54708443]]\n",
      "[[0.36594049 0.66332515 0.72590829]\n",
      " [0.54400294 0.46629412 0.40221267]\n",
      " [0.55519529 0.71471096 0.60255686]\n",
      " [0.73378505 0.86307239 0.54708443]]\n",
      "[[0.36594049 0.66332515 0.72590829]\n",
      " [0.54400294 0.46629412 0.40221267]\n",
      " [0.55519529 0.71471096 0.60255686]\n",
      " [0.73378505 0.86307239 0.54708443]]\n"
     ]
    }
   ],
   "source": [
    "print(arr.T)\n",
    "print(np.transpose(arr))\n",
    "print(arr.transpose())"
   ]
  },
  {
   "cell_type": "markdown",
   "id": "9a3912a7",
   "metadata": {},
   "source": [
    "### Change The Shape Of An Array "
   ]
  },
  {
   "cell_type": "code",
   "execution_count": 5,
   "id": "87b7665e",
   "metadata": {
    "ExecuteTime": {
     "end_time": "2022-02-16T23:31:37.139472Z",
     "start_time": "2022-02-16T23:31:37.120702Z"
    }
   },
   "outputs": [
    {
     "data": {
      "text/plain": [
       "array([[0.36594049, 0.54400294, 0.55519529, 0.73378505, 0.66332515,\n",
       "        0.46629412],\n",
       "       [0.71471096, 0.86307239, 0.72590829, 0.40221267, 0.60255686,\n",
       "        0.54708443]])"
      ]
     },
     "execution_count": 5,
     "metadata": {},
     "output_type": "execute_result"
    }
   ],
   "source": [
    "arr.reshape((2,6)) # returns a copy"
   ]
  },
  {
   "cell_type": "markdown",
   "id": "4a7f84e6",
   "metadata": {},
   "source": [
    "### Flatten An Array "
   ]
  },
  {
   "cell_type": "code",
   "execution_count": 6,
   "id": "f5d559a7",
   "metadata": {
    "ExecuteTime": {
     "end_time": "2022-02-16T23:32:09.442914Z",
     "start_time": "2022-02-16T23:32:09.436049Z"
    }
   },
   "outputs": [
    {
     "data": {
      "text/plain": [
       "array([0.36594049, 0.54400294, 0.55519529, 0.73378505, 0.66332515,\n",
       "       0.46629412, 0.71471096, 0.86307239, 0.72590829, 0.40221267,\n",
       "       0.60255686, 0.54708443])"
      ]
     },
     "execution_count": 6,
     "metadata": {},
     "output_type": "execute_result"
    }
   ],
   "source": [
    "arr.flatten() # returns a copy"
   ]
  },
  {
   "cell_type": "markdown",
   "id": "6377a83d",
   "metadata": {},
   "source": [
    "### Append Elements To An Array "
   ]
  },
  {
   "cell_type": "code",
   "execution_count": 8,
   "id": "b51f5f29",
   "metadata": {
    "ExecuteTime": {
     "end_time": "2022-02-16T23:34:20.385784Z",
     "start_time": "2022-02-16T23:34:20.379148Z"
    }
   },
   "outputs": [
    {
     "name": "stdout",
     "output_type": "stream",
     "text": [
      "[1 2 3 4]\n",
      "[1 2 3 4 5 6 7]\n"
     ]
    }
   ],
   "source": [
    "arr = np.array([1,2,3])\n",
    "arr1 = np.append(arr,4) # append a scalar \n",
    "arr2 = np.append(arr1,[5,6,7])\n",
    "print(arr1)\n",
    "print(arr2)"
   ]
  },
  {
   "cell_type": "markdown",
   "id": "60404bd3",
   "metadata": {},
   "source": [
    "### Insert Elements Into An Array "
   ]
  },
  {
   "cell_type": "code",
   "execution_count": 9,
   "id": "529f3fdc",
   "metadata": {
    "ExecuteTime": {
     "end_time": "2022-02-16T23:35:02.524167Z",
     "start_time": "2022-02-16T23:35:02.519541Z"
    }
   },
   "outputs": [
    {
     "name": "stdout",
     "output_type": "stream",
     "text": [
      "[10  1  2  3]\n"
     ]
    }
   ],
   "source": [
    "arr3 = np.insert(arr,0,10)\n",
    "print(arr3)"
   ]
  },
  {
   "cell_type": "code",
   "execution_count": 10,
   "id": "3cb59800",
   "metadata": {
    "ExecuteTime": {
     "end_time": "2022-02-16T23:35:49.812463Z",
     "start_time": "2022-02-16T23:35:49.808063Z"
    }
   },
   "outputs": [
    {
     "name": "stdout",
     "output_type": "stream",
     "text": [
      "[1 2 3 1 2 3]\n"
     ]
    }
   ],
   "source": [
    "# insert multiple values at a certain position\n",
    "arr3 = np.insert(arr, 0,[1,2,3])\n",
    "print(arr3)"
   ]
  },
  {
   "cell_type": "markdown",
   "id": "53764ce4",
   "metadata": {},
   "source": [
    "### Delete Elements From An Array "
   ]
  },
  {
   "cell_type": "code",
   "execution_count": 12,
   "id": "45b26dee",
   "metadata": {
    "ExecuteTime": {
     "end_time": "2022-02-16T23:37:02.962635Z",
     "start_time": "2022-02-16T23:37:02.953960Z"
    }
   },
   "outputs": [
    {
     "name": "stdout",
     "output_type": "stream",
     "text": [
      "[2 3]\n",
      "[2]\n"
     ]
    }
   ],
   "source": [
    "arr4 = np.delete(arr,0) # remove by index\n",
    "print(arr4)\n",
    "\n",
    "arr4 = np.delete(arr,[0,2]) # remove at multiple positoins \n",
    "print(arr4)"
   ]
  },
  {
   "cell_type": "markdown",
   "id": "2ab45928",
   "metadata": {},
   "source": [
    "### Copy An Array "
   ]
  },
  {
   "cell_type": "code",
   "execution_count": 13,
   "id": "24ba69e5",
   "metadata": {
    "ExecuteTime": {
     "end_time": "2022-02-16T23:37:42.246069Z",
     "start_time": "2022-02-16T23:37:42.242860Z"
    }
   },
   "outputs": [],
   "source": [
    "arr = np.array([1,2,3])\n"
   ]
  },
  {
   "cell_type": "code",
   "execution_count": null,
   "id": "c4c34ca2",
   "metadata": {},
   "outputs": [],
   "source": [
    "# indintical methods for deep copying:\n",
    "arr1 = np.copy(arr)\n",
    "arr1 = arr.copy()\n",
    "arr1 = np.array(arr,copy=True)"
   ]
  }
 ],
 "metadata": {
  "kernelspec": {
   "display_name": "Python 3",
   "language": "python",
   "name": "python3"
  },
  "language_info": {
   "codemirror_mode": {
    "name": "ipython",
    "version": 3
   },
   "file_extension": ".py",
   "mimetype": "text/x-python",
   "name": "python",
   "nbconvert_exporter": "python",
   "pygments_lexer": "ipython3",
   "version": "3.8.8"
  },
  "toc": {
   "base_numbering": 1,
   "nav_menu": {},
   "number_sections": true,
   "sideBar": true,
   "skip_h1_title": false,
   "title_cell": "Table of Contents",
   "title_sidebar": "Contents",
   "toc_cell": false,
   "toc_position": {},
   "toc_section_display": true,
   "toc_window_display": false
  },
  "varInspector": {
   "cols": {
    "lenName": 16,
    "lenType": 16,
    "lenVar": 40
   },
   "kernels_config": {
    "python": {
     "delete_cmd_postfix": "",
     "delete_cmd_prefix": "del ",
     "library": "var_list.py",
     "varRefreshCmd": "print(var_dic_list())"
    },
    "r": {
     "delete_cmd_postfix": ") ",
     "delete_cmd_prefix": "rm(",
     "library": "var_list.r",
     "varRefreshCmd": "cat(var_dic_list()) "
    }
   },
   "types_to_exclude": [
    "module",
    "function",
    "builtin_function_or_method",
    "instance",
    "_Feature"
   ],
   "window_display": false
  }
 },
 "nbformat": 4,
 "nbformat_minor": 5
}
