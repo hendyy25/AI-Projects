{
 "cells": [
  {
   "cell_type": "code",
   "execution_count": 1,
   "id": "1c284740",
   "metadata": {
    "ExecuteTime": {
     "end_time": "2022-02-15T21:57:55.039800Z",
     "start_time": "2022-02-15T21:57:55.034490Z"
    }
   },
   "outputs": [],
   "source": [
    "import numpy as np"
   ]
  },
  {
   "cell_type": "code",
   "execution_count": 12,
   "id": "dfd22b3f",
   "metadata": {
    "ExecuteTime": {
     "end_time": "2022-02-15T22:06:10.088715Z",
     "start_time": "2022-02-15T22:06:10.082247Z"
    }
   },
   "outputs": [
    {
     "name": "stdout",
     "output_type": "stream",
     "text": [
      "[[0.68182388 0.38110785 0.93071508 0.75525837 0.52644715]\n",
      " [0.8058887  0.70520526 0.29340577 0.74641346 0.59043551]\n",
      " [0.03954199 0.01038335 0.95584316 0.19832931 0.10391654]\n",
      " [0.64260538 0.94840289 0.17054195 0.78669623 0.7429172 ]\n",
      " [0.88343983 0.6474838  0.32537387 0.92374683 0.00207365]]\n"
     ]
    }
   ],
   "source": [
    "arr = np.random.rand(5,5)\n",
    "print(arr)"
   ]
  },
  {
   "cell_type": "markdown",
   "id": "57d51f89",
   "metadata": {},
   "source": [
    "### Sort An Array Along A Specified Axis "
   ]
  },
  {
   "cell_type": "code",
   "execution_count": 19,
   "id": "528feb47",
   "metadata": {
    "ExecuteTime": {
     "end_time": "2022-02-15T22:12:08.618286Z",
     "start_time": "2022-02-15T22:12:08.611230Z"
    }
   },
   "outputs": [
    {
     "name": "stdout",
     "output_type": "stream",
     "text": [
      "[[0.03954199 0.01038335 0.17054195 0.19832931 0.00207365]\n",
      " [0.64260538 0.38110785 0.29340577 0.74641346 0.10391654]\n",
      " [0.68182388 0.6474838  0.32537387 0.75525837 0.52644715]\n",
      " [0.8058887  0.70520526 0.93071508 0.78669623 0.59043551]\n",
      " [0.88343983 0.94840289 0.95584316 0.92374683 0.7429172 ]] \n",
      "\n",
      "[[0.38110785 0.52644715 0.68182388 0.75525837 0.93071508]\n",
      " [0.29340577 0.59043551 0.70520526 0.74641346 0.8058887 ]\n",
      " [0.01038335 0.03954199 0.10391654 0.19832931 0.95584316]\n",
      " [0.17054195 0.64260538 0.7429172  0.78669623 0.94840289]\n",
      " [0.00207365 0.32537387 0.6474838  0.88343983 0.92374683]]\n"
     ]
    }
   ],
   "source": [
    "print(np.sort(arr,axis=0), \"\\n\") # sorts along columns \n",
    "\n",
    "print(np.sort(arr,axis=1)) # sorts along rows "
   ]
  },
  {
   "cell_type": "markdown",
   "id": "ec704819",
   "metadata": {},
   "source": [
    "### Compute The Indices That Would Sort An Array Along A Specified Axis"
   ]
  },
  {
   "cell_type": "code",
   "execution_count": 20,
   "id": "5ce8415d",
   "metadata": {
    "ExecuteTime": {
     "end_time": "2022-02-15T22:13:48.841409Z",
     "start_time": "2022-02-15T22:13:48.836505Z"
    }
   },
   "outputs": [
    {
     "name": "stdout",
     "output_type": "stream",
     "text": [
      "[[0.46335561 0.03958151 0.73251774 0.95665494 0.45176237]\n",
      " [0.50810076 0.46030195 0.9344686  0.50229301 0.61126673]\n",
      " [0.92821027 0.33499396 0.24368766 0.92987526 0.39153904]\n",
      " [0.87526406 0.54401876 0.11231518 0.0974946  0.29543217]\n",
      " [0.65113689 0.71617536 0.49959612 0.35604578 0.62972442]]\n"
     ]
    }
   ],
   "source": [
    "arr = np.random.rand(5,5)\n",
    "print(arr)"
   ]
  },
  {
   "cell_type": "code",
   "execution_count": 23,
   "id": "9b30e2cc",
   "metadata": {
    "ExecuteTime": {
     "end_time": "2022-02-15T22:14:52.441500Z",
     "start_time": "2022-02-15T22:14:52.435103Z"
    }
   },
   "outputs": [
    {
     "name": "stdout",
     "output_type": "stream",
     "text": [
      "[[0 0 3 3 3]\n",
      " [1 2 2 4 2]\n",
      " [4 1 4 1 0]\n",
      " [3 3 0 2 1]\n",
      " [2 4 1 0 4]] \n",
      "\n",
      "[[1 4 0 2 3]\n",
      " [1 3 0 4 2]\n",
      " [2 1 4 0 3]\n",
      " [3 2 4 1 0]\n",
      " [3 2 4 0 1]] \n",
      "\n",
      "[ 1 18 17 12 19 11 23 14  4  6  0 22  8  5 16  9 24 20 21  2 15 10 13  7\n",
      "  3]\n"
     ]
    }
   ],
   "source": [
    "print(np.argsort(arr,axis=0),'\\n') # along columns \n",
    "print(np.argsort(arr,axis=1),'\\n') # along rows\n",
    "\n",
    "# returns indices of a flattened array\n",
    "print(np.argsort(arr,axis=None))"
   ]
  }
 ],
 "metadata": {
  "kernelspec": {
   "display_name": "Python 3",
   "language": "python",
   "name": "python3"
  },
  "language_info": {
   "codemirror_mode": {
    "name": "ipython",
    "version": 3
   },
   "file_extension": ".py",
   "mimetype": "text/x-python",
   "name": "python",
   "nbconvert_exporter": "python",
   "pygments_lexer": "ipython3",
   "version": "3.8.8"
  },
  "toc": {
   "base_numbering": 1,
   "nav_menu": {},
   "number_sections": true,
   "sideBar": true,
   "skip_h1_title": false,
   "title_cell": "Table of Contents",
   "title_sidebar": "Contents",
   "toc_cell": false,
   "toc_position": {},
   "toc_section_display": true,
   "toc_window_display": false
  },
  "varInspector": {
   "cols": {
    "lenName": 16,
    "lenType": 16,
    "lenVar": 40
   },
   "kernels_config": {
    "python": {
     "delete_cmd_postfix": "",
     "delete_cmd_prefix": "del ",
     "library": "var_list.py",
     "varRefreshCmd": "print(var_dic_list())"
    },
    "r": {
     "delete_cmd_postfix": ") ",
     "delete_cmd_prefix": "rm(",
     "library": "var_list.r",
     "varRefreshCmd": "cat(var_dic_list()) "
    }
   },
   "types_to_exclude": [
    "module",
    "function",
    "builtin_function_or_method",
    "instance",
    "_Feature"
   ],
   "window_display": false
  }
 },
 "nbformat": 4,
 "nbformat_minor": 5
}
