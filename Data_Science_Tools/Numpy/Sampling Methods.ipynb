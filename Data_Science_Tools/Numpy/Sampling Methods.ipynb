{
 "cells": [
  {
   "cell_type": "code",
   "execution_count": 1,
   "id": "a866a3e5",
   "metadata": {
    "ExecuteTime": {
     "end_time": "2022-02-16T23:11:05.990636Z",
     "start_time": "2022-02-16T23:11:05.985795Z"
    }
   },
   "outputs": [],
   "source": [
    "import numpy as np"
   ]
  },
  {
   "cell_type": "markdown",
   "id": "1792571f",
   "metadata": {},
   "source": [
    "### Set Seed"
   ]
  },
  {
   "cell_type": "code",
   "execution_count": 2,
   "id": "b93cb0ea",
   "metadata": {
    "ExecuteTime": {
     "end_time": "2022-02-16T23:11:35.447342Z",
     "start_time": "2022-02-16T23:11:35.442226Z"
    }
   },
   "outputs": [],
   "source": [
    "np.random.seed(123)"
   ]
  },
  {
   "cell_type": "markdown",
   "id": "f189642d",
   "metadata": {},
   "source": [
    "### Set Random State Which Is Independent From The Global Seed"
   ]
  },
  {
   "cell_type": "code",
   "execution_count": 3,
   "id": "9a06518b",
   "metadata": {
    "ExecuteTime": {
     "end_time": "2022-02-16T23:12:20.235346Z",
     "start_time": "2022-02-16T23:12:20.212178Z"
    }
   },
   "outputs": [
    {
     "data": {
      "text/plain": [
       "array([0.88594794, 0.07791236, 0.97964616, 0.24767146, 0.75288472,\n",
       "       0.52667564, 0.90755375, 0.8840703 , 0.08926896, 0.5173446 ])"
      ]
     },
     "execution_count": 3,
     "metadata": {},
     "output_type": "execute_result"
    }
   ],
   "source": [
    "rs = np.random.RandomState(321)\n",
    "rs.rand(10)"
   ]
  },
  {
   "cell_type": "markdown",
   "id": "807b7692",
   "metadata": {},
   "source": [
    "### Generate A Random Sample From Interval [0,1) In A Given Shape"
   ]
  },
  {
   "cell_type": "code",
   "execution_count": 5,
   "id": "dcd75aa2",
   "metadata": {
    "ExecuteTime": {
     "end_time": "2022-02-16T23:14:03.509254Z",
     "start_time": "2022-02-16T23:14:03.503003Z"
    }
   },
   "outputs": [
    {
     "name": "stdout",
     "output_type": "stream",
     "text": [
      "0.28613933495037946\n",
      "[0.22685145 0.55131477 0.71946897]\n",
      "[[0.42310646 0.9807642  0.68482974]\n",
      " [0.4809319  0.39211752 0.34317802]\n",
      " [0.72904971 0.43857224 0.0596779 ]]\n"
     ]
    }
   ],
   "source": [
    "print(np.random.rand())# prints a random scalar\n",
    "print(np.random.rand(3))# prints a 1-D array \n",
    "print(np.random.rand(3,3)) # prints a 2-D array "
   ]
  },
  {
   "cell_type": "markdown",
   "id": "f4654032",
   "metadata": {},
   "source": [
    "### Generate A Sample From Standard Normal Distribution (mean = 0, stdv = 1)"
   ]
  },
  {
   "cell_type": "code",
   "execution_count": 6,
   "id": "adcbc6a7",
   "metadata": {
    "ExecuteTime": {
     "end_time": "2022-02-16T23:15:26.892295Z",
     "start_time": "2022-02-16T23:15:26.886186Z"
    }
   },
   "outputs": [
    {
     "name": "stdout",
     "output_type": "stream",
     "text": [
      "[[ 1.49138963 -0.638902   -0.44398196]\n",
      " [-0.43435128  2.20593008  2.18678609]\n",
      " [ 1.0040539   0.3861864   0.73736858]]\n"
     ]
    }
   ],
   "source": [
    "print(np.random.randn(3,3))"
   ]
  },
  {
   "cell_type": "markdown",
   "id": "14858b48",
   "metadata": {},
   "source": [
    "### Generate An Array Of Random Integers in A Given interval [low, high)"
   ]
  },
  {
   "cell_type": "code",
   "execution_count": 9,
   "id": "ec9415b1",
   "metadata": {
    "ExecuteTime": {
     "end_time": "2022-02-16T23:17:10.884308Z",
     "start_time": "2022-02-16T23:17:10.880067Z"
    }
   },
   "outputs": [
    {
     "name": "stdout",
     "output_type": "stream",
     "text": [
      "[ 9  4 16  8 14  9]\n"
     ]
    }
   ],
   "source": [
    "# np.random.randint(low,high,size, dtype)\n",
    "print(np.random.randint(3,17,6,'int16'))"
   ]
  },
  {
   "cell_type": "markdown",
   "id": "116551ac",
   "metadata": {},
   "source": [
    "### Generate An Array Of Random Floating-Point Numbers In The Interval [0.0,1.0)"
   ]
  },
  {
   "cell_type": "code",
   "execution_count": 10,
   "id": "47f75ae7",
   "metadata": {
    "ExecuteTime": {
     "end_time": "2022-02-16T23:18:49.749063Z",
     "start_time": "2022-02-16T23:18:49.742290Z"
    }
   },
   "outputs": [
    {
     "name": "stdout",
     "output_type": "stream",
     "text": [
      "[0.37380143 0.23451288 0.98799529 0.76599595 0.77700444 0.02798196\n",
      " 0.17390652 0.15408224 0.07708648 0.8898657 ]\n",
      "[0.7503787  0.69340324 0.51176338 0.46426806 0.56843069 0.30254945\n",
      " 0.49730879 0.68326291 0.91669867 0.10892895]\n",
      "[0.49549179 0.23283593 0.43686066 0.75154299 0.48089213 0.79772841\n",
      " 0.28270293 0.43341824 0.00975735 0.34079598]\n",
      "[0.68927201 0.86936929 0.26780382 0.45674792 0.26828131 0.8370528\n",
      " 0.27051466 0.53006201 0.17537266 0.31496645]\n"
     ]
    }
   ],
   "source": [
    "# using various methods that are similar to np.random.rand()\n",
    "print(np.random.random_sample(10))\n",
    "print(np.random.random(10))\n",
    "print(np.random.ranf(10))\n",
    "print(np.random.sample(10))"
   ]
  },
  {
   "cell_type": "markdown",
   "id": "fce581fd",
   "metadata": {},
   "source": [
    "### Generate A Random Sample From A Given 1-D Array"
   ]
  },
  {
   "cell_type": "code",
   "execution_count": 14,
   "id": "0ac7b5a2",
   "metadata": {
    "ExecuteTime": {
     "end_time": "2022-02-16T23:23:44.658165Z",
     "start_time": "2022-02-16T23:23:44.651828Z"
    }
   },
   "outputs": [
    {
     "name": "stdout",
     "output_type": "stream",
     "text": [
      "[1 1 0 1 1 0 2 1 2 0]\n",
      "[1 0 2 0 0 2 0 2 1 0]\n",
      "[1 1 1 1 1 2 1 1 1 3]\n"
     ]
    }
   ],
   "source": [
    "# np.random.choice(iterable, size, replace = True)\n",
    "print(np.random.choice(3,10,replace=True))\n",
    "print(np.random.choice(3,10))\n",
    "print(np.random.choice([1,2,3],10))"
   ]
  },
  {
   "cell_type": "markdown",
   "id": "d4f11d5b",
   "metadata": {},
   "source": [
    "### Shuffle An Array "
   ]
  },
  {
   "cell_type": "code",
   "execution_count": 15,
   "id": "5ede59a8",
   "metadata": {
    "ExecuteTime": {
     "end_time": "2022-02-16T23:24:20.698872Z",
     "start_time": "2022-02-16T23:24:20.690889Z"
    }
   },
   "outputs": [
    {
     "name": "stdout",
     "output_type": "stream",
     "text": [
      "[0 1 2 3 4 5 6 7 8 9]\n",
      "[4 7 3 5 2 0 9 1 6 8]\n"
     ]
    }
   ],
   "source": [
    "arr = np.array(range(10))\n",
    "print(arr)\n",
    "\n",
    "np.random.shuffle(arr)\n",
    "print(arr)"
   ]
  },
  {
   "cell_type": "markdown",
   "id": "03546fa6",
   "metadata": {},
   "source": [
    "### Generate A Permutation Of An Array "
   ]
  },
  {
   "cell_type": "code",
   "execution_count": 18,
   "id": "de5eb01a",
   "metadata": {
    "ExecuteTime": {
     "end_time": "2022-02-16T23:26:46.265050Z",
     "start_time": "2022-02-16T23:26:46.258375Z"
    }
   },
   "outputs": [
    {
     "name": "stdout",
     "output_type": "stream",
     "text": [
      "The initial array: [0 1 2 3 4 5 6 7 8 9]\n",
      "A permutation of the array is: [0 3 8 4 6 7 9 2 1 5]\n"
     ]
    }
   ],
   "source": [
    "# similar to np.random.shuffle(), but it returns a copy rather than changing in place\n",
    "arr = np.array(range(10))\n",
    "print('The initial array:', arr)\n",
    "print('A permutation of the array is:', np.random.permutation(arr))\n",
    "\n",
    "# error below \n",
    "# print('A permutation of the array is:', np.random.schuffle(arr))"
   ]
  },
  {
   "cell_type": "code",
   "execution_count": null,
   "id": "ca8d73ec",
   "metadata": {},
   "outputs": [],
   "source": []
  }
 ],
 "metadata": {
  "kernelspec": {
   "display_name": "Python 3",
   "language": "python",
   "name": "python3"
  },
  "language_info": {
   "codemirror_mode": {
    "name": "ipython",
    "version": 3
   },
   "file_extension": ".py",
   "mimetype": "text/x-python",
   "name": "python",
   "nbconvert_exporter": "python",
   "pygments_lexer": "ipython3",
   "version": "3.8.8"
  },
  "toc": {
   "base_numbering": 1,
   "nav_menu": {},
   "number_sections": true,
   "sideBar": true,
   "skip_h1_title": false,
   "title_cell": "Table of Contents",
   "title_sidebar": "Contents",
   "toc_cell": false,
   "toc_position": {},
   "toc_section_display": true,
   "toc_window_display": false
  },
  "varInspector": {
   "cols": {
    "lenName": 16,
    "lenType": 16,
    "lenVar": 40
   },
   "kernels_config": {
    "python": {
     "delete_cmd_postfix": "",
     "delete_cmd_prefix": "del ",
     "library": "var_list.py",
     "varRefreshCmd": "print(var_dic_list())"
    },
    "r": {
     "delete_cmd_postfix": ") ",
     "delete_cmd_prefix": "rm(",
     "library": "var_list.r",
     "varRefreshCmd": "cat(var_dic_list()) "
    }
   },
   "types_to_exclude": [
    "module",
    "function",
    "builtin_function_or_method",
    "instance",
    "_Feature"
   ],
   "window_display": false
  }
 },
 "nbformat": 4,
 "nbformat_minor": 5
}
