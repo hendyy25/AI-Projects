{
 "cells": [
  {
   "cell_type": "code",
   "execution_count": 1,
   "id": "1a66d9b2",
   "metadata": {
    "ExecuteTime": {
     "end_time": "2022-02-16T23:39:37.180893Z",
     "start_time": "2022-02-16T23:39:37.176537Z"
    }
   },
   "outputs": [],
   "source": [
    "import numpy as np"
   ]
  },
  {
   "cell_type": "code",
   "execution_count": 4,
   "id": "0ea4ab30",
   "metadata": {
    "ExecuteTime": {
     "end_time": "2022-02-16T23:40:46.972471Z",
     "start_time": "2022-02-16T23:40:46.966273Z"
    }
   },
   "outputs": [
    {
     "name": "stdout",
     "output_type": "stream",
     "text": [
      "[[0.92352377 0.43067464 0.3784034  0.19080314 0.61495165]\n",
      " [0.68426914 0.28938418 0.65317988 0.25312819 0.01168605]\n",
      " [0.30081009 0.51844123 0.06672319 0.25788804 0.45165484]\n",
      " [0.92404948 0.52046573 0.66561593 0.55163352 0.07231508]\n",
      " [0.026321   0.81595574 0.83984162 0.77717861 0.43231802]] \n",
      "\n",
      "[[0.04744851 0.2528876  0.62055671 0.98158873 0.2181867 ]\n",
      " [0.34832556 0.45317153 0.47032084 0.31448781 0.03543279]\n",
      " [0.56262485 0.31036918 0.23939977 0.95694571 0.92445523]\n",
      " [0.04447685 0.00644296 0.45922062 0.30978834 0.81397986]\n",
      " [0.52640301 0.67175417 0.89081999 0.64873468 0.64846629]]\n"
     ]
    }
   ],
   "source": [
    "arr1 = np.random.rand(5,5)\n",
    "arr2 = np.random.rand(5,5)\n",
    "print(arr1,\"\\n\")\n",
    "print(arr2)"
   ]
  },
  {
   "cell_type": "markdown",
   "id": "922c1d34",
   "metadata": {},
   "source": [
    "### Matrix Multiplication"
   ]
  },
  {
   "cell_type": "code",
   "execution_count": 5,
   "id": "68d3a0d7",
   "metadata": {
    "ExecuteTime": {
     "end_time": "2022-02-16T23:41:35.442389Z",
     "start_time": "2022-02-16T23:41:35.428489Z"
    }
   },
   "outputs": [
    {
     "name": "stdout",
     "output_type": "stream",
     "text": [
      "[[0.73893269 0.96048763 1.50167578 1.86212301 1.12066295]\n",
      " [0.5181726  0.5163918  0.84375418 1.47373366 0.97700693]\n",
      " [0.48162196 0.63678536 0.96724762 0.89506058 0.6484838 ]\n",
      " [0.66223015 0.7282597  1.2953005  1.92547793 1.33130146]\n",
      " [1.02012286 0.93250388 1.34316653 1.60734793 1.72400187]]\n"
     ]
    }
   ],
   "source": [
    "print(arr1.dot(arr2))\n",
    "\n",
    "# or:\n",
    "# print(np.dot(arr1,arr2))\n",
    "# print(arr1 @ arr2)"
   ]
  },
  {
   "cell_type": "markdown",
   "id": "0b1daa74",
   "metadata": {},
   "source": [
    "### QR Factorization "
   ]
  },
  {
   "cell_type": "code",
   "execution_count": 6,
   "id": "cdd49dd8",
   "metadata": {
    "ExecuteTime": {
     "end_time": "2022-02-16T23:42:49.766944Z",
     "start_time": "2022-02-16T23:42:49.750113Z"
    }
   },
   "outputs": [
    {
     "name": "stdout",
     "output_type": "stream",
     "text": [
      "[[-0.28821458 -0.4078493   0.26651573 -0.39855499 -0.72160556]\n",
      " [-0.51237759 -0.23412212 -0.56526153 -0.46401333  0.38448286]\n",
      " [-0.27834205  0.10436086 -0.59064518  0.57401054 -0.48299553]\n",
      " [-0.51275965  0.79926055  0.24812209 -0.18386643 -0.05374644]\n",
      " [-0.56036132 -0.3593566   0.44611934  0.5123969   0.30868265]] \n",
      "\n",
      "[[-1.6735526  -0.99217083 -0.92759554 -0.66299582 -0.89967587]\n",
      " [ 0.          0.59902764  0.01381209 -0.05810807 -0.44625764]\n",
      " [ 0.          0.          0.30098987  0.27802244 -0.21262511]\n",
      " [ 0.          0.          0.          0.11503513  0.24137589]\n",
      " [ 0.          0.          0.          0.         -0.92518369]]\n"
     ]
    }
   ],
   "source": [
    "arr = np.random.rand(5,5)\n",
    "q,r = np.linalg.qr(arr)\n",
    "print(q,\"\\n\")\n",
    "print(r)"
   ]
  },
  {
   "cell_type": "markdown",
   "id": "672e19ae",
   "metadata": {},
   "source": [
    "### Singular Value Decomposition (SVD)"
   ]
  },
  {
   "cell_type": "code",
   "execution_count": 7,
   "id": "6d034cd5",
   "metadata": {
    "ExecuteTime": {
     "end_time": "2022-02-16T23:43:48.871170Z",
     "start_time": "2022-02-16T23:43:48.859439Z"
    }
   },
   "outputs": [
    {
     "name": "stdout",
     "output_type": "stream",
     "text": [
      "[[-0.56638392  0.5843407  -0.12694235 -0.56690162 -0.0162291 ]\n",
      " [-0.41014744 -0.42860826  0.70640245 -0.19966045  0.33046227]\n",
      " [-0.30645538 -0.55026313 -0.22957566 -0.18906642 -0.71752665]\n",
      " [-0.28967403 -0.36090539 -0.65340079  0.04661496  0.59726937]\n",
      " [-0.57720221  0.20444727  0.0724129   0.77513818 -0.13768118]] \n",
      "\n",
      "[2.5533328  1.02110644 0.56487946 0.28847009 0.13662651] \n",
      "\n",
      "[[-0.47158666 -0.46305506 -0.46895593 -0.5247759  -0.26053142]\n",
      " [ 0.0082183  -0.61987748  0.46878412  0.3724498  -0.50715576]\n",
      " [-0.70714071  0.18219518 -0.21575503  0.6469038   0.04149903]\n",
      " [-0.40102684  0.50147223  0.5432883  -0.3732991  -0.39139326]\n",
      " [ 0.34156693  0.34155884 -0.46755682  0.16749525 -0.72111411]]\n"
     ]
    }
   ],
   "source": [
    "arr = np.random.rand(5,5)\n",
    "\n",
    "u,s,v = np.linalg.svd(arr)\n",
    "print(u,\"\\n\")\n",
    "print(s,\"\\n\")\n",
    "print(v)"
   ]
  },
  {
   "cell_type": "markdown",
   "id": "3454d631",
   "metadata": {},
   "source": [
    "### Compute Eigen Values "
   ]
  },
  {
   "cell_type": "code",
   "execution_count": 8,
   "id": "94139160",
   "metadata": {
    "ExecuteTime": {
     "end_time": "2022-02-16T23:45:02.190507Z",
     "start_time": "2022-02-16T23:45:02.176787Z"
    }
   },
   "outputs": [
    {
     "name": "stdout",
     "output_type": "stream",
     "text": [
      "[ 2.6182261 +0.j         -0.47391938+0.31079688j -0.47391938-0.31079688j\n",
      "  0.35258047+0.19200333j  0.35258047-0.19200333j]\n"
     ]
    }
   ],
   "source": [
    "arr = np.random.rand(5,5)\n",
    "print(np.linalg.eigvals(arr))"
   ]
  },
  {
   "cell_type": "markdown",
   "id": "6318a5af",
   "metadata": {},
   "source": [
    "### Eigen Value Decomposition"
   ]
  },
  {
   "cell_type": "code",
   "execution_count": 11,
   "id": "8b226b16",
   "metadata": {
    "ExecuteTime": {
     "end_time": "2022-02-16T23:46:25.568279Z",
     "start_time": "2022-02-16T23:46:25.561249Z"
    }
   },
   "outputs": [
    {
     "name": "stdout",
     "output_type": "stream",
     "text": [
      "[ 2.97137418+0.j          0.67920263+0.j          0.12529723+0.32234032j\n",
      "  0.12529723-0.32234032j -0.0166395 +0.j        ]\n",
      "[[ 0.34541446+0.j         -0.46801317+0.j          0.48478257+0.06969444j\n",
      "   0.48478257-0.06969444j -0.31356635+0.j        ]\n",
      " [ 0.57794235+0.j         -0.30368613+0.j          0.24057201-0.29177059j\n",
      "   0.24057201+0.29177059j -0.0926945 +0.j        ]\n",
      " [ 0.3642063 +0.j          0.69749421+0.j          0.30685449+0.01546801j\n",
      "   0.30685449-0.01546801j -0.64642731+0.j        ]\n",
      " [ 0.38759994+0.j         -0.36329757+0.j         -0.56125278+0.j\n",
      "  -0.56125278-0.j          0.42496724+0.j        ]\n",
      " [ 0.51360641+0.j          0.2650568 +0.j         -0.35274196+0.2886054j\n",
      "  -0.35274196-0.2886054j   0.54278766+0.j        ]]\n"
     ]
    }
   ],
   "source": [
    "arr = np.random.rand(5,5)\n",
    "\n",
    "w,v = np.linalg.eig(arr)\n",
    "print(w)\n",
    "print(v)"
   ]
  },
  {
   "cell_type": "markdown",
   "id": "738d5e8a",
   "metadata": {},
   "source": [
    "### Comopute The Trace & Determinant "
   ]
  },
  {
   "cell_type": "code",
   "execution_count": 13,
   "id": "6b042fe2",
   "metadata": {
    "ExecuteTime": {
     "end_time": "2022-02-16T23:47:09.924866Z",
     "start_time": "2022-02-16T23:47:09.917672Z"
    }
   },
   "outputs": [
    {
     "name": "stdout",
     "output_type": "stream",
     "text": [
      "3.8845317707414706\n",
      "-0.0040164073085581795\n"
     ]
    }
   ],
   "source": [
    "print(np.trace(arr))\n",
    "print(np.linalg.det(arr))"
   ]
  },
  {
   "cell_type": "markdown",
   "id": "11c99960",
   "metadata": {},
   "source": [
    "### Calculate The Inverse/Psedo-Inverse Of A Matrix"
   ]
  },
  {
   "cell_type": "code",
   "execution_count": 17,
   "id": "92ef6341",
   "metadata": {
    "ExecuteTime": {
     "end_time": "2022-02-16T23:48:29.360549Z",
     "start_time": "2022-02-16T23:48:29.353730Z"
    }
   },
   "outputs": [
    {
     "name": "stdout",
     "output_type": "stream",
     "text": [
      "[[-4.19289235  2.32828908  0.40654694  0.98205421 -1.02297548]\n",
      " [ 1.9620151   0.78985362  1.18987062 -0.57043085 -2.47732489]\n",
      " [ 0.06011362  0.13236625 -0.36654269 -0.51571287  1.49038241]\n",
      " [ 0.49308629 -2.00683507  0.62919512  0.18014085  1.29373251]\n",
      " [ 2.00053227 -0.54941914 -1.45957096  0.78658428  0.53436925]] \n",
      "\n",
      "[[-4.19289235  2.32828908  0.40654694  0.98205421 -1.02297548]\n",
      " [ 1.9620151   0.78985362  1.18987062 -0.57043085 -2.47732489]\n",
      " [ 0.06011362  0.13236625 -0.36654269 -0.51571287  1.49038241]\n",
      " [ 0.49308629 -2.00683507  0.62919512  0.18014085  1.29373251]\n",
      " [ 2.00053227 -0.54941914 -1.45957096  0.78658428  0.53436925]]\n"
     ]
    }
   ],
   "source": [
    "arr = np.random.rand(5,5)\n",
    "print(np.linalg.inv(arr),\"\\n\")\n",
    "print(np.linalg.pinv(arr))"
   ]
  },
  {
   "cell_type": "markdown",
   "id": "fe2761dd",
   "metadata": {},
   "source": [
    "### Solve A linear System"
   ]
  },
  {
   "cell_type": "code",
   "execution_count": 24,
   "id": "00566df5",
   "metadata": {
    "ExecuteTime": {
     "end_time": "2022-02-16T23:52:25.588288Z",
     "start_time": "2022-02-16T23:52:25.582276Z"
    }
   },
   "outputs": [
    {
     "name": "stdout",
     "output_type": "stream",
     "text": [
      "[ 0.49666605 -7.55701365  4.61427858  5.55622745  2.34116447]\n"
     ]
    }
   ],
   "source": [
    "# solve a linear system in closed form\n",
    "y = [1,2,3,4,5]\n",
    "print(np.linalg.solve(arr, y))"
   ]
  },
  {
   "cell_type": "code",
   "execution_count": 29,
   "id": "b6c1d7cb",
   "metadata": {
    "ExecuteTime": {
     "end_time": "2022-02-16T23:58:28.402150Z",
     "start_time": "2022-02-16T23:58:28.395529Z"
    }
   },
   "outputs": [
    {
     "name": "stdout",
     "output_type": "stream",
     "text": [
      "[ 0.49666605 -7.55701365  4.61427858  5.55622745  2.34116447]\n",
      "[]\n",
      "5\n",
      "[2.26024189 0.74077712 0.48077983 0.25814249 0.17532471]\n"
     ]
    },
    {
     "name": "stderr",
     "output_type": "stream",
     "text": [
      "<ipython-input-29-1a28477d0c1b>:3: FutureWarning: `rcond` parameter will change to the default of machine precision times ``max(M, N)`` where M and N are the input matrix dimensions.\n",
      "To use the future default and silence this warning we advise to pass `rcond=None`, to keep using the old, explicitly pass `rcond=-1`.\n",
      "  solution,residuals,rank,singular = np.linalg.lstsq(arr,y)\n"
     ]
    }
   ],
   "source": [
    "# calculate the least-squares solution of a linear system \n",
    "y = [1,2,3,4,5]\n",
    "solution,residuals,rank,singular = np.linalg.lstsq(arr,y)\n",
    "print(solution)\n",
    "print(residuals)\n",
    "print(rank)\n",
    "print(singular)"
   ]
  }
 ],
 "metadata": {
  "kernelspec": {
   "display_name": "Python 3",
   "language": "python",
   "name": "python3"
  },
  "language_info": {
   "codemirror_mode": {
    "name": "ipython",
    "version": 3
   },
   "file_extension": ".py",
   "mimetype": "text/x-python",
   "name": "python",
   "nbconvert_exporter": "python",
   "pygments_lexer": "ipython3",
   "version": "3.8.8"
  },
  "toc": {
   "base_numbering": 1,
   "nav_menu": {},
   "number_sections": true,
   "sideBar": true,
   "skip_h1_title": false,
   "title_cell": "Table of Contents",
   "title_sidebar": "Contents",
   "toc_cell": false,
   "toc_position": {},
   "toc_section_display": true,
   "toc_window_display": false
  },
  "varInspector": {
   "cols": {
    "lenName": 16,
    "lenType": 16,
    "lenVar": 40
   },
   "kernels_config": {
    "python": {
     "delete_cmd_postfix": "",
     "delete_cmd_prefix": "del ",
     "library": "var_list.py",
     "varRefreshCmd": "print(var_dic_list())"
    },
    "r": {
     "delete_cmd_postfix": ") ",
     "delete_cmd_prefix": "rm(",
     "library": "var_list.r",
     "varRefreshCmd": "cat(var_dic_list()) "
    }
   },
   "types_to_exclude": [
    "module",
    "function",
    "builtin_function_or_method",
    "instance",
    "_Feature"
   ],
   "window_display": false
  }
 },
 "nbformat": 4,
 "nbformat_minor": 5
}
