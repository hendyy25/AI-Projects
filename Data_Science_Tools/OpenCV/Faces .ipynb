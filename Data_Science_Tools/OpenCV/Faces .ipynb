{
 "cells": [
  {
   "cell_type": "markdown",
   "id": "11e0ac96",
   "metadata": {},
   "source": [
    "### Face Identification "
   ]
  },
  {
   "cell_type": "code",
   "execution_count": 1,
   "id": "098c4f73",
   "metadata": {
    "ExecuteTime": {
     "end_time": "2022-03-09T15:50:02.415226Z",
     "start_time": "2022-03-09T15:50:02.235900Z"
    }
   },
   "outputs": [],
   "source": [
    "import cv2 as cv "
   ]
  },
  {
   "cell_type": "code",
   "execution_count": 2,
   "id": "c4492a4a",
   "metadata": {
    "ExecuteTime": {
     "end_time": "2022-03-09T15:50:55.773592Z",
     "start_time": "2022-03-09T15:50:47.693947Z"
    }
   },
   "outputs": [
    {
     "data": {
      "text/plain": [
       "-1"
      ]
     },
     "execution_count": 2,
     "metadata": {},
     "output_type": "execute_result"
    }
   ],
   "source": [
    "img = cv.imread('group.jpeg')\n",
    "cv.imshow('Group of 6 people', img)\n",
    "cv.waitKey(0)\n",
    "cv.destroyAllWindows()\n",
    "cv.waitKey(1)"
   ]
  },
  {
   "cell_type": "code",
   "execution_count": 4,
   "id": "3903a3d0",
   "metadata": {
    "ExecuteTime": {
     "end_time": "2022-03-09T15:51:59.541652Z",
     "start_time": "2022-03-09T15:51:57.592081Z"
    }
   },
   "outputs": [
    {
     "data": {
      "text/plain": [
       "-1"
      ]
     },
     "execution_count": 4,
     "metadata": {},
     "output_type": "execute_result"
    }
   ],
   "source": [
    "gray = cv.cvtColor(img, cv.COLOR_BGR2GRAY)\n",
    "cv.imshow('Gray People', gray)\n",
    "cv.waitKey(0)\n",
    "cv.destroyAllWindows()\n",
    "cv.waitKey(1)"
   ]
  },
  {
   "cell_type": "code",
   "execution_count": 7,
   "id": "aca42343",
   "metadata": {
    "ExecuteTime": {
     "end_time": "2022-03-09T15:53:12.996692Z",
     "start_time": "2022-03-09T15:53:07.130205Z"
    }
   },
   "outputs": [
    {
     "name": "stdout",
     "output_type": "stream",
     "text": [
      "Number of faces found = 14\n"
     ]
    },
    {
     "data": {
      "text/plain": [
       "-1"
      ]
     },
     "execution_count": 7,
     "metadata": {},
     "output_type": "execute_result"
    }
   ],
   "source": [
    "import matplotlib.pyplot as plt\n",
    "haar_cascade = cv.CascadeClassifier('haar_face.xml')\n",
    "faces_rect = haar_cascade.detectMultiScale(gray, scaleFactor=1.1, minNeighbors=1)\n",
    "# 1.1 and 1 in the above code are conventional values\n",
    "print(f'Number of faces found = {len(faces_rect)}')\n",
    "\n",
    "for (x,y,w,h) in faces_rect:\n",
    "    cv.rectangle(img, (x,y), (x+w,y+h), (0,255,0), thickness=2)\n",
    "\n",
    "#plt.imshow(img , cmap=\"gray\")\n",
    "cv.imshow('Detected Faces', img)\n",
    "cv.waitKey(0)\n",
    "cv.destroyAllWindows()\n",
    "cv.waitKey(1)"
   ]
  },
  {
   "cell_type": "markdown",
   "id": "cd62ef02",
   "metadata": {},
   "source": [
    "### Live Video Face Identification "
   ]
  },
  {
   "cell_type": "code",
   "execution_count": 10,
   "id": "9a8b75c7",
   "metadata": {
    "ExecuteTime": {
     "end_time": "2022-03-09T15:56:10.199810Z",
     "start_time": "2022-03-09T15:56:04.083704Z"
    }
   },
   "outputs": [
    {
     "data": {
      "text/plain": [
       "-1"
      ]
     },
     "execution_count": 10,
     "metadata": {},
     "output_type": "execute_result"
    }
   ],
   "source": [
    "capture = cv.VideoCapture(0)\n",
    "counter = 0 \n",
    "while True:\n",
    "    isTrue, img = capture.read()\n",
    "    if isTrue:    \n",
    "        faces_rect = haar_cascade.detectMultiScale(img, scaleFactor=1.1, minNeighbors=1)\n",
    "        for (x,y,w,h) in faces_rect:\n",
    "            cv.rectangle(img, (x,y), (x+w,y+h), (0,255,0), thickness=2)\n",
    "        cv.imshow('my video', img)\n",
    "        if cv.waitKey(20) & 0xFF==ord('x'):\n",
    "            break            \n",
    "    else:\n",
    "        break\n",
    "\n",
    "capture.release()\n",
    "cv.destroyAllWindows()\n",
    "cv.waitKey(1) # I added this for my device to quite the vedio "
   ]
  },
  {
   "cell_type": "code",
   "execution_count": null,
   "id": "c18f61bc",
   "metadata": {},
   "outputs": [],
   "source": []
  }
 ],
 "metadata": {
  "kernelspec": {
   "display_name": "Python 3",
   "language": "python",
   "name": "python3"
  },
  "language_info": {
   "codemirror_mode": {
    "name": "ipython",
    "version": 3
   },
   "file_extension": ".py",
   "mimetype": "text/x-python",
   "name": "python",
   "nbconvert_exporter": "python",
   "pygments_lexer": "ipython3",
   "version": "3.8.8"
  },
  "toc": {
   "base_numbering": 1,
   "nav_menu": {},
   "number_sections": true,
   "sideBar": true,
   "skip_h1_title": false,
   "title_cell": "Table of Contents",
   "title_sidebar": "Contents",
   "toc_cell": false,
   "toc_position": {},
   "toc_section_display": true,
   "toc_window_display": false
  },
  "varInspector": {
   "cols": {
    "lenName": 16,
    "lenType": 16,
    "lenVar": 40
   },
   "kernels_config": {
    "python": {
     "delete_cmd_postfix": "",
     "delete_cmd_prefix": "del ",
     "library": "var_list.py",
     "varRefreshCmd": "print(var_dic_list())"
    },
    "r": {
     "delete_cmd_postfix": ") ",
     "delete_cmd_prefix": "rm(",
     "library": "var_list.r",
     "varRefreshCmd": "cat(var_dic_list()) "
    }
   },
   "types_to_exclude": [
    "module",
    "function",
    "builtin_function_or_method",
    "instance",
    "_Feature"
   ],
   "window_display": false
  }
 },
 "nbformat": 4,
 "nbformat_minor": 5
}
