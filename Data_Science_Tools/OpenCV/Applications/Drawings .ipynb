{
 "cells": [
  {
   "cell_type": "code",
   "execution_count": 4,
   "id": "20bd647d",
   "metadata": {
    "ExecuteTime": {
     "end_time": "2022-03-10T20:22:46.946526Z",
     "start_time": "2022-03-10T20:22:46.942425Z"
    }
   },
   "outputs": [],
   "source": [
    "import numpy as np\n",
    "import cv2 as cv\n",
    "\n",
    "# draw a line by creating a black image \n",
    "img = np.zeros((512,512),np.uint8)"
   ]
  },
  {
   "cell_type": "code",
   "execution_count": 5,
   "id": "9b81ec20",
   "metadata": {
    "ExecuteTime": {
     "end_time": "2022-03-10T20:22:54.574472Z",
     "start_time": "2022-03-10T20:22:48.533581Z"
    }
   },
   "outputs": [
    {
     "data": {
      "text/plain": [
       "-1"
      ]
     },
     "execution_count": 5,
     "metadata": {},
     "output_type": "execute_result"
    }
   ],
   "source": [
    "# display the original blank image \n",
    "cv.imshow('image',img)\n",
    "cv.waitKey(0)\n",
    "cv.destroyAllWindows()\n",
    "cv.waitKey(1)"
   ]
  },
  {
   "cell_type": "code",
   "execution_count": 14,
   "id": "44d72dc2",
   "metadata": {
    "ExecuteTime": {
     "end_time": "2022-03-10T20:24:58.235844Z",
     "start_time": "2022-03-10T20:24:55.501825Z"
    }
   },
   "outputs": [
    {
     "data": {
      "text/plain": [
       "-1"
      ]
     },
     "execution_count": 14,
     "metadata": {},
     "output_type": "execute_result"
    }
   ],
   "source": [
    "# Draw a diagonal blue line with thickness of 5 px\n",
    "img = cv.line(img,(0,0),(200,234),(255,0,0),15)\n",
    "cv.imshow('line',img)\n",
    "cv.waitKey(0)\n",
    "cv.destroyAllWindows()\n",
    "cv.waitKey(1)"
   ]
  },
  {
   "cell_type": "code",
   "execution_count": 16,
   "id": "10133141",
   "metadata": {
    "ExecuteTime": {
     "end_time": "2022-03-10T20:25:15.171604Z",
     "start_time": "2022-03-10T20:25:12.734235Z"
    }
   },
   "outputs": [
    {
     "data": {
      "text/plain": [
       "-1"
      ]
     },
     "execution_count": 16,
     "metadata": {},
     "output_type": "execute_result"
    }
   ],
   "source": [
    "# draw a rectangle \n",
    "img = cv.rectangle(img,(384,0),(510,128),(12,55,25),7)\n",
    "cv.imshow('rec',img)\n",
    "cv.waitKey(0)\n",
    "cv.destroyAllWindows()\n",
    "cv.waitKey(1)"
   ]
  },
  {
   "cell_type": "code",
   "execution_count": 17,
   "id": "23e35c5e",
   "metadata": {
    "ExecuteTime": {
     "end_time": "2022-03-10T20:25:44.280268Z",
     "start_time": "2022-03-10T20:25:41.638449Z"
    }
   },
   "outputs": [
    {
     "data": {
      "text/plain": [
       "-1"
      ]
     },
     "execution_count": 17,
     "metadata": {},
     "output_type": "execute_result"
    }
   ],
   "source": [
    "# draw a circle\n",
    "img = cv.circle(img,(447,63), 63, (0,0,255), -1)\n",
    "cv.imshow('cir',img)\n",
    "cv.waitKey(0)\n",
    "cv.destroyAllWindows()\n",
    "cv.waitKey(1)"
   ]
  },
  {
   "cell_type": "code",
   "execution_count": 18,
   "id": "1c8ff547",
   "metadata": {
    "ExecuteTime": {
     "end_time": "2022-03-10T20:26:24.168594Z",
     "start_time": "2022-03-10T20:26:20.903760Z"
    }
   },
   "outputs": [
    {
     "data": {
      "text/plain": [
       "-1"
      ]
     },
     "execution_count": 18,
     "metadata": {},
     "output_type": "execute_result"
    }
   ],
   "source": [
    "# draw an ellipse\n",
    "img = cv.ellipse(img,(256,256),(100,50),0,0,180,255,-1)\n",
    "cv.imshow('elip',img)\n",
    "cv.waitKey(0)\n",
    "cv.destroyAllWindows()\n",
    "cv.waitKey(1)"
   ]
  },
  {
   "cell_type": "code",
   "execution_count": null,
   "id": "33042bee",
   "metadata": {},
   "outputs": [],
   "source": []
  }
 ],
 "metadata": {
  "kernelspec": {
   "display_name": "Python 3",
   "language": "python",
   "name": "python3"
  },
  "language_info": {
   "codemirror_mode": {
    "name": "ipython",
    "version": 3
   },
   "file_extension": ".py",
   "mimetype": "text/x-python",
   "name": "python",
   "nbconvert_exporter": "python",
   "pygments_lexer": "ipython3",
   "version": "3.8.8"
  },
  "toc": {
   "base_numbering": 1,
   "nav_menu": {},
   "number_sections": true,
   "sideBar": true,
   "skip_h1_title": false,
   "title_cell": "Table of Contents",
   "title_sidebar": "Contents",
   "toc_cell": false,
   "toc_position": {},
   "toc_section_display": true,
   "toc_window_display": false
  },
  "varInspector": {
   "cols": {
    "lenName": 16,
    "lenType": 16,
    "lenVar": 40
   },
   "kernels_config": {
    "python": {
     "delete_cmd_postfix": "",
     "delete_cmd_prefix": "del ",
     "library": "var_list.py",
     "varRefreshCmd": "print(var_dic_list())"
    },
    "r": {
     "delete_cmd_postfix": ") ",
     "delete_cmd_prefix": "rm(",
     "library": "var_list.r",
     "varRefreshCmd": "cat(var_dic_list()) "
    }
   },
   "types_to_exclude": [
    "module",
    "function",
    "builtin_function_or_method",
    "instance",
    "_Feature"
   ],
   "window_display": false
  }
 },
 "nbformat": 4,
 "nbformat_minor": 5
}
