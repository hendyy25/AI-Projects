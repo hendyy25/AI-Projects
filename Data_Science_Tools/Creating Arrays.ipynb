{
 "cells": [
  {
   "cell_type": "markdown",
   "id": "bfe5895a",
   "metadata": {},
   "source": [
    "# Creating an array from Iterable\n",
    "\n",
    "For example:\n",
    "*list \n",
    "*tuple\n",
    "*range iterator"
   ]
  },
  {
   "cell_type": "code",
   "execution_count": 1,
   "id": "5d5d2fff",
   "metadata": {
    "ExecuteTime": {
     "end_time": "2022-02-13T22:32:29.687488Z",
     "start_time": "2022-02-13T22:32:29.679077Z"
    }
   },
   "outputs": [],
   "source": [
    "import numpy as np"
   ]
  },
  {
   "cell_type": "code",
   "execution_count": 3,
   "id": "d874654f",
   "metadata": {
    "ExecuteTime": {
     "end_time": "2022-02-13T22:34:32.772024Z",
     "start_time": "2022-02-13T22:34:32.764161Z"
    }
   },
   "outputs": [
    {
     "name": "stdout",
     "output_type": "stream",
     "text": [
      "[1 2 3 4]\n",
      "<class 'numpy.ndarray'>\n",
      "[1, 2, 3, 4]\n",
      "<class 'list'>\n",
      "int64\n"
     ]
    }
   ],
   "source": [
    "mylist = [1,2,3,4]\n",
    "arr = np.array(mylist)\n",
    "print(arr)\n",
    "print(type(arr))\n",
    "\n",
    "l = [1,2,3,4]\n",
    "print(l)\n",
    "print(type(l))\n",
    "print(arr.dtype)\n",
    "\n",
    "# notice in the numpy array there are no commans separating the values"
   ]
  },
  {
   "cell_type": "code",
   "execution_count": 4,
   "id": "7f96387f",
   "metadata": {
    "ExecuteTime": {
     "end_time": "2022-02-13T22:35:38.083585Z",
     "start_time": "2022-02-13T22:35:38.076378Z"
    }
   },
   "outputs": [
    {
     "name": "stdout",
     "output_type": "stream",
     "text": [
      "[1 2 3]\n",
      "<class 'numpy.ndarray'>\n",
      "int64\n"
     ]
    }
   ],
   "source": [
    "arr = np.array((1,2,3))\n",
    "print(arr)\n",
    "print(type(arr))\n",
    "print(arr.dtype)"
   ]
  },
  {
   "cell_type": "code",
   "execution_count": 8,
   "id": "c0ee2405",
   "metadata": {
    "ExecuteTime": {
     "end_time": "2022-02-13T22:38:13.704178Z",
     "start_time": "2022-02-13T22:38:13.697376Z"
    }
   },
   "outputs": [
    {
     "name": "stdout",
     "output_type": "stream",
     "text": [
      "[ 2  4  6  8 10]\n",
      "<class 'numpy.ndarray'>\n",
      "int64\n",
      "int8\n"
     ]
    }
   ],
   "source": [
    "arr = np.array(range(2,11,2))\n",
    "print(arr)\n",
    "print(type(arr))\n",
    "print(arr.dtype)\n",
    "\n",
    "arr = arr.astype(np.int8)\n",
    "print(arr.dtype)"
   ]
  },
  {
   "cell_type": "markdown",
   "id": "ac691a2b",
   "metadata": {},
   "source": [
    "# Creating An Array With A Previously Specified Value"
   ]
  },
  {
   "cell_type": "code",
   "execution_count": 10,
   "id": "56f64d79",
   "metadata": {
    "ExecuteTime": {
     "end_time": "2022-02-13T22:41:23.685541Z",
     "start_time": "2022-02-13T22:41:23.680134Z"
    }
   },
   "outputs": [
    {
     "name": "stdout",
     "output_type": "stream",
     "text": [
      "[[1 2 3]\n",
      " [4 5 6]]\n",
      "int16\n"
     ]
    }
   ],
   "source": [
    "arr = np.array([[1,2,3] ,[4,5,6]], dtype = \"i2\") # 2D array # \"i2\" -> int16\n",
    "print(arr)\n",
    "print(arr.dtype)"
   ]
  },
  {
   "cell_type": "code",
   "execution_count": 12,
   "id": "997e396c",
   "metadata": {
    "ExecuteTime": {
     "end_time": "2022-02-13T22:43:13.135647Z",
     "start_time": "2022-02-13T22:43:13.128130Z"
    }
   },
   "outputs": [
    {
     "name": "stdout",
     "output_type": "stream",
     "text": [
      "[ 0  3  6  9 12 15 18]\n",
      "<class 'numpy.ndarray'>\n",
      "int64\n"
     ]
    }
   ],
   "source": [
    "arr= np.arange(0,21,3)\n",
    "print(arr)\n",
    "print(type(arr))\n",
    "print(arr.dtype)"
   ]
  },
  {
   "cell_type": "code",
   "execution_count": 14,
   "id": "ef6fe5fe",
   "metadata": {
    "ExecuteTime": {
     "end_time": "2022-02-13T22:45:26.131176Z",
     "start_time": "2022-02-13T22:45:26.125805Z"
    }
   },
   "outputs": [
    {
     "name": "stdout",
     "output_type": "stream",
     "text": [
      "[0.    0.625 1.25  1.875 2.5   3.125 3.75  4.375]\n",
      "8\n",
      "The step size is: 0.625\n"
     ]
    }
   ],
   "source": [
    "arr , step_size = np.linspace(0,5,8, endpoint = False, retstep = True) # creating an array of 8 numbers from 0 to 5\n",
    "print(arr)\n",
    "print(arr.size)\n",
    "print('The step size is:', step_size)"
   ]
  },
  {
   "cell_type": "code",
   "execution_count": 18,
   "id": "99d4ba82",
   "metadata": {
    "ExecuteTime": {
     "end_time": "2022-02-13T22:50:38.330880Z",
     "start_time": "2022-02-13T22:50:38.320704Z"
    }
   },
   "outputs": [
    {
     "name": "stdout",
     "output_type": "stream",
     "text": [
      "[[0.55998767 0.98069211 0.86309944 0.59633781]\n",
      " [0.05278036 0.89321489 0.02239408 0.17055076]\n",
      " [0.92285963 0.55583731 0.04551124 0.36512127]]\n"
     ]
    }
   ],
   "source": [
    "arr = np.random.rand(3,4)\n",
    "print(arr) # A 2D array of 3 row and 4 columns with random numbers from 0 to 1"
   ]
  },
  {
   "cell_type": "code",
   "execution_count": 20,
   "id": "687b15be",
   "metadata": {
    "ExecuteTime": {
     "end_time": "2022-02-13T22:51:06.856104Z",
     "start_time": "2022-02-13T22:51:06.851619Z"
    }
   },
   "outputs": [
    {
     "name": "stdout",
     "output_type": "stream",
     "text": [
      "[[0. 0. 0. 0.]\n",
      " [0. 0. 0. 0.]\n",
      " [0. 0. 0. 0.]]\n"
     ]
    }
   ],
   "source": [
    "zeros = np.zeros((3,4))\n",
    "print(zeros) # Float by default"
   ]
  },
  {
   "cell_type": "code",
   "execution_count": 21,
   "id": "669551e7",
   "metadata": {
    "ExecuteTime": {
     "end_time": "2022-02-13T22:52:27.299461Z",
     "start_time": "2022-02-13T22:52:21.795684Z"
    }
   },
   "outputs": [
    {
     "name": "stdout",
     "output_type": "stream",
     "text": [
      "[0. 0. 0. 0. 0.]\n",
      "1\n",
      "2\n",
      "3\n",
      "4\n",
      "5\n",
      "[1. 2. 3. 4. 5.]\n"
     ]
    }
   ],
   "source": [
    "empty = np.zeros(5)\n",
    "print(empty)\n",
    "for i in range(5):\n",
    "    empty[i] = input()\n",
    "print(empty)"
   ]
  },
  {
   "cell_type": "code",
   "execution_count": 25,
   "id": "ca5d8aad",
   "metadata": {
    "ExecuteTime": {
     "end_time": "2022-02-13T22:57:34.598697Z",
     "start_time": "2022-02-13T22:57:34.589751Z"
    }
   },
   "outputs": [
    {
     "name": "stdout",
     "output_type": "stream",
     "text": [
      "[[1.+0.j 2.+0.j]\n",
      " [3.+0.j 4.+0.j]\n",
      " [5.+0.j 6.+0.j]] \n",
      "\n",
      "[[0.+0.j 0.+0.j]\n",
      " [0.+0.j 0.+0.j]\n",
      " [0.+0.j 0.+0.j]]\n",
      "Data Type: complex64\n"
     ]
    }
   ],
   "source": [
    "arr = np.array([[1,2], [3,4], [5,6]], dtype = np.complex64)\n",
    "print(arr,\"\\n\")\n",
    "\n",
    "zeros = np.zeros_like(arr) # Creates an array of zeros with the same dimension and data type as arr\n",
    "print(zeros)\n",
    "print('Data Type:', zeros.dtype)"
   ]
  },
  {
   "cell_type": "code",
   "execution_count": 26,
   "id": "1bbc15dc",
   "metadata": {
    "ExecuteTime": {
     "end_time": "2022-02-13T22:58:15.329213Z",
     "start_time": "2022-02-13T22:58:15.317803Z"
    }
   },
   "outputs": [
    {
     "name": "stdout",
     "output_type": "stream",
     "text": [
      "[[1. 1. 1.]\n",
      " [1. 1. 1.]]\n"
     ]
    }
   ],
   "source": [
    "ones = np.ones((2,3))\n",
    "print(ones)"
   ]
  },
  {
   "cell_type": "code",
   "execution_count": 27,
   "id": "1a7c8f6e",
   "metadata": {
    "ExecuteTime": {
     "end_time": "2022-02-13T22:59:28.323118Z",
     "start_time": "2022-02-13T22:59:28.317444Z"
    }
   },
   "outputs": [
    {
     "name": "stdout",
     "output_type": "stream",
     "text": [
      "[[1 1 1]\n",
      " [1 1 1]]\n",
      "The data type is: int64\n"
     ]
    }
   ],
   "source": [
    "arr = [[1,2,3],[4,5,6]]\n",
    "ones = np.ones_like(arr)\n",
    "print(ones)\n",
    "print('The data type is:', ones.dtype)"
   ]
  },
  {
   "cell_type": "code",
   "execution_count": 30,
   "id": "fc1bb294",
   "metadata": {
    "ExecuteTime": {
     "end_time": "2022-02-13T23:02:21.243991Z",
     "start_time": "2022-02-13T23:02:21.238545Z"
    }
   },
   "outputs": [
    {
     "name": "stdout",
     "output_type": "stream",
     "text": [
      "[[ 3.45126646e-31 -6.90253292e-31  1.72563323e-31]\n",
      " [-6.90253292e-31  1.50130091e-30 -4.65920972e-31]\n",
      " [ 1.72563323e-31 -4.65920972e-31  2.67473151e-31]]\n",
      "float64\n"
     ]
    }
   ],
   "source": [
    "empty = np.empty((3,3)) # Takes 3 * 3 places in the meomry. The random numbers are garbage of the previously used locations\n",
    "print(empty)\n",
    "print(empty.dtype)"
   ]
  },
  {
   "cell_type": "code",
   "execution_count": 36,
   "id": "b49601e6",
   "metadata": {
    "ExecuteTime": {
     "end_time": "2022-02-13T23:06:59.706340Z",
     "start_time": "2022-02-13T23:06:59.696312Z"
    }
   },
   "outputs": [
    {
     "name": "stdout",
     "output_type": "stream",
     "text": [
      "[[1 2 3]\n",
      " [4 5 6]]\n",
      "Data Type is: int64\n"
     ]
    }
   ],
   "source": [
    "new_arr = np.array([[1,2,3], [4,5,6]], dtype = np.int64)\n",
    "empty = np.empty_like(new_arr)\n",
    "print(empty)\n",
    "print('Data Type is:', empty.dtype)\n",
    "\n",
    "???? why this output?"
   ]
  },
  {
   "cell_type": "code",
   "execution_count": 37,
   "id": "5d8f91da",
   "metadata": {
    "ExecuteTime": {
     "end_time": "2022-02-13T23:08:56.290531Z",
     "start_time": "2022-02-13T23:08:56.280030Z"
    }
   },
   "outputs": [
    {
     "name": "stdout",
     "output_type": "stream",
     "text": [
      "[[6 6 6 6]\n",
      " [6 6 6 6]\n",
      " [6 6 6 6]\n",
      " [6 6 6 6]]\n"
     ]
    }
   ],
   "source": [
    "full = np.full((4,4), 6)\n",
    "print(full)"
   ]
  },
  {
   "cell_type": "code",
   "execution_count": 38,
   "id": "fcb2aff9",
   "metadata": {
    "ExecuteTime": {
     "end_time": "2022-02-13T23:10:55.259556Z",
     "start_time": "2022-02-13T23:10:55.251078Z"
    }
   },
   "outputs": [
    {
     "name": "stdout",
     "output_type": "stream",
     "text": [
      "[[5. 5.]\n",
      " [5. 5.]]\n",
      "The data type is: float64\n"
     ]
    }
   ],
   "source": [
    "arr = np.array([[1,2],[3,4]], dtype = np.float64)\n",
    "full = np.full_like(arr,5) # Creates 5-valued array with the same data type\n",
    "print(full)\n",
    "print('The data type is:', full.dtype)"
   ]
  },
  {
   "cell_type": "code",
   "execution_count": null,
   "id": "82f8d1b4",
   "metadata": {},
   "outputs": [],
   "source": []
  }
 ],
 "metadata": {
  "kernelspec": {
   "display_name": "Python 3",
   "language": "python",
   "name": "python3"
  },
  "language_info": {
   "codemirror_mode": {
    "name": "ipython",
    "version": 3
   },
   "file_extension": ".py",
   "mimetype": "text/x-python",
   "name": "python",
   "nbconvert_exporter": "python",
   "pygments_lexer": "ipython3",
   "version": "3.8.8"
  },
  "toc": {
   "base_numbering": 1,
   "nav_menu": {},
   "number_sections": true,
   "sideBar": true,
   "skip_h1_title": false,
   "title_cell": "Table of Contents",
   "title_sidebar": "Contents",
   "toc_cell": false,
   "toc_position": {},
   "toc_section_display": true,
   "toc_window_display": false
  },
  "varInspector": {
   "cols": {
    "lenName": 16,
    "lenType": 16,
    "lenVar": 40
   },
   "kernels_config": {
    "python": {
     "delete_cmd_postfix": "",
     "delete_cmd_prefix": "del ",
     "library": "var_list.py",
     "varRefreshCmd": "print(var_dic_list())"
    },
    "r": {
     "delete_cmd_postfix": ") ",
     "delete_cmd_prefix": "rm(",
     "library": "var_list.r",
     "varRefreshCmd": "cat(var_dic_list()) "
    }
   },
   "types_to_exclude": [
    "module",
    "function",
    "builtin_function_or_method",
    "instance",
    "_Feature"
   ],
   "window_display": false
  }
 },
 "nbformat": 4,
 "nbformat_minor": 5
}
