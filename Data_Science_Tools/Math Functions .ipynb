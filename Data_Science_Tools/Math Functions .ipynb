{
 "cells": [
  {
   "cell_type": "code",
   "execution_count": 2,
   "id": "fa89c545",
   "metadata": {
    "ExecuteTime": {
     "end_time": "2022-02-15T21:05:14.840867Z",
     "start_time": "2022-02-15T21:05:14.837971Z"
    }
   },
   "outputs": [],
   "source": [
    "import numpy as np"
   ]
  },
  {
   "cell_type": "code",
   "execution_count": 5,
   "id": "9bbc2676",
   "metadata": {
    "ExecuteTime": {
     "end_time": "2022-02-15T21:06:48.036889Z",
     "start_time": "2022-02-15T21:06:48.031995Z"
    }
   },
   "outputs": [
    {
     "name": "stdout",
     "output_type": "stream",
     "text": [
      "[[0.84231371 0.41435028 0.5828768  0.43642238 0.54546653]\n",
      " [0.50586142 0.10403926 0.65801292 0.92989077 0.70861718]\n",
      " [0.06331533 0.44156137 0.59243903 0.72095692 0.62227475]\n",
      " [0.28879635 0.54234453 0.10333645 0.75340938 0.4188741 ]\n",
      " [0.22817204 0.44600673 0.11994295 0.42492636 0.89898174]]\n"
     ]
    }
   ],
   "source": [
    "arr = np.random.rand(5,5)\n",
    "print(arr)"
   ]
  },
  {
   "cell_type": "markdown",
   "id": "07c68996",
   "metadata": {
    "ExecuteTime": {
     "end_time": "2022-02-15T21:06:23.253661Z",
     "start_time": "2022-02-15T21:06:23.249132Z"
    }
   },
   "source": [
    "### Element-Wise Addition, Subraction, Multiplication, and Division"
   ]
  },
  {
   "cell_type": "code",
   "execution_count": 7,
   "id": "e5bb11ab",
   "metadata": {
    "ExecuteTime": {
     "end_time": "2022-02-15T21:08:00.780652Z",
     "start_time": "2022-02-15T21:08:00.769268Z"
    }
   },
   "outputs": [
    {
     "name": "stdout",
     "output_type": "stream",
     "text": [
      "[[10.84231371 10.41435028 10.5828768  10.43642238 10.54546653]\n",
      " [10.50586142 10.10403926 10.65801292 10.92989077 10.70861718]\n",
      " [10.06331533 10.44156137 10.59243903 10.72095692 10.62227475]\n",
      " [10.28879635 10.54234453 10.10333645 10.75340938 10.4188741 ]\n",
      " [10.22817204 10.44600673 10.11994295 10.42492636 10.89898174]] \n",
      "\n",
      "[[-9.15768629 -9.58564972 -9.4171232  -9.56357762 -9.45453347]\n",
      " [-9.49413858 -9.89596074 -9.34198708 -9.07010923 -9.29138282]\n",
      " [-9.93668467 -9.55843863 -9.40756097 -9.27904308 -9.37772525]\n",
      " [-9.71120365 -9.45765547 -9.89666355 -9.24659062 -9.5811259 ]\n",
      " [-9.77182796 -9.55399327 -9.88005705 -9.57507364 -9.10101826]] \n",
      "\n",
      "[[8.42313713 4.14350282 5.828768   4.36422385 5.45466531]\n",
      " [5.05861424 1.0403926  6.58012918 9.29890771 7.08617182]\n",
      " [0.63315333 4.41561367 5.92439031 7.20956917 6.22274751]\n",
      " [2.88796348 5.42344529 1.0333645  7.53409384 4.18874101]\n",
      " [2.28172035 4.46006733 1.1994295  4.24926356 8.98981743]] \n",
      "\n",
      "[[0.08423137 0.04143503 0.05828768 0.04364224 0.05454665]\n",
      " [0.05058614 0.01040393 0.06580129 0.09298908 0.07086172]\n",
      " [0.00633153 0.04415614 0.0592439  0.07209569 0.06222748]\n",
      " [0.02887963 0.05423445 0.01033364 0.07534094 0.04188741]\n",
      " [0.0228172  0.04460067 0.0119943  0.04249264 0.08989817]] \n",
      "\n"
     ]
    }
   ],
   "source": [
    "print(arr+10, \"\\n\")\n",
    "print(arr-10, \"\\n\")\n",
    "print(arr*10, \"\\n\")\n",
    "print(arr/10, \"\\n\")"
   ]
  },
  {
   "cell_type": "code",
   "execution_count": 9,
   "id": "bcf860e9",
   "metadata": {
    "ExecuteTime": {
     "end_time": "2022-02-15T21:10:56.273481Z",
     "start_time": "2022-02-15T21:10:56.266346Z"
    }
   },
   "outputs": [
    {
     "name": "stdout",
     "output_type": "stream",
     "text": [
      "[ 6  8 10]\n",
      "[1 2 3]\n",
      "[ 5 12 21]\n"
     ]
    }
   ],
   "source": [
    "# the above operations can be performed using numpy built-in functions\n",
    "# this would save memory as the output can be stored in the original array rather than assigning new memory\n",
    "\n",
    "arr1 = np.array([1,2,3])\n",
    "np.add(arr1,[5,6,7],out =arr1)\n",
    "print(arr1)\n",
    "\n",
    "np.subtract(arr1,[5,6,7],out =arr1)\n",
    "print(arr1)\n",
    "\n",
    "np.multiply(arr1,[5,6,7],out =arr1)\n",
    "print(arr1)\n",
    "\n",
    "\n",
    "\n"
   ]
  },
  {
   "cell_type": "markdown",
   "id": "41edd1b0",
   "metadata": {},
   "source": [
    "### Element-Wise Exponentiation "
   ]
  },
  {
   "cell_type": "code",
   "execution_count": 10,
   "id": "2c6ee945",
   "metadata": {
    "ExecuteTime": {
     "end_time": "2022-02-15T21:12:09.089053Z",
     "start_time": "2022-02-15T21:12:09.084222Z"
    }
   },
   "outputs": [
    {
     "name": "stdout",
     "output_type": "stream",
     "text": [
      "[[2.32173259 1.51338715 1.7911839  1.54716215 1.72541315]\n",
      " [1.6584135  1.10964402 1.93095156 2.53423235 2.03118056]\n",
      " [1.06536273 1.55513346 1.80839377 2.05640007 1.86316145]\n",
      " [1.33481986 1.72003481 1.10886442 2.12423    1.52024895]\n",
      " [1.25630143 1.56206198 1.12743253 1.52947778 2.45709988]]\n"
     ]
    }
   ],
   "source": [
    "print(np.exp(arr))"
   ]
  },
  {
   "cell_type": "markdown",
   "id": "46ef5dbf",
   "metadata": {},
   "source": [
    "### Element-Wise Logarithm"
   ]
  },
  {
   "cell_type": "code",
   "execution_count": 11,
   "id": "99bf7c18",
   "metadata": {
    "ExecuteTime": {
     "end_time": "2022-02-15T21:12:34.687681Z",
     "start_time": "2022-02-15T21:12:34.682979Z"
    }
   },
   "outputs": [
    {
     "name": "stdout",
     "output_type": "stream",
     "text": [
      "[[-0.17160275 -0.88104357 -0.53977944 -0.82914473 -0.60611383]\n",
      " [-0.68149251 -2.26298695 -0.41853072 -0.07268815 -0.34443984]\n",
      " [-2.75962775 -0.81743827 -0.52350731 -0.3271759  -0.47437356]\n",
      " [-1.24203352 -0.61185382 -2.26976511 -0.28314653 -0.87018488]\n",
      " [-1.47765539 -0.80742123 -2.12073906 -0.85583941 -0.10649255]]\n"
     ]
    }
   ],
   "source": [
    "print(np.log(arr)) # natural log"
   ]
  },
  {
   "cell_type": "code",
   "execution_count": 12,
   "id": "983937e8",
   "metadata": {
    "ExecuteTime": {
     "end_time": "2022-02-15T21:13:11.121677Z",
     "start_time": "2022-02-15T21:13:11.116709Z"
    }
   },
   "outputs": [
    {
     "name": "stdout",
     "output_type": "stream",
     "text": [
      "[[-0.24757044 -1.27107719 -0.77873711 -1.19620299 -0.87443742]\n",
      " [-0.98318587 -3.26480005 -0.60381219 -0.10486683 -0.49692165]\n",
      " [-3.98130127 -1.17931414 -0.7552614  -0.47201505 -0.68437638]\n",
      " [-1.7918756  -0.88271847 -3.27457887 -0.40849409 -1.25541141]\n",
      " [-2.13180611 -1.16486261 -3.05957973 -1.23471527 -0.15363628]]\n"
     ]
    }
   ],
   "source": [
    "print(np.log2(arr)) # base 2"
   ]
  },
  {
   "cell_type": "code",
   "execution_count": 14,
   "id": "be45817c",
   "metadata": {
    "ExecuteTime": {
     "end_time": "2022-02-15T21:14:03.640532Z",
     "start_time": "2022-02-15T21:14:03.636121Z"
    }
   },
   "outputs": [
    {
     "name": "stdout",
     "output_type": "stream",
     "text": [
      "[[-0.07452613 -0.38263236 -0.23442323 -0.36009298 -0.26323189]\n",
      " [-0.29596844 -0.98280275 -0.18176558 -0.03156806 -0.14958832]\n",
      " [-1.1984911  -0.35500893 -0.22735634 -0.14209069 -0.20601782]\n",
      " [-0.5394083  -0.26572474 -0.98574646 -0.12296897 -0.37791649]\n",
      " [-0.64173758 -0.35065859 -0.92102527 -0.37168633 -0.04624913]]\n"
     ]
    }
   ],
   "source": [
    "print(np.log10(arr)) # base 10"
   ]
  },
  {
   "cell_type": "markdown",
   "id": "9b7a39e9",
   "metadata": {},
   "source": [
    "### Element-Wise Square Root"
   ]
  },
  {
   "cell_type": "code",
   "execution_count": 15,
   "id": "2cbe9faf",
   "metadata": {
    "ExecuteTime": {
     "end_time": "2022-02-15T21:14:28.938565Z",
     "start_time": "2022-02-15T21:14:28.933508Z"
    }
   },
   "outputs": [
    {
     "name": "stdout",
     "output_type": "stream",
     "text": [
      "[[0.91777651 0.64370046 0.76346369 0.66062272 0.73855706]\n",
      " [0.71123936 0.32255117 0.81117995 0.96430844 0.84179403]\n",
      " [0.25162538 0.66450084 0.76970061 0.84909182 0.78884393]\n",
      " [0.53739776 0.73644045 0.32145987 0.86799158 0.64720484]\n",
      " [0.47767357 0.66783735 0.34632781 0.65186376 0.94814648]]\n"
     ]
    }
   ],
   "source": [
    "print(np.sqrt(arr))"
   ]
  },
  {
   "cell_type": "markdown",
   "id": "e8ef2a0e",
   "metadata": {},
   "source": [
    "### Element-Wise Sine and Cosine"
   ]
  },
  {
   "cell_type": "code",
   "execution_count": 16,
   "id": "eebbdc86",
   "metadata": {
    "ExecuteTime": {
     "end_time": "2022-02-15T21:15:11.119497Z",
     "start_time": "2022-02-15T21:15:11.112701Z"
    }
   },
   "outputs": [
    {
     "name": "stdout",
     "output_type": "stream",
     "text": [
      "[[0.74618544 0.40259528 0.550428   0.42269989 0.51881698]\n",
      " [0.48456116 0.10385167 0.61154586 0.80155464 0.65078447]\n",
      " [0.06327304 0.42735159 0.55838606 0.66010379 0.58288503]\n",
      " [0.28479863 0.5161455  0.10315264 0.6841294  0.40673215]\n",
      " [0.22619732 0.43136635 0.11965557 0.41225369 0.78269355]] \n",
      "\n",
      "[[0.66573815 0.91537809 0.83488264 0.90626972 0.85488534]\n",
      " [0.87475739 0.9945928  0.79120898 0.59792154 0.75926252]\n",
      " [0.99799625 0.90408551 0.82958123 0.75117441 0.81255464]\n",
      " [0.95858737 0.85650092 0.99466554 0.72936065 0.91354746]\n",
      " [0.9740815  0.90217685 0.99281546 0.9110691  0.62240727]]\n"
     ]
    }
   ],
   "source": [
    "print(np.sin(arr), \"\\n\")\n",
    "print(np.cos(arr))"
   ]
  },
  {
   "cell_type": "markdown",
   "id": "b9610f5c",
   "metadata": {},
   "source": [
    "### Sume Along A specified Axis"
   ]
  },
  {
   "cell_type": "code",
   "execution_count": 19,
   "id": "d6310189",
   "metadata": {
    "ExecuteTime": {
     "end_time": "2022-02-15T21:17:26.698292Z",
     "start_time": "2022-02-15T21:17:26.692548Z"
    }
   },
   "outputs": [
    {
     "name": "stdout",
     "output_type": "stream",
     "text": [
      "[1.92845885 1.94830217 2.05660815 3.26560581 3.19421431] \n",
      "\n",
      "[2.82142971 2.90642156 2.4405474  2.10676081 2.11802982]\n"
     ]
    }
   ],
   "source": [
    "print(np.sum(arr,axis=0),\"\\n\") # sum along the rows\n",
    "print(np.sum(arr,axis=1)) # sum along the columns \n"
   ]
  },
  {
   "cell_type": "markdown",
   "id": "82e4890f",
   "metadata": {},
   "source": [
    "### Compute The Min And Max Along A Specified Axis"
   ]
  },
  {
   "cell_type": "code",
   "execution_count": 23,
   "id": "6beb5c06",
   "metadata": {
    "ExecuteTime": {
     "end_time": "2022-02-15T21:20:18.568128Z",
     "start_time": "2022-02-15T21:20:18.559571Z"
    }
   },
   "outputs": [
    {
     "name": "stdout",
     "output_type": "stream",
     "text": [
      "[0.06331533 0.10403926 0.10333645 0.42492636 0.4188741 ] \n",
      "\n",
      "[0.84231371 0.92989077 0.72095692 0.75340938 0.89898174] \n",
      "\n",
      "[[0.84231371 0.41435028 0.5828768  0.43642238 0.54546653]\n",
      " [0.50586142 0.10403926 0.65801292 0.92989077 0.70861718]\n",
      " [0.06331533 0.44156137 0.59243903 0.72095692 0.62227475]\n",
      " [0.28879635 0.54234453 0.10333645 0.75340938 0.4188741 ]\n",
      " [0.22817204 0.44600673 0.11994295 0.42492636 0.89898174]]\n"
     ]
    }
   ],
   "source": [
    "print(np.min(arr,axis=0),\"\\n\") # min along rows\n",
    "print(np.max(arr,axis=1),\"\\n\") # max along columns\n",
    "\n",
    "print(arr) # here's the original array to check"
   ]
  },
  {
   "cell_type": "code",
   "execution_count": 24,
   "id": "6984e8ee",
   "metadata": {
    "ExecuteTime": {
     "end_time": "2022-02-15T21:21:09.995250Z",
     "start_time": "2022-02-15T21:21:09.988234Z"
    }
   },
   "outputs": [
    {
     "name": "stdout",
     "output_type": "stream",
     "text": [
      "0.9298907709832938\n",
      "0.06331533299286574\n"
     ]
    }
   ],
   "source": [
    "print(np.max(arr))\n",
    "print(np.min(arr))\n",
    "# if the axis is not specified, it'd calculate the min\\max of all elements"
   ]
  },
  {
   "cell_type": "markdown",
   "id": "f02b56b3",
   "metadata": {},
   "source": [
    "### Compute The Indices Of The Min And Max Along A Specified Axis"
   ]
  },
  {
   "cell_type": "code",
   "execution_count": 25,
   "id": "bb9e68d5",
   "metadata": {
    "ExecuteTime": {
     "end_time": "2022-02-15T21:25:10.657402Z",
     "start_time": "2022-02-15T21:25:10.648435Z"
    }
   },
   "outputs": [
    {
     "name": "stdout",
     "output_type": "stream",
     "text": [
      "[2 1 3 4 3]\n",
      "[0 3 1 1 4] \n",
      "\n",
      "[1 1 0 2 2]\n",
      "[0 3 3 3 4] \n",
      "\n",
      "10\n",
      "8\n"
     ]
    }
   ],
   "source": [
    "# along rows\n",
    "print(np.argmin(arr,axis=0))\n",
    "print(np.argmax(arr,axis=0),\"\\n\")\n",
    "\n",
    "# along columns\n",
    "print(np.argmin(arr,axis=1))\n",
    "print(np.argmax(arr,axis=1),\"\\n\")\n",
    "\n",
    "# if axis is not specified, return the indexof the flattened array\n",
    "print(np.argmin(arr))\n",
    "print(np.argmax(arr))\n",
    "\n",
    "# you can double-check from the original array above\n"
   ]
  },
  {
   "cell_type": "markdown",
   "id": "7475c9fa",
   "metadata": {},
   "source": [
    "### Compute Element-Wise Min And Max Of Two Arrays"
   ]
  },
  {
   "cell_type": "code",
   "execution_count": 26,
   "id": "d321d99c",
   "metadata": {
    "ExecuteTime": {
     "end_time": "2022-02-15T21:28:05.304168Z",
     "start_time": "2022-02-15T21:28:05.298098Z"
    }
   },
   "outputs": [
    {
     "name": "stdout",
     "output_type": "stream",
     "text": [
      "[1 3 7 4]\n",
      "[0 2 3 1]\n"
     ]
    }
   ],
   "source": [
    "arr1 = np.array([1,2,3,4])\n",
    "arr2 = np.array([0,3,7,1])\n",
    "print(np.maximum(arr1,arr2))\n",
    "print(np.minimum(arr1,arr2))\n",
    "\n",
    "# compares every two corresponding elements and prints their max/min"
   ]
  },
  {
   "cell_type": "markdown",
   "id": "ae934178",
   "metadata": {},
   "source": [
    "### Split The Fractional And Integral Parts Of A Floating-Point Array"
   ]
  },
  {
   "cell_type": "code",
   "execution_count": 29,
   "id": "3ae00ff1",
   "metadata": {
    "ExecuteTime": {
     "end_time": "2022-02-15T21:33:23.112056Z",
     "start_time": "2022-02-15T21:33:23.103934Z"
    }
   },
   "outputs": [
    {
     "name": "stdout",
     "output_type": "stream",
     "text": [
      "[6.19522168 5.76220842 6.43056511 7.78450116 3.11337565 8.87928486\n",
      " 0.69615825 6.88198489 3.28326354 4.83483465] \n",
      "\n",
      "The fractinoal part: [0.19522168 0.76220842 0.43056511 0.78450116 0.11337565 0.87928486\n",
      " 0.69615825 0.88198489 0.28326354 0.83483465] \n",
      "\n",
      "The integer part: [6. 5. 6. 7. 3. 8. 0. 6. 3. 4.] \n",
      "\n"
     ]
    }
   ],
   "source": [
    "arr1 = np.random.rand(10)*10\n",
    "print(arr1,\"\\n\")\n",
    "frc, intg = np.modf(arr1)\n",
    "print('The fractinoal part:',frc,\"\\n\")\n",
    "print('The integer part:',intg,'\\n')"
   ]
  },
  {
   "cell_type": "markdown",
   "id": "b575297f",
   "metadata": {},
   "source": [
    "### Compute The Mean"
   ]
  },
  {
   "cell_type": "code",
   "execution_count": 30,
   "id": "20de5db4",
   "metadata": {
    "ExecuteTime": {
     "end_time": "2022-02-15T21:33:50.206366Z",
     "start_time": "2022-02-15T21:33:50.200782Z"
    }
   },
   "outputs": [
    {
     "name": "stdout",
     "output_type": "stream",
     "text": [
      "0.4957275718234171\n"
     ]
    }
   ],
   "source": [
    "print(np.mean(arr)) # overall mean"
   ]
  },
  {
   "cell_type": "code",
   "execution_count": 31,
   "id": "860124d6",
   "metadata": {
    "ExecuteTime": {
     "end_time": "2022-02-15T21:34:19.551379Z",
     "start_time": "2022-02-15T21:34:19.545929Z"
    }
   },
   "outputs": [
    {
     "name": "stdout",
     "output_type": "stream",
     "text": [
      "[0.38569177 0.38966043 0.41132163 0.65312116 0.63884286]\n"
     ]
    }
   ],
   "source": [
    "print(np.mean(arr,axis=0)) # mean along rows"
   ]
  },
  {
   "cell_type": "code",
   "execution_count": 32,
   "id": "0d716cc5",
   "metadata": {
    "ExecuteTime": {
     "end_time": "2022-02-15T21:34:36.529589Z",
     "start_time": "2022-02-15T21:34:36.524481Z"
    }
   },
   "outputs": [
    {
     "name": "stdout",
     "output_type": "stream",
     "text": [
      "[0.56428594 0.58128431 0.48810948 0.42135216 0.42360596]\n"
     ]
    }
   ],
   "source": [
    "print(np.mean(arr,axis=1)) # mean along columns"
   ]
  },
  {
   "cell_type": "markdown",
   "id": "8fec5000",
   "metadata": {},
   "source": [
    "### Compute The Median"
   ]
  },
  {
   "cell_type": "code",
   "execution_count": 33,
   "id": "63491b60",
   "metadata": {
    "ExecuteTime": {
     "end_time": "2022-02-15T21:35:31.620810Z",
     "start_time": "2022-02-15T21:35:31.607852Z"
    }
   },
   "outputs": [
    {
     "name": "stdout",
     "output_type": "stream",
     "text": [
      "0.5058614241533751\n",
      "[0.28879635 0.44156137 0.5828768  0.72095692 0.62227475]\n",
      "[0.54546653 0.65801292 0.59243903 0.4188741  0.42492636]\n"
     ]
    }
   ],
   "source": [
    "print(np.median(arr)) # overall\n",
    "print(np.median(arr,axis=0)) # rows\n",
    "print(np.median(arr,axis=1)) # columns"
   ]
  },
  {
   "cell_type": "markdown",
   "id": "225a608f",
   "metadata": {},
   "source": [
    "### Compute The Percentile "
   ]
  },
  {
   "cell_type": "code",
   "execution_count": 38,
   "id": "9f5c6ace",
   "metadata": {
    "ExecuteTime": {
     "end_time": "2022-02-15T21:37:41.577592Z",
     "start_time": "2022-02-15T21:37:41.571129Z"
    }
   },
   "outputs": [
    {
     "name": "stdout",
     "output_type": "stream",
     "text": [
      "[0.87018801 0.59356799 0.99522479 0.25806461 0.71338477 0.67319224\n",
      " 0.49736329 0.22955838 0.34170989 0.89177574 0.68935888 0.25190539\n",
      " 0.47030533 0.96346166 0.74809093 0.35569776 0.0951436  0.17481921\n",
      " 0.96816609 0.39605336] \n",
      "\n",
      "[0.17083543 0.69776794 0.96951903 0.99008364]\n"
     ]
    }
   ],
   "source": [
    "arr1 = np.random.rand(20)\n",
    "print(arr1,\"\\n\")\n",
    "\n",
    "# 5th, 65th, 95th, and 99th percentiles\n",
    "print(np.percentile(arr1,[5,65,95,99]))"
   ]
  },
  {
   "cell_type": "markdown",
   "id": "e29f567d",
   "metadata": {},
   "source": [
    "### Compute Standard Deviation And Variance"
   ]
  },
  {
   "cell_type": "code",
   "execution_count": 39,
   "id": "a2d4422c",
   "metadata": {
    "ExecuteTime": {
     "end_time": "2022-02-15T21:39:48.194687Z",
     "start_time": "2022-02-15T21:39:48.183127Z"
    }
   },
   "outputs": [
    {
     "name": "stdout",
     "output_type": "stream",
     "text": [
      "0.24283233445712024\n",
      "[0.26872741 0.14924482 0.24610879 0.19508565 0.1611959 ]\n",
      "[0.15285877 0.27461932 0.23052969 0.22073166 0.26716711] \n",
      "\n",
      "0.0589675426578947\n",
      "[0.07221442 0.02227402 0.06056954 0.03805841 0.02598412]\n",
      "[0.0233658  0.07541577 0.05314394 0.04872247 0.07137826]\n"
     ]
    }
   ],
   "source": [
    "print(np.std(arr)) # overall\n",
    "print(np.std(arr,axis=0)) # rows\n",
    "print(np.std(arr,axis=1),\"\\n\") # columns\n",
    "\n",
    "print(np.var(arr)) # overall\n",
    "print(np.var(arr,axis=0)) # rows\n",
    "print(np.var(arr,axis=1)) # columns\n",
    "\n"
   ]
  },
  {
   "cell_type": "markdown",
   "id": "fe8c864c",
   "metadata": {},
   "source": [
    "### Compute The Covariance & Correlation"
   ]
  },
  {
   "cell_type": "code",
   "execution_count": 41,
   "id": "792d32de",
   "metadata": {
    "ExecuteTime": {
     "end_time": "2022-02-15T21:47:16.461571Z",
     "start_time": "2022-02-15T21:47:16.451502Z"
    }
   },
   "outputs": [
    {
     "name": "stdout",
     "output_type": "stream",
     "text": [
      "[[0.69468558 0.18799676 0.77959143 0.72182488]\n",
      " [0.31619625 0.73244651 0.54949188 0.17237661]\n",
      " [0.3577829  0.80544534 0.64462182 0.46263677]] \n",
      "\n",
      "[[ 0.07524773 -0.04836965 -0.03893801]\n",
      " [-0.04836965  0.06147849  0.04401895]\n",
      " [-0.03893801  0.04401895  0.03918109]]\n"
     ]
    }
   ],
   "source": [
    "arr = np.random.rand(3,4)\n",
    "print(arr,\"\\n\")\n",
    "\n",
    "print(np.cov(arr))"
   ]
  },
  {
   "cell_type": "code",
   "execution_count": 42,
   "id": "da1e5113",
   "metadata": {
    "ExecuteTime": {
     "end_time": "2022-02-15T21:47:56.087118Z",
     "start_time": "2022-02-15T21:47:56.080055Z"
    }
   },
   "outputs": [
    {
     "name": "stdout",
     "output_type": "stream",
     "text": [
      "[[ 1.         -0.97829248]\n",
      " [-0.97829248  1.        ]]\n"
     ]
    }
   ],
   "source": [
    "print(np.corrcoef(arr[:,0],arr[:,1]))"
   ]
  },
  {
   "cell_type": "markdown",
   "id": "ddc4ce4f",
   "metadata": {},
   "source": [
    "### Compute Cumulative Sum & Product"
   ]
  },
  {
   "cell_type": "code",
   "execution_count": 46,
   "id": "79e7e408",
   "metadata": {
    "ExecuteTime": {
     "end_time": "2022-02-15T21:53:35.873712Z",
     "start_time": "2022-02-15T21:53:35.867366Z"
    }
   },
   "outputs": [
    {
     "name": "stdout",
     "output_type": "stream",
     "text": [
      "[[0.69468558 0.18799676 0.77959143 0.72182488]\n",
      " [1.01088183 0.92044328 1.32908331 0.89420149]\n",
      " [1.36866473 1.72588862 1.97370513 1.35683826]] \n",
      "\n",
      "[[0.69468558 0.88268234 1.66227378 2.38409865]\n",
      " [0.31619625 1.04864276 1.59813464 1.77051125]\n",
      " [0.3577829  1.16322824 1.80785006 2.27048683]]\n"
     ]
    }
   ],
   "source": [
    "print(np.cumsum(arr,axis=0),\"\\n\") # along COLUMNS\n",
    "print(np.cumsum(arr,axis=1)) # along ROWS"
   ]
  },
  {
   "cell_type": "code",
   "execution_count": 48,
   "id": "253ba6e5",
   "metadata": {
    "ExecuteTime": {
     "end_time": "2022-02-15T21:54:25.797525Z",
     "start_time": "2022-02-15T21:54:25.790894Z"
    }
   },
   "outputs": [
    {
     "name": "stdout",
     "output_type": "stream",
     "text": [
      "[[0.69468558 0.18799676 0.77959143 0.72182488]\n",
      " [0.21965697 0.13769757 0.42837916 0.12442572]\n",
      " [0.07858951 0.11090787 0.27614255 0.05756392]] \n",
      "\n",
      "[[0.69468558 0.13059864 0.10181358 0.07349158]\n",
      " [0.31619625 0.23159684 0.12726058 0.02193675]\n",
      " [0.3577829  0.28817457 0.18576361 0.08594108]] \n",
      "\n"
     ]
    }
   ],
   "source": [
    "print(np.cumprod(arr,axis=0),'\\n') # along COLUMNS\n",
    "print(np.cumprod(arr,axis=1),'\\n') # along ROWS"
   ]
  },
  {
   "cell_type": "markdown",
   "id": "22de43fe",
   "metadata": {},
   "source": [
    "### Element-Wise Comparison"
   ]
  },
  {
   "cell_type": "code",
   "execution_count": 49,
   "id": "5973b9df",
   "metadata": {
    "ExecuteTime": {
     "end_time": "2022-02-15T21:56:49.662025Z",
     "start_time": "2022-02-15T21:56:49.655647Z"
    }
   },
   "outputs": [
    {
     "name": "stdout",
     "output_type": "stream",
     "text": [
      "[False False  True False False]\n",
      "[False False False  True  True]\n"
     ]
    }
   ],
   "source": [
    "arr1 = np.array([1,2,3,4,5])\n",
    "arr2 = np.array([5,4,3,2,1])\n",
    "# returns arrays of bools\n",
    "print(arr1==arr2)\n",
    "print(arr1>3)"
   ]
  },
  {
   "cell_type": "code",
   "execution_count": null,
   "id": "ce8214ae",
   "metadata": {},
   "outputs": [],
   "source": []
  }
 ],
 "metadata": {
  "kernelspec": {
   "display_name": "Python 3",
   "language": "python",
   "name": "python3"
  },
  "language_info": {
   "codemirror_mode": {
    "name": "ipython",
    "version": 3
   },
   "file_extension": ".py",
   "mimetype": "text/x-python",
   "name": "python",
   "nbconvert_exporter": "python",
   "pygments_lexer": "ipython3",
   "version": "3.8.8"
  },
  "toc": {
   "base_numbering": 1,
   "nav_menu": {},
   "number_sections": true,
   "sideBar": true,
   "skip_h1_title": false,
   "title_cell": "Table of Contents",
   "title_sidebar": "Contents",
   "toc_cell": false,
   "toc_position": {},
   "toc_section_display": true,
   "toc_window_display": false
  },
  "varInspector": {
   "cols": {
    "lenName": 16,
    "lenType": 16,
    "lenVar": 40
   },
   "kernels_config": {
    "python": {
     "delete_cmd_postfix": "",
     "delete_cmd_prefix": "del ",
     "library": "var_list.py",
     "varRefreshCmd": "print(var_dic_list())"
    },
    "r": {
     "delete_cmd_postfix": ") ",
     "delete_cmd_prefix": "rm(",
     "library": "var_list.r",
     "varRefreshCmd": "cat(var_dic_list()) "
    }
   },
   "types_to_exclude": [
    "module",
    "function",
    "builtin_function_or_method",
    "instance",
    "_Feature"
   ],
   "window_display": false
  }
 },
 "nbformat": 4,
 "nbformat_minor": 5
}
