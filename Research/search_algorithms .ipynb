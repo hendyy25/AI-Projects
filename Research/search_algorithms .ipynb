{
 "cells": [
  {
   "cell_type": "markdown",
   "id": "f70aac7c",
   "metadata": {},
   "source": [
    "### Search Algorithms "
   ]
  },
  {
   "cell_type": "markdown",
   "id": "5873aa14",
   "metadata": {},
   "source": [
    "**How can we implement different search algorithms?**\n"
   ]
  },
  {
   "cell_type": "markdown",
   "id": "cd4428cd",
   "metadata": {},
   "source": [
    "**We can use:**\n",
    "1. Membership Operators\n",
    "2. Linear Search\n",
    "3. Binary Search\n",
    "4. Jump Search\n",
    "5. Fibonacci Search\n",
    "6. Exponential Search\n",
    "7. Interpolation Search"
   ]
  },
  {
   "cell_type": "markdown",
   "id": "6f464470",
   "metadata": {},
   "source": [
    "### Memership Operators "
   ]
  },
  {
   "cell_type": "code",
   "execution_count": 1,
   "id": "8e5f2eaf",
   "metadata": {
    "ExecuteTime": {
     "end_time": "2022-02-27T21:24:34.763196Z",
     "start_time": "2022-02-27T21:24:34.735119Z"
    }
   },
   "outputs": [
    {
     "data": {
      "text/plain": [
       "True"
      ]
     },
     "execution_count": 1,
     "metadata": {},
     "output_type": "execute_result"
    }
   ],
   "source": [
    "'apple' in ['orange', 'apple', 'grape']"
   ]
  },
  {
   "cell_type": "code",
   "execution_count": 3,
   "id": "41448fbf",
   "metadata": {
    "ExecuteTime": {
     "end_time": "2022-02-27T21:24:45.020664Z",
     "start_time": "2022-02-27T21:24:45.015826Z"
    }
   },
   "outputs": [
    {
     "data": {
      "text/plain": [
       "True"
      ]
     },
     "execution_count": 3,
     "metadata": {},
     "output_type": "execute_result"
    }
   ],
   "source": [
    "'t' in 'stackabuse'"
   ]
  },
  {
   "cell_type": "code",
   "execution_count": 4,
   "id": "5aec3d16",
   "metadata": {
    "ExecuteTime": {
     "end_time": "2022-02-27T21:24:56.018741Z",
     "start_time": "2022-02-27T21:24:56.013572Z"
    }
   },
   "outputs": [
    {
     "data": {
      "text/plain": [
       "True"
      ]
     },
     "execution_count": 4,
     "metadata": {},
     "output_type": "execute_result"
    }
   ],
   "source": [
    "'q' not in 'stackabuse'"
   ]
  },
  {
   "cell_type": "markdown",
   "id": "28e93ff5",
   "metadata": {},
   "source": [
    "### Linear Search"
   ]
  },
  {
   "cell_type": "code",
   "execution_count": 5,
   "id": "3b942c9f",
   "metadata": {
    "ExecuteTime": {
     "end_time": "2022-02-27T21:25:30.501490Z",
     "start_time": "2022-02-27T21:25:30.494274Z"
    }
   },
   "outputs": [],
   "source": [
    "def LinearSearch(lys, element):\n",
    "    for i in range (len(lys)):\n",
    "        if lys[i] == element:\n",
    "            return i\n",
    "    return -1\n"
   ]
  },
  {
   "cell_type": "code",
   "execution_count": 6,
   "id": "18329999",
   "metadata": {
    "ExecuteTime": {
     "end_time": "2022-02-27T21:25:31.815298Z",
     "start_time": "2022-02-27T21:25:31.811113Z"
    }
   },
   "outputs": [
    {
     "name": "stdout",
     "output_type": "stream",
     "text": [
      "1\n"
     ]
    }
   ],
   "source": [
    "print(LinearSearch([1,2,3,4,5,2,1], 2))"
   ]
  },
  {
   "cell_type": "markdown",
   "id": "9275514a",
   "metadata": {},
   "source": [
    "### Binary Search"
   ]
  },
  {
   "cell_type": "code",
   "execution_count": 7,
   "id": "78824fd9",
   "metadata": {
    "ExecuteTime": {
     "end_time": "2022-02-27T21:26:32.875732Z",
     "start_time": "2022-02-27T21:26:32.866067Z"
    }
   },
   "outputs": [],
   "source": [
    "def BinarySearch(lys, val):\n",
    "    first = 0\n",
    "    last = len(lys)-1\n",
    "    index = -1\n",
    "    while (first <= last) and (index == -1):\n",
    "        mid = (first+last)//2\n",
    "        if lys[mid] == val:\n",
    "            index = mid\n",
    "        else:\n",
    "            if val<lys[mid]:\n",
    "                last = mid -1\n",
    "            else:\n",
    "                first = mid +1\n",
    "    return index"
   ]
  },
  {
   "cell_type": "code",
   "execution_count": 8,
   "id": "853f5367",
   "metadata": {
    "ExecuteTime": {
     "end_time": "2022-02-27T21:26:40.016688Z",
     "start_time": "2022-02-27T21:26:40.009575Z"
    }
   },
   "outputs": [
    {
     "data": {
      "text/plain": [
       "1"
      ]
     },
     "execution_count": 8,
     "metadata": {},
     "output_type": "execute_result"
    }
   ],
   "source": [
    "BinarySearch([10,20,30,40,50], 20)"
   ]
  },
  {
   "cell_type": "markdown",
   "id": "e295b06d",
   "metadata": {},
   "source": [
    "### Jump Search"
   ]
  },
  {
   "cell_type": "code",
   "execution_count": 9,
   "id": "07692b39",
   "metadata": {
    "ExecuteTime": {
     "end_time": "2022-02-27T21:27:08.207446Z",
     "start_time": "2022-02-27T21:27:08.196914Z"
    }
   },
   "outputs": [],
   "source": [
    "import math\n",
    "\n",
    "def JumpSearch (lys, val):\n",
    "    length = len(lys)\n",
    "    jump = int(math.sqrt(length))\n",
    "    left, right = 0, 0\n",
    "    while left < length and lys[left] <= val:\n",
    "        right = min(length - 1, left + jump)\n",
    "        if lys[left] <= val and lys[right] >= val:\n",
    "            break\n",
    "        left += jump;\n",
    "    if left >= length or lys[left] > val:\n",
    "        return -1\n",
    "    right = min(length - 1, right)\n",
    "    i = left\n",
    "    while i <= right and lys[i] <= val:\n",
    "        if lys[i] == val:\n",
    "            return i\n",
    "        i += 1\n",
    "    return -1"
   ]
  },
  {
   "cell_type": "code",
   "execution_count": 10,
   "id": "1a65dda8",
   "metadata": {
    "ExecuteTime": {
     "end_time": "2022-02-27T21:29:31.259187Z",
     "start_time": "2022-02-27T21:29:31.253991Z"
    }
   },
   "outputs": [
    {
     "name": "stdout",
     "output_type": "stream",
     "text": [
      "4\n"
     ]
    }
   ],
   "source": [
    "print(JumpSearch([1,2,3,4,5,6,7,8,9], 5))"
   ]
  },
  {
   "cell_type": "markdown",
   "id": "c86428ad",
   "metadata": {},
   "source": [
    "### Fibonacci Search"
   ]
  },
  {
   "cell_type": "code",
   "execution_count": 11,
   "id": "ad9cb9dc",
   "metadata": {
    "ExecuteTime": {
     "end_time": "2022-02-27T21:30:04.098422Z",
     "start_time": "2022-02-27T21:30:04.087455Z"
    }
   },
   "outputs": [],
   "source": [
    "def FibonacciSearch(lys, val):\n",
    "    fibM_minus_2 = 0\n",
    "    fibM_minus_1 = 1\n",
    "    fibM = fibM_minus_1 + fibM_minus_2\n",
    "    while (fibM < len(lys)):\n",
    "        fibM_minus_2 = fibM_minus_1\n",
    "        fibM_minus_1 = fibM\n",
    "        fibM = fibM_minus_1 + fibM_minus_2\n",
    "    index = -1;\n",
    "    while (fibM > 1):\n",
    "        i = min(index + fibM_minus_2, (len(lys)-1))\n",
    "        if (lys[i] < val):\n",
    "            fibM = fibM_minus_1\n",
    "            fibM_minus_1 = fibM_minus_2\n",
    "            fibM_minus_2 = fibM - fibM_minus_1\n",
    "            index = i\n",
    "        elif (lys[i] > val):\n",
    "            fibM = fibM_minus_2\n",
    "            fibM_minus_1 = fibM_minus_1 - fibM_minus_2\n",
    "            fibM_minus_2 = fibM - fibM_minus_1\n",
    "        else :\n",
    "            return i\n",
    "    if(fibM_minus_1 and index < (len(lys)-1) and lys[index+1] == val):\n",
    "        return index+1;\n",
    "    return -1"
   ]
  },
  {
   "cell_type": "code",
   "execution_count": 12,
   "id": "591d9878",
   "metadata": {
    "ExecuteTime": {
     "end_time": "2022-02-27T21:30:11.660446Z",
     "start_time": "2022-02-27T21:30:11.656022Z"
    }
   },
   "outputs": [
    {
     "name": "stdout",
     "output_type": "stream",
     "text": [
      "5\n"
     ]
    }
   ],
   "source": [
    "print(FibonacciSearch([1,2,3,4,5,6,7,8,9,10,11], 6))"
   ]
  },
  {
   "cell_type": "markdown",
   "id": "58d68953",
   "metadata": {},
   "source": [
    "### Interpolation Search"
   ]
  },
  {
   "cell_type": "code",
   "execution_count": 15,
   "id": "820476cc",
   "metadata": {
    "ExecuteTime": {
     "end_time": "2022-02-27T21:31:35.688481Z",
     "start_time": "2022-02-27T21:31:35.681822Z"
    }
   },
   "outputs": [],
   "source": [
    "def InterpolationSearch(lys, val):\n",
    "    low = 0\n",
    "    high = (len(lys) - 1)\n",
    "    while low <= high and val >= lys[low] and val <= lys[high]:\n",
    "        index = low + int(((float(high - low) / ( lys[high] - lys[low])) * ( val - lys[low])))\n",
    "        if lys[index] == val:\n",
    "            return index\n",
    "        if lys[index] < val:\n",
    "            low = index + 1;\n",
    "        else:\n",
    "            high = index - 1;\n",
    "    return -1"
   ]
  },
  {
   "cell_type": "code",
   "execution_count": 16,
   "id": "986bd218",
   "metadata": {
    "ExecuteTime": {
     "end_time": "2022-02-27T21:31:41.136843Z",
     "start_time": "2022-02-27T21:31:41.132714Z"
    }
   },
   "outputs": [
    {
     "name": "stdout",
     "output_type": "stream",
     "text": [
      "5\n"
     ]
    }
   ],
   "source": [
    "print(InterpolationSearch([1,2,3,4,5,6,7,8], 6))"
   ]
  },
  {
   "cell_type": "code",
   "execution_count": null,
   "id": "4364a4e5",
   "metadata": {},
   "outputs": [],
   "source": []
  }
 ],
 "metadata": {
  "kernelspec": {
   "display_name": "Python 3",
   "language": "python",
   "name": "python3"
  },
  "language_info": {
   "codemirror_mode": {
    "name": "ipython",
    "version": 3
   },
   "file_extension": ".py",
   "mimetype": "text/x-python",
   "name": "python",
   "nbconvert_exporter": "python",
   "pygments_lexer": "ipython3",
   "version": "3.8.8"
  },
  "toc": {
   "base_numbering": 1,
   "nav_menu": {},
   "number_sections": true,
   "sideBar": true,
   "skip_h1_title": false,
   "title_cell": "Table of Contents",
   "title_sidebar": "Contents",
   "toc_cell": false,
   "toc_position": {},
   "toc_section_display": true,
   "toc_window_display": false
  },
  "varInspector": {
   "cols": {
    "lenName": 16,
    "lenType": 16,
    "lenVar": 40
   },
   "kernels_config": {
    "python": {
     "delete_cmd_postfix": "",
     "delete_cmd_prefix": "del ",
     "library": "var_list.py",
     "varRefreshCmd": "print(var_dic_list())"
    },
    "r": {
     "delete_cmd_postfix": ") ",
     "delete_cmd_prefix": "rm(",
     "library": "var_list.r",
     "varRefreshCmd": "cat(var_dic_list()) "
    }
   },
   "types_to_exclude": [
    "module",
    "function",
    "builtin_function_or_method",
    "instance",
    "_Feature"
   ],
   "window_display": false
  }
 },
 "nbformat": 4,
 "nbformat_minor": 5
}
