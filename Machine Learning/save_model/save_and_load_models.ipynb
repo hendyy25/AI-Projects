{
 "cells": [
  {
   "cell_type": "markdown",
   "id": "5dd1e3bb",
   "metadata": {},
   "source": [
    "<h2 style=\"color:green\" align=\"center\">Machine Learning With Python: Save And Load Trained Model</h2>"
   ]
  },
  {
   "cell_type": "code",
   "execution_count": 1,
   "id": "8f66358a",
   "metadata": {
    "ExecuteTime": {
     "end_time": "2022-03-28T14:00:53.485343Z",
     "start_time": "2022-03-28T14:00:52.260148Z"
    }
   },
   "outputs": [],
   "source": [
    "import pandas as pd \n",
    "import numpy as np \n",
    "from sklearn import linear_model "
   ]
  },
  {
   "cell_type": "code",
   "execution_count": 2,
   "id": "e674302b",
   "metadata": {
    "ExecuteTime": {
     "end_time": "2022-03-28T14:01:11.161485Z",
     "start_time": "2022-03-28T14:01:11.124451Z"
    }
   },
   "outputs": [
    {
     "data": {
      "text/html": [
       "<div>\n",
       "<style scoped>\n",
       "    .dataframe tbody tr th:only-of-type {\n",
       "        vertical-align: middle;\n",
       "    }\n",
       "\n",
       "    .dataframe tbody tr th {\n",
       "        vertical-align: top;\n",
       "    }\n",
       "\n",
       "    .dataframe thead th {\n",
       "        text-align: right;\n",
       "    }\n",
       "</style>\n",
       "<table border=\"1\" class=\"dataframe\">\n",
       "  <thead>\n",
       "    <tr style=\"text-align: right;\">\n",
       "      <th></th>\n",
       "      <th>area</th>\n",
       "      <th>price</th>\n",
       "    </tr>\n",
       "  </thead>\n",
       "  <tbody>\n",
       "    <tr>\n",
       "      <th>0</th>\n",
       "      <td>2600</td>\n",
       "      <td>550000</td>\n",
       "    </tr>\n",
       "    <tr>\n",
       "      <th>1</th>\n",
       "      <td>3000</td>\n",
       "      <td>565000</td>\n",
       "    </tr>\n",
       "    <tr>\n",
       "      <th>2</th>\n",
       "      <td>3200</td>\n",
       "      <td>610000</td>\n",
       "    </tr>\n",
       "    <tr>\n",
       "      <th>3</th>\n",
       "      <td>3600</td>\n",
       "      <td>680000</td>\n",
       "    </tr>\n",
       "    <tr>\n",
       "      <th>4</th>\n",
       "      <td>4000</td>\n",
       "      <td>725000</td>\n",
       "    </tr>\n",
       "  </tbody>\n",
       "</table>\n",
       "</div>"
      ],
      "text/plain": [
       "   area   price\n",
       "0  2600  550000\n",
       "1  3000  565000\n",
       "2  3200  610000\n",
       "3  3600  680000\n",
       "4  4000  725000"
      ]
     },
     "execution_count": 2,
     "metadata": {},
     "output_type": "execute_result"
    }
   ],
   "source": [
    "df = pd.read_csv('homeprices.csv')\n",
    "df.head()"
   ]
  },
  {
   "cell_type": "code",
   "execution_count": 3,
   "id": "dda7df03",
   "metadata": {
    "ExecuteTime": {
     "end_time": "2022-03-28T14:01:49.955286Z",
     "start_time": "2022-03-28T14:01:49.931952Z"
    }
   },
   "outputs": [
    {
     "data": {
      "text/plain": [
       "LinearRegression()"
      ]
     },
     "execution_count": 3,
     "metadata": {},
     "output_type": "execute_result"
    }
   ],
   "source": [
    "model = linear_model.LinearRegression()\n",
    "model.fit(df[['area']],df.price)"
   ]
  },
  {
   "cell_type": "code",
   "execution_count": 4,
   "id": "79da5b7d",
   "metadata": {
    "ExecuteTime": {
     "end_time": "2022-03-28T14:01:55.245986Z",
     "start_time": "2022-03-28T14:01:55.240668Z"
    }
   },
   "outputs": [
    {
     "data": {
      "text/plain": [
       "array([135.78767123])"
      ]
     },
     "execution_count": 4,
     "metadata": {},
     "output_type": "execute_result"
    }
   ],
   "source": [
    "model.coef_"
   ]
  },
  {
   "cell_type": "code",
   "execution_count": 5,
   "id": "e0132f87",
   "metadata": {
    "ExecuteTime": {
     "end_time": "2022-03-28T14:02:00.282444Z",
     "start_time": "2022-03-28T14:02:00.277120Z"
    }
   },
   "outputs": [
    {
     "data": {
      "text/plain": [
       "180616.43835616432"
      ]
     },
     "execution_count": 5,
     "metadata": {},
     "output_type": "execute_result"
    }
   ],
   "source": [
    "model.intercept_\n"
   ]
  },
  {
   "cell_type": "code",
   "execution_count": 6,
   "id": "8a43e4f5",
   "metadata": {
    "ExecuteTime": {
     "end_time": "2022-03-28T14:02:18.822547Z",
     "start_time": "2022-03-28T14:02:18.813535Z"
    }
   },
   "outputs": [
    {
     "data": {
      "text/plain": [
       "array([859554.79452055])"
      ]
     },
     "execution_count": 6,
     "metadata": {},
     "output_type": "execute_result"
    }
   ],
   "source": [
    "model.predict([[5000]])"
   ]
  },
  {
   "cell_type": "markdown",
   "id": "2e6e60c5",
   "metadata": {},
   "source": [
    "<h3 style='color:purple'>Save Model To a File Using Python Pickle</h3>"
   ]
  },
  {
   "cell_type": "code",
   "execution_count": 7,
   "id": "21d532ff",
   "metadata": {
    "ExecuteTime": {
     "end_time": "2022-03-28T14:03:05.015067Z",
     "start_time": "2022-03-28T14:03:05.012093Z"
    }
   },
   "outputs": [],
   "source": [
    "import pickle #.pickle extension "
   ]
  },
  {
   "cell_type": "code",
   "execution_count": 8,
   "id": "f1dac234",
   "metadata": {
    "ExecuteTime": {
     "end_time": "2022-03-28T14:03:41.521688Z",
     "start_time": "2022-03-28T14:03:41.516378Z"
    }
   },
   "outputs": [],
   "source": [
    "with open('model_pickle','wb') as file: # write to a binary file \n",
    "    pickle.dump(model,file)"
   ]
  },
  {
   "cell_type": "markdown",
   "id": "e48e7cf1",
   "metadata": {},
   "source": [
    "<h4 style='color:purple'>Load Saved Model</h4>"
   ]
  },
  {
   "cell_type": "code",
   "execution_count": 11,
   "id": "c869b85c",
   "metadata": {
    "ExecuteTime": {
     "end_time": "2022-03-28T14:05:23.672964Z",
     "start_time": "2022-03-28T14:05:23.666556Z"
    }
   },
   "outputs": [],
   "source": [
    "with open('model_pickle','rb') as file:\n",
    "    new_model = pickle.load(file)"
   ]
  },
  {
   "cell_type": "code",
   "execution_count": 12,
   "id": "f6cb18b7",
   "metadata": {
    "ExecuteTime": {
     "end_time": "2022-03-28T14:06:02.850195Z",
     "start_time": "2022-03-28T14:06:02.845254Z"
    }
   },
   "outputs": [
    {
     "data": {
      "text/plain": [
       "array([135.78767123])"
      ]
     },
     "execution_count": 12,
     "metadata": {},
     "output_type": "execute_result"
    }
   ],
   "source": [
    "new_model.coef_"
   ]
  },
  {
   "cell_type": "code",
   "execution_count": 13,
   "id": "3a9d9281",
   "metadata": {
    "ExecuteTime": {
     "end_time": "2022-03-28T14:06:19.562587Z",
     "start_time": "2022-03-28T14:06:19.557544Z"
    }
   },
   "outputs": [
    {
     "data": {
      "text/plain": [
       "180616.43835616432"
      ]
     },
     "execution_count": 13,
     "metadata": {},
     "output_type": "execute_result"
    }
   ],
   "source": [
    "new_model.intercept_"
   ]
  },
  {
   "cell_type": "code",
   "execution_count": 14,
   "id": "8136280b",
   "metadata": {
    "ExecuteTime": {
     "end_time": "2022-03-28T14:06:26.999380Z",
     "start_time": "2022-03-28T14:06:26.993666Z"
    }
   },
   "outputs": [
    {
     "data": {
      "text/plain": [
       "array([859554.79452055])"
      ]
     },
     "execution_count": 14,
     "metadata": {},
     "output_type": "execute_result"
    }
   ],
   "source": [
    "new_model.predict([[5000]])"
   ]
  },
  {
   "cell_type": "markdown",
   "id": "8ef21a42",
   "metadata": {},
   "source": [
    "<h3 style='color:purple'>Save Trained Model Using joblib</h3>"
   ]
  },
  {
   "cell_type": "code",
   "execution_count": 15,
   "id": "99f74cfc",
   "metadata": {
    "ExecuteTime": {
     "end_time": "2022-03-28T14:06:59.772658Z",
     "start_time": "2022-03-28T14:06:59.769701Z"
    }
   },
   "outputs": [],
   "source": [
    "import joblib "
   ]
  },
  {
   "cell_type": "code",
   "execution_count": 16,
   "id": "9b1e099d",
   "metadata": {
    "ExecuteTime": {
     "end_time": "2022-03-28T14:07:40.797010Z",
     "start_time": "2022-03-28T14:07:40.786872Z"
    }
   },
   "outputs": [
    {
     "data": {
      "text/plain": [
       "['model_joblibb']"
      ]
     },
     "execution_count": 16,
     "metadata": {},
     "output_type": "execute_result"
    }
   ],
   "source": [
    "joblib.dump(model,'model_joblibb')"
   ]
  },
  {
   "cell_type": "code",
   "execution_count": 17,
   "id": "6ece916a",
   "metadata": {
    "ExecuteTime": {
     "end_time": "2022-03-28T14:08:29.645575Z",
     "start_time": "2022-03-28T14:08:29.642142Z"
    }
   },
   "outputs": [],
   "source": [
    "# function to save our model \n",
    "def save_model(model, model_name):\n",
    "    import joblib\n",
    "    joblib.dump(model,model_name)"
   ]
  },
  {
   "cell_type": "markdown",
   "id": "3b0f879d",
   "metadata": {},
   "source": [
    "<h4 style='color:purple'>Load Saved Model</h4>"
   ]
  },
  {
   "cell_type": "code",
   "execution_count": 19,
   "id": "fbfa0abc",
   "metadata": {
    "ExecuteTime": {
     "end_time": "2022-03-28T14:09:16.024924Z",
     "start_time": "2022-03-28T14:09:16.018749Z"
    }
   },
   "outputs": [],
   "source": [
    "joblib_model = joblib.load('model_joblibb')"
   ]
  },
  {
   "cell_type": "code",
   "execution_count": 20,
   "id": "1557abb9",
   "metadata": {
    "ExecuteTime": {
     "end_time": "2022-03-28T14:09:26.098652Z",
     "start_time": "2022-03-28T14:09:26.093224Z"
    }
   },
   "outputs": [
    {
     "data": {
      "text/plain": [
       "array([135.78767123])"
      ]
     },
     "execution_count": 20,
     "metadata": {},
     "output_type": "execute_result"
    }
   ],
   "source": [
    "joblib_model.coef_"
   ]
  },
  {
   "cell_type": "code",
   "execution_count": 21,
   "id": "5e4f926c",
   "metadata": {
    "ExecuteTime": {
     "end_time": "2022-03-28T14:09:35.372802Z",
     "start_time": "2022-03-28T14:09:35.367801Z"
    }
   },
   "outputs": [
    {
     "data": {
      "text/plain": [
       "180616.43835616432"
      ]
     },
     "execution_count": 21,
     "metadata": {},
     "output_type": "execute_result"
    }
   ],
   "source": [
    "joblib_model.intercept_"
   ]
  },
  {
   "cell_type": "code",
   "execution_count": 22,
   "id": "ffca3f54",
   "metadata": {
    "ExecuteTime": {
     "end_time": "2022-03-28T14:09:43.318762Z",
     "start_time": "2022-03-28T14:09:43.313068Z"
    }
   },
   "outputs": [
    {
     "data": {
      "text/plain": [
       "array([859554.79452055])"
      ]
     },
     "execution_count": 22,
     "metadata": {},
     "output_type": "execute_result"
    }
   ],
   "source": [
    "joblib_model.predict([[5000]])"
   ]
  }
 ],
 "metadata": {
  "kernelspec": {
   "display_name": "Python 3",
   "language": "python",
   "name": "python3"
  },
  "language_info": {
   "codemirror_mode": {
    "name": "ipython",
    "version": 3
   },
   "file_extension": ".py",
   "mimetype": "text/x-python",
   "name": "python",
   "nbconvert_exporter": "python",
   "pygments_lexer": "ipython3",
   "version": "3.8.8"
  },
  "toc": {
   "base_numbering": 1,
   "nav_menu": {},
   "number_sections": true,
   "sideBar": true,
   "skip_h1_title": false,
   "title_cell": "Table of Contents",
   "title_sidebar": "Contents",
   "toc_cell": false,
   "toc_position": {},
   "toc_section_display": true,
   "toc_window_display": false
  },
  "varInspector": {
   "cols": {
    "lenName": 16,
    "lenType": 16,
    "lenVar": 40
   },
   "kernels_config": {
    "python": {
     "delete_cmd_postfix": "",
     "delete_cmd_prefix": "del ",
     "library": "var_list.py",
     "varRefreshCmd": "print(var_dic_list())"
    },
    "r": {
     "delete_cmd_postfix": ") ",
     "delete_cmd_prefix": "rm(",
     "library": "var_list.r",
     "varRefreshCmd": "cat(var_dic_list()) "
    }
   },
   "types_to_exclude": [
    "module",
    "function",
    "builtin_function_or_method",
    "instance",
    "_Feature"
   ],
   "window_display": false
  }
 },
 "nbformat": 4,
 "nbformat_minor": 5
}
