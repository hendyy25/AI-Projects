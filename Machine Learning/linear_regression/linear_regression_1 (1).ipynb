{
 "cells": [
  {
   "cell_type": "markdown",
   "id": "160a546c",
   "metadata": {
    "ExecuteTime": {
     "end_time": "2022-03-18T22:48:29.146702Z",
     "start_time": "2022-03-18T22:48:29.141384Z"
    }
   },
   "source": [
    "<h2 style=\"color:green\" align=\"center\">Machine Learning With Python: Linear Regression With One Variable</h2>"
   ]
  },
  {
   "cell_type": "markdown",
   "id": "1cfa573b",
   "metadata": {},
   "source": [
    "<h3 style=\"color:purple\">Sample problem of predicting home price in monroe, new jersey (USA)</h3>"
   ]
  },
  {
   "cell_type": "markdown",
   "id": "4c8d62de",
   "metadata": {},
   "source": [
    "Below table represents current home prices in monroe township based on square feet area, new jersey"
   ]
  },
  {
   "cell_type": "markdown",
   "id": "b43dd323",
   "metadata": {
    "ExecuteTime": {
     "end_time": "2022-03-18T22:49:10.316183Z",
     "start_time": "2022-03-18T22:49:10.312576Z"
    }
   },
   "source": [
    "<img src=\"homepricetable.JPG\" style=\"width:370px;height:250px\">"
   ]
  },
  {
   "cell_type": "markdown",
   "id": "5213b68c",
   "metadata": {},
   "source": [
    "**Problem Statement**: Given above data build a machine learning model that can predict home prices based on square feet area\n"
   ]
  },
  {
   "cell_type": "markdown",
   "id": "625984c1",
   "metadata": {},
   "source": [
    "You can represent values in above table as a scatter plot (values are shown in red markers). After that one can draw a straight line that best fits values on chart. "
   ]
  },
  {
   "cell_type": "markdown",
   "id": "31ec9c83",
   "metadata": {},
   "source": [
    "<img src=\"scatterplot.JPG\" style=\"width:600px;height:370px\">"
   ]
  },
  {
   "cell_type": "markdown",
   "id": "e26be391",
   "metadata": {},
   "source": [
    "<img src=\"equation.PNG\" style=\"width:600px;height:370px\" >"
   ]
  },
  {
   "cell_type": "markdown",
   "id": "38c51f14",
   "metadata": {},
   "source": [
    "You might remember about linear equation from your high school days math class. Home prices can be presented as following equation,\n",
    "\n",
    "home price = m * (area) + b\n",
    "\n",
    "Generic form of same equation is,"
   ]
  },
  {
   "cell_type": "markdown",
   "id": "52c54439",
   "metadata": {},
   "source": [
    "<img src=\"linear_equation.png\" >"
   ]
  },
  {
   "cell_type": "code",
   "execution_count": 40,
   "id": "c9f47026",
   "metadata": {
    "ExecuteTime": {
     "end_time": "2022-03-19T00:05:53.863097Z",
     "start_time": "2022-03-19T00:05:53.850237Z"
    }
   },
   "outputs": [],
   "source": [
    "import pandas as pd \n",
    "import numpy as np \n",
    "from sklearn import linear_model\n",
    "import matplotlib.pyplot as plt "
   ]
  },
  {
   "cell_type": "code",
   "execution_count": 41,
   "id": "253741fe",
   "metadata": {
    "ExecuteTime": {
     "end_time": "2022-03-19T00:05:55.729670Z",
     "start_time": "2022-03-19T00:05:55.711439Z"
    }
   },
   "outputs": [
    {
     "data": {
      "text/html": [
       "<div>\n",
       "<style scoped>\n",
       "    .dataframe tbody tr th:only-of-type {\n",
       "        vertical-align: middle;\n",
       "    }\n",
       "\n",
       "    .dataframe tbody tr th {\n",
       "        vertical-align: top;\n",
       "    }\n",
       "\n",
       "    .dataframe thead th {\n",
       "        text-align: right;\n",
       "    }\n",
       "</style>\n",
       "<table border=\"1\" class=\"dataframe\">\n",
       "  <thead>\n",
       "    <tr style=\"text-align: right;\">\n",
       "      <th></th>\n",
       "      <th>area</th>\n",
       "      <th>price</th>\n",
       "    </tr>\n",
       "  </thead>\n",
       "  <tbody>\n",
       "    <tr>\n",
       "      <th>0</th>\n",
       "      <td>2600</td>\n",
       "      <td>550000</td>\n",
       "    </tr>\n",
       "    <tr>\n",
       "      <th>1</th>\n",
       "      <td>3000</td>\n",
       "      <td>565000</td>\n",
       "    </tr>\n",
       "    <tr>\n",
       "      <th>2</th>\n",
       "      <td>3200</td>\n",
       "      <td>610000</td>\n",
       "    </tr>\n",
       "    <tr>\n",
       "      <th>3</th>\n",
       "      <td>3600</td>\n",
       "      <td>680000</td>\n",
       "    </tr>\n",
       "    <tr>\n",
       "      <th>4</th>\n",
       "      <td>4000</td>\n",
       "      <td>725000</td>\n",
       "    </tr>\n",
       "  </tbody>\n",
       "</table>\n",
       "</div>"
      ],
      "text/plain": [
       "   area   price\n",
       "0  2600  550000\n",
       "1  3000  565000\n",
       "2  3200  610000\n",
       "3  3600  680000\n",
       "4  4000  725000"
      ]
     },
     "execution_count": 41,
     "metadata": {},
     "output_type": "execute_result"
    }
   ],
   "source": [
    "df = pd.read_csv('homeprices.csv')\n",
    "df"
   ]
  },
  {
   "cell_type": "code",
   "execution_count": 5,
   "id": "df74250a",
   "metadata": {
    "ExecuteTime": {
     "end_time": "2022-03-18T22:51:41.747581Z",
     "start_time": "2022-03-18T22:51:41.739415Z"
    }
   },
   "outputs": [
    {
     "data": {
      "text/plain": [
       "2600"
      ]
     },
     "execution_count": 5,
     "metadata": {},
     "output_type": "execute_result"
    }
   ],
   "source": [
    "df.area.min()"
   ]
  },
  {
   "cell_type": "code",
   "execution_count": 6,
   "id": "8d4bcefd",
   "metadata": {
    "ExecuteTime": {
     "end_time": "2022-03-18T22:51:46.302521Z",
     "start_time": "2022-03-18T22:51:46.296422Z"
    }
   },
   "outputs": [
    {
     "data": {
      "text/plain": [
       "4000"
      ]
     },
     "execution_count": 6,
     "metadata": {},
     "output_type": "execute_result"
    }
   ],
   "source": [
    "df.area.max()"
   ]
  },
  {
   "cell_type": "code",
   "execution_count": 7,
   "id": "a7cf8f7d",
   "metadata": {
    "ExecuteTime": {
     "end_time": "2022-03-18T22:52:48.423909Z",
     "start_time": "2022-03-18T22:52:48.288962Z"
    }
   },
   "outputs": [
    {
     "data": {
      "text/plain": [
       "[<matplotlib.lines.Line2D at 0x7fca381e9d00>]"
      ]
     },
     "execution_count": 7,
     "metadata": {},
     "output_type": "execute_result"
    },
    {
     "data": {
      "image/png": "[encoded data removed]",
      "text/plain": [
       "<Figure size 432x288 with 1 Axes>"
      ]
     },
     "metadata": {
      "needs_background": "light"
     },
     "output_type": "display_data"
    }
   ],
   "source": [
    "plt.xlabel('area')\n",
    "plt.ylabel('price')\n",
    "plt.plot(df.area,df.price,marker = '*',linestyle ='')"
   ]
  },
  {
   "cell_type": "code",
   "execution_count": 42,
   "id": "ba37efc7",
   "metadata": {
    "ExecuteTime": {
     "end_time": "2022-03-19T00:06:01.169181Z",
     "start_time": "2022-03-19T00:06:01.158808Z"
    }
   },
   "outputs": [
    {
     "data": {
      "text/html": [
       "<div>\n",
       "<style scoped>\n",
       "    .dataframe tbody tr th:only-of-type {\n",
       "        vertical-align: middle;\n",
       "    }\n",
       "\n",
       "    .dataframe tbody tr th {\n",
       "        vertical-align: top;\n",
       "    }\n",
       "\n",
       "    .dataframe thead th {\n",
       "        text-align: right;\n",
       "    }\n",
       "</style>\n",
       "<table border=\"1\" class=\"dataframe\">\n",
       "  <thead>\n",
       "    <tr style=\"text-align: right;\">\n",
       "      <th></th>\n",
       "      <th>area</th>\n",
       "    </tr>\n",
       "  </thead>\n",
       "  <tbody>\n",
       "    <tr>\n",
       "      <th>0</th>\n",
       "      <td>2600</td>\n",
       "    </tr>\n",
       "    <tr>\n",
       "      <th>1</th>\n",
       "      <td>3000</td>\n",
       "    </tr>\n",
       "    <tr>\n",
       "      <th>2</th>\n",
       "      <td>3200</td>\n",
       "    </tr>\n",
       "    <tr>\n",
       "      <th>3</th>\n",
       "      <td>3600</td>\n",
       "    </tr>\n",
       "    <tr>\n",
       "      <th>4</th>\n",
       "      <td>4000</td>\n",
       "    </tr>\n",
       "  </tbody>\n",
       "</table>\n",
       "</div>"
      ],
      "text/plain": [
       "   area\n",
       "0  2600\n",
       "1  3000\n",
       "2  3200\n",
       "3  3600\n",
       "4  4000"
      ]
     },
     "execution_count": 42,
     "metadata": {},
     "output_type": "execute_result"
    }
   ],
   "source": [
    "area_df = df.drop('price', axis = 'columns')\n",
    "area_df"
   ]
  },
  {
   "cell_type": "code",
   "execution_count": 43,
   "id": "c632c126",
   "metadata": {
    "ExecuteTime": {
     "end_time": "2022-03-19T00:06:04.225137Z",
     "start_time": "2022-03-19T00:06:04.215460Z"
    }
   },
   "outputs": [
    {
     "data": {
      "text/html": [
       "<div>\n",
       "<style scoped>\n",
       "    .dataframe tbody tr th:only-of-type {\n",
       "        vertical-align: middle;\n",
       "    }\n",
       "\n",
       "    .dataframe tbody tr th {\n",
       "        vertical-align: top;\n",
       "    }\n",
       "\n",
       "    .dataframe thead th {\n",
       "        text-align: right;\n",
       "    }\n",
       "</style>\n",
       "<table border=\"1\" class=\"dataframe\">\n",
       "  <thead>\n",
       "    <tr style=\"text-align: right;\">\n",
       "      <th></th>\n",
       "      <th>price</th>\n",
       "    </tr>\n",
       "  </thead>\n",
       "  <tbody>\n",
       "    <tr>\n",
       "      <th>0</th>\n",
       "      <td>550000</td>\n",
       "    </tr>\n",
       "    <tr>\n",
       "      <th>1</th>\n",
       "      <td>565000</td>\n",
       "    </tr>\n",
       "    <tr>\n",
       "      <th>2</th>\n",
       "      <td>610000</td>\n",
       "    </tr>\n",
       "    <tr>\n",
       "      <th>3</th>\n",
       "      <td>680000</td>\n",
       "    </tr>\n",
       "    <tr>\n",
       "      <th>4</th>\n",
       "      <td>725000</td>\n",
       "    </tr>\n",
       "  </tbody>\n",
       "</table>\n",
       "</div>"
      ],
      "text/plain": [
       "    price\n",
       "0  550000\n",
       "1  565000\n",
       "2  610000\n",
       "3  680000\n",
       "4  725000"
      ]
     },
     "execution_count": 43,
     "metadata": {},
     "output_type": "execute_result"
    }
   ],
   "source": [
    "price_df = df.drop('area',axis='columns')\n",
    "price_df"
   ]
  },
  {
   "cell_type": "code",
   "execution_count": 44,
   "id": "34d88ab5",
   "metadata": {
    "ExecuteTime": {
     "end_time": "2022-03-19T00:06:08.740802Z",
     "start_time": "2022-03-19T00:06:08.726184Z"
    }
   },
   "outputs": [
    {
     "data": {
      "text/plain": [
       "LinearRegression()"
      ]
     },
     "execution_count": 44,
     "metadata": {},
     "output_type": "execute_result"
    }
   ],
   "source": [
    "# create a linear regression object \n",
    "\n",
    "reg = linear_model.LinearRegression() # an instance of the linear regression model\n",
    "\n",
    "# reg is the regression model \n",
    "\n",
    "reg.fit(area_df,price_df) # fits data as (x,y)"
   ]
  },
  {
   "cell_type": "markdown",
   "id": "012972bd",
   "metadata": {},
   "source": [
    "### Predicting some values "
   ]
  },
  {
   "cell_type": "code",
   "execution_count": 20,
   "id": "7aceb656",
   "metadata": {
    "ExecuteTime": {
     "end_time": "2022-03-18T22:58:55.441216Z",
     "start_time": "2022-03-18T22:58:55.436572Z"
    }
   },
   "outputs": [
    {
     "name": "stdout",
     "output_type": "stream",
     "text": [
      "The predicted price of a 3200 ft squared area is: [[615136.98630137]]\n"
     ]
    }
   ],
   "source": [
    "print('The predicted price of a 3200 ft squared area is:',reg.predict([[3200]]))"
   ]
  },
  {
   "cell_type": "code",
   "execution_count": 28,
   "id": "e012979b",
   "metadata": {
    "ExecuteTime": {
     "end_time": "2022-03-18T23:06:10.145873Z",
     "start_time": "2022-03-18T23:06:10.140048Z"
    }
   },
   "outputs": [
    {
     "data": {
      "text/plain": [
       "array([[587979.45205479],\n",
       "       [723767.12328767]])"
      ]
     },
     "execution_count": 28,
     "metadata": {},
     "output_type": "execute_result"
    }
   ],
   "source": [
    "reg.predict([[3000],[4000]]) # can predict more than one price"
   ]
  },
  {
   "cell_type": "code",
   "execution_count": 21,
   "id": "6f6d89cc",
   "metadata": {
    "ExecuteTime": {
     "end_time": "2022-03-18T22:59:15.359725Z",
     "start_time": "2022-03-18T22:59:15.345527Z"
    }
   },
   "outputs": [
    {
     "data": {
      "text/plain": [
       "0.9584301138199486"
      ]
     },
     "execution_count": 21,
     "metadata": {},
     "output_type": "execute_result"
    }
   ],
   "source": [
    "reg.score(area_df, price_df) # calculates the accuracy of the model"
   ]
  },
  {
   "cell_type": "code",
   "execution_count": 22,
   "id": "67a664f0",
   "metadata": {
    "ExecuteTime": {
     "end_time": "2022-03-18T23:01:28.247899Z",
     "start_time": "2022-03-18T23:01:28.242536Z"
    }
   },
   "outputs": [
    {
     "data": {
      "text/plain": [
       "array([[135.78767123]])"
      ]
     },
     "execution_count": 22,
     "metadata": {},
     "output_type": "execute_result"
    }
   ],
   "source": [
    "reg.coef_ # the regression coefficient  "
   ]
  },
  {
   "cell_type": "code",
   "execution_count": 23,
   "id": "fe175566",
   "metadata": {
    "ExecuteTime": {
     "end_time": "2022-03-18T23:01:57.142645Z",
     "start_time": "2022-03-18T23:01:57.136391Z"
    }
   },
   "outputs": [
    {
     "data": {
      "text/plain": [
       "array([180616.43835616])"
      ]
     },
     "execution_count": 23,
     "metadata": {},
     "output_type": "execute_result"
    }
   ],
   "source": [
    "reg.intercept_ # the y-intercept of the regression line "
   ]
  },
  {
   "cell_type": "markdown",
   "id": "9b46edbb",
   "metadata": {},
   "source": [
    "**If we use the intiution of Y = m * X + b (m is coefficient and b is intercept), we will get the a ver similar result to what our model predicted**"
   ]
  },
  {
   "cell_type": "code",
   "execution_count": 24,
   "id": "e35dbda0",
   "metadata": {
    "ExecuteTime": {
     "end_time": "2022-03-18T23:03:11.048246Z",
     "start_time": "2022-03-18T23:03:11.041586Z"
    }
   },
   "outputs": [
    {
     "data": {
      "text/plain": [
       "615136.98629216"
      ]
     },
     "execution_count": 24,
     "metadata": {},
     "output_type": "execute_result"
    }
   ],
   "source": [
    "3200*135.78767123+180616.43835616"
   ]
  },
  {
   "cell_type": "code",
   "execution_count": 25,
   "id": "54b3636f",
   "metadata": {
    "ExecuteTime": {
     "end_time": "2022-03-18T23:04:35.118971Z",
     "start_time": "2022-03-18T23:04:35.111259Z"
    }
   },
   "outputs": [
    {
     "data": {
      "text/plain": [
       "array([[859554.79452055]])"
      ]
     },
     "execution_count": 25,
     "metadata": {},
     "output_type": "execute_result"
    }
   ],
   "source": [
    "reg.predict([[5000]])"
   ]
  },
  {
   "cell_type": "markdown",
   "id": "38d7681d",
   "metadata": {},
   "source": [
    "### Generate a CSV File With Home Price Predictions "
   ]
  },
  {
   "cell_type": "code",
   "execution_count": 27,
   "id": "33922185",
   "metadata": {
    "ExecuteTime": {
     "end_time": "2022-03-18T23:05:41.412779Z",
     "start_time": "2022-03-18T23:05:41.405027Z"
    }
   },
   "outputs": [
    {
     "data": {
      "text/html": [
       "<div>\n",
       "<style scoped>\n",
       "    .dataframe tbody tr th:only-of-type {\n",
       "        vertical-align: middle;\n",
       "    }\n",
       "\n",
       "    .dataframe tbody tr th {\n",
       "        vertical-align: top;\n",
       "    }\n",
       "\n",
       "    .dataframe thead th {\n",
       "        text-align: right;\n",
       "    }\n",
       "</style>\n",
       "<table border=\"1\" class=\"dataframe\">\n",
       "  <thead>\n",
       "    <tr style=\"text-align: right;\">\n",
       "      <th></th>\n",
       "      <th>area</th>\n",
       "    </tr>\n",
       "  </thead>\n",
       "  <tbody>\n",
       "    <tr>\n",
       "      <th>0</th>\n",
       "      <td>1000</td>\n",
       "    </tr>\n",
       "    <tr>\n",
       "      <th>1</th>\n",
       "      <td>1500</td>\n",
       "    </tr>\n",
       "    <tr>\n",
       "      <th>2</th>\n",
       "      <td>2300</td>\n",
       "    </tr>\n",
       "    <tr>\n",
       "      <th>3</th>\n",
       "      <td>3540</td>\n",
       "    </tr>\n",
       "    <tr>\n",
       "      <th>4</th>\n",
       "      <td>4120</td>\n",
       "    </tr>\n",
       "    <tr>\n",
       "      <th>5</th>\n",
       "      <td>4560</td>\n",
       "    </tr>\n",
       "    <tr>\n",
       "      <th>6</th>\n",
       "      <td>5490</td>\n",
       "    </tr>\n",
       "    <tr>\n",
       "      <th>7</th>\n",
       "      <td>3460</td>\n",
       "    </tr>\n",
       "    <tr>\n",
       "      <th>8</th>\n",
       "      <td>4750</td>\n",
       "    </tr>\n",
       "    <tr>\n",
       "      <th>9</th>\n",
       "      <td>2300</td>\n",
       "    </tr>\n",
       "    <tr>\n",
       "      <th>10</th>\n",
       "      <td>9000</td>\n",
       "    </tr>\n",
       "    <tr>\n",
       "      <th>11</th>\n",
       "      <td>8600</td>\n",
       "    </tr>\n",
       "    <tr>\n",
       "      <th>12</th>\n",
       "      <td>7100</td>\n",
       "    </tr>\n",
       "  </tbody>\n",
       "</table>\n",
       "</div>"
      ],
      "text/plain": [
       "    area\n",
       "0   1000\n",
       "1   1500\n",
       "2   2300\n",
       "3   3540\n",
       "4   4120\n",
       "5   4560\n",
       "6   5490\n",
       "7   3460\n",
       "8   4750\n",
       "9   2300\n",
       "10  9000\n",
       "11  8600\n",
       "12  7100"
      ]
     },
     "execution_count": 27,
     "metadata": {},
     "output_type": "execute_result"
    }
   ],
   "source": [
    "area_df = pd.read_csv('areas.csv')\n",
    "area_df"
   ]
  },
  {
   "cell_type": "code",
   "execution_count": 33,
   "id": "235fc2fe",
   "metadata": {
    "ExecuteTime": {
     "end_time": "2022-03-18T23:09:12.270585Z",
     "start_time": "2022-03-18T23:09:12.261334Z"
    }
   },
   "outputs": [
    {
     "data": {
      "text/plain": [
       "array([[ 316404.10958904],\n",
       "       [ 384297.94520548],\n",
       "       [ 492928.08219178],\n",
       "       [ 661304.79452055],\n",
       "       [ 740061.64383562],\n",
       "       [ 799808.21917808],\n",
       "       [ 926090.75342466],\n",
       "       [ 650441.78082192],\n",
       "       [ 825607.87671233],\n",
       "       [ 492928.08219178],\n",
       "       [1402705.47945205],\n",
       "       [1348390.4109589 ],\n",
       "       [1144708.90410959]])"
      ]
     },
     "execution_count": 33,
     "metadata": {},
     "output_type": "execute_result"
    }
   ],
   "source": [
    "prices = reg.predict(area_df)\n",
    "prices"
   ]
  },
  {
   "cell_type": "code",
   "execution_count": 35,
   "id": "d6e23b9c",
   "metadata": {
    "ExecuteTime": {
     "end_time": "2022-03-18T23:09:26.608857Z",
     "start_time": "2022-03-18T23:09:26.596843Z"
    }
   },
   "outputs": [
    {
     "data": {
      "text/html": [
       "<div>\n",
       "<style scoped>\n",
       "    .dataframe tbody tr th:only-of-type {\n",
       "        vertical-align: middle;\n",
       "    }\n",
       "\n",
       "    .dataframe tbody tr th {\n",
       "        vertical-align: top;\n",
       "    }\n",
       "\n",
       "    .dataframe thead th {\n",
       "        text-align: right;\n",
       "    }\n",
       "</style>\n",
       "<table border=\"1\" class=\"dataframe\">\n",
       "  <thead>\n",
       "    <tr style=\"text-align: right;\">\n",
       "      <th></th>\n",
       "      <th>area</th>\n",
       "      <th>Prices</th>\n",
       "    </tr>\n",
       "  </thead>\n",
       "  <tbody>\n",
       "    <tr>\n",
       "      <th>0</th>\n",
       "      <td>1000</td>\n",
       "      <td>3.164041e+05</td>\n",
       "    </tr>\n",
       "    <tr>\n",
       "      <th>1</th>\n",
       "      <td>1500</td>\n",
       "      <td>3.842979e+05</td>\n",
       "    </tr>\n",
       "    <tr>\n",
       "      <th>2</th>\n",
       "      <td>2300</td>\n",
       "      <td>4.929281e+05</td>\n",
       "    </tr>\n",
       "    <tr>\n",
       "      <th>3</th>\n",
       "      <td>3540</td>\n",
       "      <td>6.613048e+05</td>\n",
       "    </tr>\n",
       "    <tr>\n",
       "      <th>4</th>\n",
       "      <td>4120</td>\n",
       "      <td>7.400616e+05</td>\n",
       "    </tr>\n",
       "    <tr>\n",
       "      <th>5</th>\n",
       "      <td>4560</td>\n",
       "      <td>7.998082e+05</td>\n",
       "    </tr>\n",
       "    <tr>\n",
       "      <th>6</th>\n",
       "      <td>5490</td>\n",
       "      <td>9.260908e+05</td>\n",
       "    </tr>\n",
       "    <tr>\n",
       "      <th>7</th>\n",
       "      <td>3460</td>\n",
       "      <td>6.504418e+05</td>\n",
       "    </tr>\n",
       "    <tr>\n",
       "      <th>8</th>\n",
       "      <td>4750</td>\n",
       "      <td>8.256079e+05</td>\n",
       "    </tr>\n",
       "    <tr>\n",
       "      <th>9</th>\n",
       "      <td>2300</td>\n",
       "      <td>4.929281e+05</td>\n",
       "    </tr>\n",
       "    <tr>\n",
       "      <th>10</th>\n",
       "      <td>9000</td>\n",
       "      <td>1.402705e+06</td>\n",
       "    </tr>\n",
       "    <tr>\n",
       "      <th>11</th>\n",
       "      <td>8600</td>\n",
       "      <td>1.348390e+06</td>\n",
       "    </tr>\n",
       "    <tr>\n",
       "      <th>12</th>\n",
       "      <td>7100</td>\n",
       "      <td>1.144709e+06</td>\n",
       "    </tr>\n",
       "  </tbody>\n",
       "</table>\n",
       "</div>"
      ],
      "text/plain": [
       "    area        Prices\n",
       "0   1000  3.164041e+05\n",
       "1   1500  3.842979e+05\n",
       "2   2300  4.929281e+05\n",
       "3   3540  6.613048e+05\n",
       "4   4120  7.400616e+05\n",
       "5   4560  7.998082e+05\n",
       "6   5490  9.260908e+05\n",
       "7   3460  6.504418e+05\n",
       "8   4750  8.256079e+05\n",
       "9   2300  4.929281e+05\n",
       "10  9000  1.402705e+06\n",
       "11  8600  1.348390e+06\n",
       "12  7100  1.144709e+06"
      ]
     },
     "execution_count": 35,
     "metadata": {},
     "output_type": "execute_result"
    }
   ],
   "source": [
    "area_df['Prices'] = prices\n",
    "area_df"
   ]
  },
  {
   "cell_type": "code",
   "execution_count": 39,
   "id": "970d01f8",
   "metadata": {
    "ExecuteTime": {
     "end_time": "2022-03-18T23:10:43.448285Z",
     "start_time": "2022-03-18T23:10:43.388137Z"
    }
   },
   "outputs": [],
   "source": [
    "area_df.to_excel('price_prediction.xlsx',index = False)"
   ]
  },
  {
   "cell_type": "markdown",
   "id": "83660459",
   "metadata": {},
   "source": [
    "### From My Statistics Class"
   ]
  },
  {
   "cell_type": "markdown",
   "id": "e6ec4799",
   "metadata": {},
   "source": [
    "**Using the least squares method: regression line => y = bx + a**"
   ]
  },
  {
   "attachments": {
    "image.png": {
     "image/png": "[encoded data removed]"
    }
   },
   "cell_type": "markdown",
   "id": "86feb598",
   "metadata": {},
   "source": [
    "![image.png](attachment:image.png)"
   ]
  },
  {
   "cell_type": "code",
   "execution_count": 62,
   "id": "1a873aed",
   "metadata": {
    "ExecuteTime": {
     "end_time": "2022-03-19T00:15:40.268219Z",
     "start_time": "2022-03-19T00:15:40.262921Z"
    }
   },
   "outputs": [
    {
     "data": {
      "text/plain": [
       "array([16400])"
      ]
     },
     "execution_count": 62,
     "metadata": {},
     "output_type": "execute_result"
    }
   ],
   "source": [
    "x = sum(area_df.values)\n",
    "x"
   ]
  },
  {
   "cell_type": "code",
   "execution_count": 63,
   "id": "17df23d4",
   "metadata": {
    "ExecuteTime": {
     "end_time": "2022-03-19T00:15:45.391261Z",
     "start_time": "2022-03-19T00:15:45.385852Z"
    }
   },
   "outputs": [
    {
     "data": {
      "text/plain": [
       "array([3130000])"
      ]
     },
     "execution_count": 63,
     "metadata": {},
     "output_type": "execute_result"
    }
   ],
   "source": [
    "y = sum(price_df.values)\n",
    "y"
   ]
  },
  {
   "cell_type": "code",
   "execution_count": 76,
   "id": "b67018bb",
   "metadata": {
    "ExecuteTime": {
     "end_time": "2022-03-19T00:23:53.637417Z",
     "start_time": "2022-03-19T00:23:53.631086Z"
    }
   },
   "outputs": [
    {
     "data": {
      "text/plain": [
       "array([54960000])"
      ]
     },
     "execution_count": 76,
     "metadata": {},
     "output_type": "execute_result"
    }
   ],
   "source": [
    "x_squared = area_df.values**2\n",
    "sum(x_squared)"
   ]
  },
  {
   "cell_type": "code",
   "execution_count": 68,
   "id": "3f29165b",
   "metadata": {
    "ExecuteTime": {
     "end_time": "2022-03-19T00:17:04.916851Z",
     "start_time": "2022-03-19T00:17:04.911613Z"
    }
   },
   "outputs": [
    {
     "data": {
      "text/plain": [
       "array([1981850000000])"
      ]
     },
     "execution_count": 68,
     "metadata": {},
     "output_type": "execute_result"
    }
   ],
   "source": [
    "y_squared = price_df.values**2\n",
    "sum(y_squared)\n"
   ]
  },
  {
   "cell_type": "code",
   "execution_count": 75,
   "id": "d54def7c",
   "metadata": {
    "ExecuteTime": {
     "end_time": "2022-03-19T00:23:44.778698Z",
     "start_time": "2022-03-19T00:23:44.769937Z"
    }
   },
   "outputs": [
    {
     "data": {
      "text/plain": [
       "array([10425000000])"
      ]
     },
     "execution_count": 75,
     "metadata": {},
     "output_type": "execute_result"
    }
   ],
   "source": [
    "x_times_y= area_df.values * price_df.values\n",
    "n = len(area_df)\n",
    "sum(x_times_y)"
   ]
  },
  {
   "cell_type": "markdown",
   "id": "ed933ac5",
   "metadata": {},
   "source": [
    "**calculating a:**"
   ]
  },
  {
   "cell_type": "code",
   "execution_count": 72,
   "id": "0fc03340",
   "metadata": {
    "ExecuteTime": {
     "end_time": "2022-03-19T00:21:34.176450Z",
     "start_time": "2022-03-19T00:21:34.169783Z"
    }
   },
   "outputs": [
    {
     "data": {
      "text/plain": [
       "180616.43835616438"
      ]
     },
     "execution_count": 72,
     "metadata": {},
     "output_type": "execute_result"
    }
   ],
   "source": [
    "((3130000*54960000)-16400*10425000000)/(n*54960000-16400**2)"
   ]
  },
  {
   "cell_type": "markdown",
   "id": "40b420c2",
   "metadata": {},
   "source": [
    "**notice that its value is equivalent to the value of the y-intercept obtained using the built-in function above.**"
   ]
  }
 ],
 "metadata": {
  "kernelspec": {
   "display_name": "Python 3",
   "language": "python",
   "name": "python3"
  },
  "language_info": {
   "codemirror_mode": {
    "name": "ipython",
    "version": 3
   },
   "file_extension": ".py",
   "mimetype": "text/x-python",
   "name": "python",
   "nbconvert_exporter": "python",
   "pygments_lexer": "ipython3",
   "version": "3.8.8"
  },
  "toc": {
   "base_numbering": 1,
   "nav_menu": {},
   "number_sections": true,
   "sideBar": true,
   "skip_h1_title": false,
   "title_cell": "Table of Contents",
   "title_sidebar": "Contents",
   "toc_cell": false,
   "toc_position": {},
   "toc_section_display": true,
   "toc_window_display": false
  },
  "varInspector": {
   "cols": {
    "lenName": 16,
    "lenType": 16,
    "lenVar": 40
   },
   "kernels_config": {
    "python": {
     "delete_cmd_postfix": "",
     "delete_cmd_prefix": "del ",
     "library": "var_list.py",
     "varRefreshCmd": "print(var_dic_list())"
    },
    "r": {
     "delete_cmd_postfix": ") ",
     "delete_cmd_prefix": "rm(",
     "library": "var_list.r",
     "varRefreshCmd": "cat(var_dic_list()) "
    }
   },
   "types_to_exclude": [
    "module",
    "function",
    "builtin_function_or_method",
    "instance",
    "_Feature"
   ],
   "window_display": false
  }
 },
 "nbformat": 4,
 "nbformat_minor": 5
}
