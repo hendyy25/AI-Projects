{
 "cells": [
  {
   "cell_type": "markdown",
   "id": "da745ab2",
   "metadata": {},
   "source": [
    "***Regular Expressions***\n"
   ]
  },
  {
   "cell_type": "markdown",
   "id": "082bcf92",
   "metadata": {},
   "source": [
    "**Basic Rules**"
   ]
  },
  {
   "cell_type": "code",
   "execution_count": null,
   "id": "0531577c",
   "metadata": {},
   "outputs": [],
   "source": [
    ". -> any character except new line \n",
    "\\d -> digits (0-9)\n",
    "\\D -> not a digit \n",
    "\\w -> words, digits, or underscores\n",
    "\\W -> not \\w\n",
    "\\s -> whitespace (space, tab, newline)\n",
    "\\S -> not a wihtespace \n",
    "\n",
    "\\b -> word boundary \n",
    "\\B -> not a word boundary\n",
    "^ -> beginning of a string \n",
    "$ -> end of a string \n",
    "\n",
    "[] -> matches characters in brackets \n",
    "[^] -> matches characters not in brackets \n",
    "| -> either or \n",
    "() -> or \n",
    "\n",
    "quantifiers:\n",
    "{*} -> 0 or more \n",
    "{+} -> 1 or more \n",
    "? -> 0 or 1 \n",
    "{3} -> exact number (3)\n",
    "{3,4} -> range of numbers {from,to}\n"
   ]
  },
  {
   "cell_type": "code",
   "execution_count": 3,
   "id": "d43fe64a",
   "metadata": {
    "ExecuteTime": {
     "end_time": "2021-12-23T07:16:24.309777Z",
     "start_time": "2021-12-23T07:16:24.306427Z"
    }
   },
   "outputs": [
    {
     "name": "stdout",
     "output_type": "stream",
     "text": [
      "\tTab\n",
      "\\tTab\n"
     ]
    }
   ],
   "source": [
    "print(\"\\tTab\")\n",
    "print(r\"\\tTab\") # row print "
   ]
  },
  {
   "cell_type": "code",
   "execution_count": 5,
   "id": "0ddc8aff",
   "metadata": {
    "ExecuteTime": {
     "end_time": "2021-12-23T07:18:44.017763Z",
     "start_time": "2021-12-23T07:18:44.014209Z"
    }
   },
   "outputs": [
    {
     "name": "stdout",
     "output_type": "stream",
     "text": [
      "Mohamed\n",
      "Mohamed\n",
      "*********\n",
      "Mohamed\\nMohamed\n"
     ]
    }
   ],
   "source": [
    "print(\"Mohamed\\nMohamed\")\n",
    "print('*********')\n",
    "print(r\"Mohamed\\nMohamed\")"
   ]
  },
  {
   "cell_type": "code",
   "execution_count": 7,
   "id": "39aebcc2",
   "metadata": {
    "ExecuteTime": {
     "end_time": "2021-12-23T07:22:01.486830Z",
     "start_time": "2021-12-23T07:22:01.481486Z"
    }
   },
   "outputs": [],
   "source": [
    "# string for future implementations \n",
    "text_to_search = '''abcdefghijklmnopqurtuvwxyz\n",
    "ABCDEFGHIJKLMNOPQRSTUVWXYZ\n",
    "123456789010\n",
    "Ha HaHa\n",
    "MetaCharacters (Need to be escaped):\n",
    ". ^ $ * + ? { } [ ] \\ | ( )\n",
    "abc\n",
    "cat\n",
    "mat \n",
    "hat\n",
    "bat\n",
    "fat\n",
    "sat\n",
    "01092329340\n",
    "01123234355\n",
    "01023455411\n",
    "01234567875\n",
    "01534567456\n",
    "01134567856\n",
    "coreyms-com\n",
    "321-555-4321\n",
    "123.555.1234\n",
    "123*555*1234\n",
    "800-555-1234\n",
    "900-555-1234\n",
    "100a121C4543\n",
    "Mr. Schafer\n",
    "Mr Smith\n",
    "Ms Davis\n",
    "Mrs. Robinson\n",
    "Mr. T\n",
    "'''\n",
    "\n",
    "sentence = 'Start a sentence and then bring it to an end'"
   ]
  },
  {
   "cell_type": "code",
   "execution_count": 9,
   "id": "f4b86130",
   "metadata": {
    "ExecuteTime": {
     "end_time": "2021-12-23T07:22:34.520960Z",
     "start_time": "2021-12-23T07:22:34.515566Z"
    }
   },
   "outputs": [
    {
     "name": "stdout",
     "output_type": "stream",
     "text": [
      "<re.Match object; span=(0, 3), match='abc'>\n",
      "<re.Match object; span=(140, 143), match='abc'>\n",
      "<class 're.Match'>\n"
     ]
    }
   ],
   "source": [
    "import re \n",
    "pattern = re.compile(r\"abc\") # search for abc \n",
    "matches = pattern.finditer(text_to_search)\n",
    "\n",
    "for match in matches:\n",
    "    print(match)\n",
    "    \n",
    "print(type(match))"
   ]
  },
  {
   "cell_type": "code",
   "execution_count": 10,
   "id": "5684aad5",
   "metadata": {
    "ExecuteTime": {
     "end_time": "2021-12-23T07:24:55.048560Z",
     "start_time": "2021-12-23T07:24:55.031795Z"
    }
   },
   "outputs": [
    {
     "name": "stdout",
     "output_type": "stream",
     "text": [
      "<re.Match object; span=(0, 1), match='a'>\n",
      "<re.Match object; span=(1, 2), match='b'>\n",
      "<re.Match object; span=(2, 3), match='c'>\n",
      "<re.Match object; span=(3, 4), match='d'>\n",
      "<re.Match object; span=(4, 5), match='e'>\n",
      "<re.Match object; span=(5, 6), match='f'>\n",
      "<re.Match object; span=(6, 7), match='g'>\n",
      "<re.Match object; span=(7, 8), match='h'>\n",
      "<re.Match object; span=(8, 9), match='i'>\n",
      "<re.Match object; span=(9, 10), match='j'>\n",
      "<re.Match object; span=(10, 11), match='k'>\n",
      "<re.Match object; span=(11, 12), match='l'>\n",
      "<re.Match object; span=(12, 13), match='m'>\n",
      "<re.Match object; span=(13, 14), match='n'>\n",
      "<re.Match object; span=(14, 15), match='o'>\n",
      "<re.Match object; span=(15, 16), match='p'>\n",
      "<re.Match object; span=(16, 17), match='q'>\n",
      "<re.Match object; span=(17, 18), match='u'>\n",
      "<re.Match object; span=(18, 19), match='r'>\n",
      "<re.Match object; span=(19, 20), match='t'>\n",
      "<re.Match object; span=(20, 21), match='u'>\n",
      "<re.Match object; span=(21, 22), match='v'>\n",
      "<re.Match object; span=(22, 23), match='w'>\n",
      "<re.Match object; span=(23, 24), match='x'>\n",
      "<re.Match object; span=(24, 25), match='y'>\n",
      "<re.Match object; span=(25, 26), match='z'>\n",
      "<re.Match object; span=(27, 28), match='A'>\n",
      "<re.Match object; span=(28, 29), match='B'>\n",
      "<re.Match object; span=(29, 30), match='C'>\n",
      "<re.Match object; span=(30, 31), match='D'>\n",
      "<re.Match object; span=(31, 32), match='E'>\n",
      "<re.Match object; span=(32, 33), match='F'>\n",
      "<re.Match object; span=(33, 34), match='G'>\n",
      "<re.Match object; span=(34, 35), match='H'>\n",
      "<re.Match object; span=(35, 36), match='I'>\n",
      "<re.Match object; span=(36, 37), match='J'>\n",
      "<re.Match object; span=(37, 38), match='K'>\n",
      "<re.Match object; span=(38, 39), match='L'>\n",
      "<re.Match object; span=(39, 40), match='M'>\n",
      "<re.Match object; span=(40, 41), match='N'>\n",
      "<re.Match object; span=(41, 42), match='O'>\n",
      "<re.Match object; span=(42, 43), match='P'>\n",
      "<re.Match object; span=(43, 44), match='Q'>\n",
      "<re.Match object; span=(44, 45), match='R'>\n",
      "<re.Match object; span=(45, 46), match='S'>\n",
      "<re.Match object; span=(46, 47), match='T'>\n",
      "<re.Match object; span=(47, 48), match='U'>\n",
      "<re.Match object; span=(48, 49), match='V'>\n",
      "<re.Match object; span=(49, 50), match='W'>\n",
      "<re.Match object; span=(50, 51), match='X'>\n",
      "<re.Match object; span=(51, 52), match='Y'>\n",
      "<re.Match object; span=(52, 53), match='Z'>\n",
      "<re.Match object; span=(54, 55), match='1'>\n",
      "<re.Match object; span=(55, 56), match='2'>\n",
      "<re.Match object; span=(56, 57), match='3'>\n",
      "<re.Match object; span=(57, 58), match='4'>\n",
      "<re.Match object; span=(58, 59), match='5'>\n",
      "<re.Match object; span=(59, 60), match='6'>\n",
      "<re.Match object; span=(60, 61), match='7'>\n",
      "<re.Match object; span=(61, 62), match='8'>\n",
      "<re.Match object; span=(62, 63), match='9'>\n",
      "<re.Match object; span=(63, 64), match='0'>\n",
      "<re.Match object; span=(64, 65), match='1'>\n",
      "<re.Match object; span=(65, 66), match='0'>\n",
      "<re.Match object; span=(67, 68), match='H'>\n",
      "<re.Match object; span=(68, 69), match='a'>\n",
      "<re.Match object; span=(69, 70), match=' '>\n",
      "<re.Match object; span=(70, 71), match='H'>\n",
      "<re.Match object; span=(71, 72), match='a'>\n",
      "<re.Match object; span=(72, 73), match='H'>\n",
      "<re.Match object; span=(73, 74), match='a'>\n",
      "<re.Match object; span=(75, 76), match='M'>\n",
      "<re.Match object; span=(76, 77), match='e'>\n",
      "<re.Match object; span=(77, 78), match='t'>\n",
      "<re.Match object; span=(78, 79), match='a'>\n",
      "<re.Match object; span=(79, 80), match='C'>\n",
      "<re.Match object; span=(80, 81), match='h'>\n",
      "<re.Match object; span=(81, 82), match='a'>\n",
      "<re.Match object; span=(82, 83), match='r'>\n",
      "<re.Match object; span=(83, 84), match='a'>\n",
      "<re.Match object; span=(84, 85), match='c'>\n",
      "<re.Match object; span=(85, 86), match='t'>\n",
      "<re.Match object; span=(86, 87), match='e'>\n",
      "<re.Match object; span=(87, 88), match='r'>\n",
      "<re.Match object; span=(88, 89), match='s'>\n",
      "<re.Match object; span=(89, 90), match=' '>\n",
      "<re.Match object; span=(90, 91), match='('>\n",
      "<re.Match object; span=(91, 92), match='N'>\n",
      "<re.Match object; span=(92, 93), match='e'>\n",
      "<re.Match object; span=(93, 94), match='e'>\n",
      "<re.Match object; span=(94, 95), match='d'>\n",
      "<re.Match object; span=(95, 96), match=' '>\n",
      "<re.Match object; span=(96, 97), match='t'>\n",
      "<re.Match object; span=(97, 98), match='o'>\n",
      "<re.Match object; span=(98, 99), match=' '>\n",
      "<re.Match object; span=(99, 100), match='b'>\n",
      "<re.Match object; span=(100, 101), match='e'>\n",
      "<re.Match object; span=(101, 102), match=' '>\n",
      "<re.Match object; span=(102, 103), match='e'>\n",
      "<re.Match object; span=(103, 104), match='s'>\n",
      "<re.Match object; span=(104, 105), match='c'>\n",
      "<re.Match object; span=(105, 106), match='a'>\n",
      "<re.Match object; span=(106, 107), match='p'>\n",
      "<re.Match object; span=(107, 108), match='e'>\n",
      "<re.Match object; span=(108, 109), match='d'>\n",
      "<re.Match object; span=(109, 110), match=')'>\n",
      "<re.Match object; span=(110, 111), match=':'>\n",
      "<re.Match object; span=(112, 113), match='.'>\n",
      "<re.Match object; span=(113, 114), match=' '>\n",
      "<re.Match object; span=(114, 115), match='^'>\n",
      "<re.Match object; span=(115, 116), match=' '>\n",
      "<re.Match object; span=(116, 117), match='$'>\n",
      "<re.Match object; span=(117, 118), match=' '>\n",
      "<re.Match object; span=(118, 119), match='*'>\n",
      "<re.Match object; span=(119, 120), match=' '>\n",
      "<re.Match object; span=(120, 121), match='+'>\n",
      "<re.Match object; span=(121, 122), match=' '>\n",
      "<re.Match object; span=(122, 123), match='?'>\n",
      "<re.Match object; span=(123, 124), match=' '>\n",
      "<re.Match object; span=(124, 125), match='{'>\n",
      "<re.Match object; span=(125, 126), match=' '>\n",
      "<re.Match object; span=(126, 127), match='}'>\n",
      "<re.Match object; span=(127, 128), match=' '>\n",
      "<re.Match object; span=(128, 129), match='['>\n",
      "<re.Match object; span=(129, 130), match=' '>\n",
      "<re.Match object; span=(130, 131), match=']'>\n",
      "<re.Match object; span=(131, 132), match=' '>\n",
      "<re.Match object; span=(132, 133), match='\\\\'>\n",
      "<re.Match object; span=(133, 134), match=' '>\n",
      "<re.Match object; span=(134, 135), match='|'>\n",
      "<re.Match object; span=(135, 136), match=' '>\n",
      "<re.Match object; span=(136, 137), match='('>\n",
      "<re.Match object; span=(137, 138), match=' '>\n",
      "<re.Match object; span=(138, 139), match=')'>\n",
      "<re.Match object; span=(140, 141), match='a'>\n",
      "<re.Match object; span=(141, 142), match='b'>\n",
      "<re.Match object; span=(142, 143), match='c'>\n",
      "<re.Match object; span=(144, 145), match='c'>\n",
      "<re.Match object; span=(145, 146), match='a'>\n",
      "<re.Match object; span=(146, 147), match='t'>\n",
      "<re.Match object; span=(148, 149), match='m'>\n",
      "<re.Match object; span=(149, 150), match='a'>\n",
      "<re.Match object; span=(150, 151), match='t'>\n",
      "<re.Match object; span=(151, 152), match=' '>\n",
      "<re.Match object; span=(153, 154), match='h'>\n",
      "<re.Match object; span=(154, 155), match='a'>\n",
      "<re.Match object; span=(155, 156), match='t'>\n",
      "<re.Match object; span=(157, 158), match='b'>\n",
      "<re.Match object; span=(158, 159), match='a'>\n",
      "<re.Match object; span=(159, 160), match='t'>\n",
      "<re.Match object; span=(161, 162), match='f'>\n",
      "<re.Match object; span=(162, 163), match='a'>\n",
      "<re.Match object; span=(163, 164), match='t'>\n",
      "<re.Match object; span=(165, 166), match='s'>\n",
      "<re.Match object; span=(166, 167), match='a'>\n",
      "<re.Match object; span=(167, 168), match='t'>\n",
      "<re.Match object; span=(169, 170), match='0'>\n",
      "<re.Match object; span=(170, 171), match='1'>\n",
      "<re.Match object; span=(171, 172), match='0'>\n",
      "<re.Match object; span=(172, 173), match='9'>\n",
      "<re.Match object; span=(173, 174), match='2'>\n",
      "<re.Match object; span=(174, 175), match='3'>\n",
      "<re.Match object; span=(175, 176), match='2'>\n",
      "<re.Match object; span=(176, 177), match='9'>\n",
      "<re.Match object; span=(177, 178), match='3'>\n",
      "<re.Match object; span=(178, 179), match='4'>\n",
      "<re.Match object; span=(179, 180), match='0'>\n",
      "<re.Match object; span=(181, 182), match='0'>\n",
      "<re.Match object; span=(182, 183), match='1'>\n",
      "<re.Match object; span=(183, 184), match='1'>\n",
      "<re.Match object; span=(184, 185), match='2'>\n",
      "<re.Match object; span=(185, 186), match='3'>\n",
      "<re.Match object; span=(186, 187), match='2'>\n",
      "<re.Match object; span=(187, 188), match='3'>\n",
      "<re.Match object; span=(188, 189), match='4'>\n",
      "<re.Match object; span=(189, 190), match='3'>\n",
      "<re.Match object; span=(190, 191), match='5'>\n",
      "<re.Match object; span=(191, 192), match='5'>\n",
      "<re.Match object; span=(193, 194), match='0'>\n",
      "<re.Match object; span=(194, 195), match='1'>\n",
      "<re.Match object; span=(195, 196), match='0'>\n",
      "<re.Match object; span=(196, 197), match='2'>\n",
      "<re.Match object; span=(197, 198), match='3'>\n",
      "<re.Match object; span=(198, 199), match='4'>\n",
      "<re.Match object; span=(199, 200), match='5'>\n",
      "<re.Match object; span=(200, 201), match='5'>\n",
      "<re.Match object; span=(201, 202), match='4'>\n",
      "<re.Match object; span=(202, 203), match='1'>\n",
      "<re.Match object; span=(203, 204), match='1'>\n",
      "<re.Match object; span=(205, 206), match='0'>\n",
      "<re.Match object; span=(206, 207), match='1'>\n",
      "<re.Match object; span=(207, 208), match='2'>\n",
      "<re.Match object; span=(208, 209), match='3'>\n",
      "<re.Match object; span=(209, 210), match='4'>\n",
      "<re.Match object; span=(210, 211), match='5'>\n",
      "<re.Match object; span=(211, 212), match='6'>\n",
      "<re.Match object; span=(212, 213), match='7'>\n",
      "<re.Match object; span=(213, 214), match='8'>\n",
      "<re.Match object; span=(214, 215), match='7'>\n",
      "<re.Match object; span=(215, 216), match='5'>\n",
      "<re.Match object; span=(217, 218), match='0'>\n",
      "<re.Match object; span=(218, 219), match='1'>\n",
      "<re.Match object; span=(219, 220), match='5'>\n",
      "<re.Match object; span=(220, 221), match='3'>\n",
      "<re.Match object; span=(221, 222), match='4'>\n",
      "<re.Match object; span=(222, 223), match='5'>\n",
      "<re.Match object; span=(223, 224), match='6'>\n",
      "<re.Match object; span=(224, 225), match='7'>\n",
      "<re.Match object; span=(225, 226), match='4'>\n",
      "<re.Match object; span=(226, 227), match='5'>\n",
      "<re.Match object; span=(227, 228), match='6'>\n",
      "<re.Match object; span=(229, 230), match='0'>\n",
      "<re.Match object; span=(230, 231), match='1'>\n",
      "<re.Match object; span=(231, 232), match='1'>\n",
      "<re.Match object; span=(232, 233), match='3'>\n",
      "<re.Match object; span=(233, 234), match='4'>\n",
      "<re.Match object; span=(234, 235), match='5'>\n",
      "<re.Match object; span=(235, 236), match='6'>\n",
      "<re.Match object; span=(236, 237), match='7'>\n",
      "<re.Match object; span=(237, 238), match='8'>\n",
      "<re.Match object; span=(238, 239), match='5'>\n",
      "<re.Match object; span=(239, 240), match='6'>\n",
      "<re.Match object; span=(241, 242), match='c'>\n",
      "<re.Match object; span=(242, 243), match='o'>\n",
      "<re.Match object; span=(243, 244), match='r'>\n",
      "<re.Match object; span=(244, 245), match='e'>\n",
      "<re.Match object; span=(245, 246), match='y'>\n",
      "<re.Match object; span=(246, 247), match='m'>\n",
      "<re.Match object; span=(247, 248), match='s'>\n",
      "<re.Match object; span=(248, 249), match='-'>\n",
      "<re.Match object; span=(249, 250), match='c'>\n",
      "<re.Match object; span=(250, 251), match='o'>\n",
      "<re.Match object; span=(251, 252), match='m'>\n",
      "<re.Match object; span=(253, 254), match='3'>\n",
      "<re.Match object; span=(254, 255), match='2'>\n",
      "<re.Match object; span=(255, 256), match='1'>\n",
      "<re.Match object; span=(256, 257), match='-'>\n",
      "<re.Match object; span=(257, 258), match='5'>\n",
      "<re.Match object; span=(258, 259), match='5'>\n",
      "<re.Match object; span=(259, 260), match='5'>\n",
      "<re.Match object; span=(260, 261), match='-'>\n",
      "<re.Match object; span=(261, 262), match='4'>\n",
      "<re.Match object; span=(262, 263), match='3'>\n",
      "<re.Match object; span=(263, 264), match='2'>\n",
      "<re.Match object; span=(264, 265), match='1'>\n",
      "<re.Match object; span=(266, 267), match='1'>\n",
      "<re.Match object; span=(267, 268), match='2'>\n",
      "<re.Match object; span=(268, 269), match='3'>\n",
      "<re.Match object; span=(269, 270), match='.'>\n",
      "<re.Match object; span=(270, 271), match='5'>\n",
      "<re.Match object; span=(271, 272), match='5'>\n",
      "<re.Match object; span=(272, 273), match='5'>\n",
      "<re.Match object; span=(273, 274), match='.'>\n",
      "<re.Match object; span=(274, 275), match='1'>\n",
      "<re.Match object; span=(275, 276), match='2'>\n",
      "<re.Match object; span=(276, 277), match='3'>\n",
      "<re.Match object; span=(277, 278), match='4'>\n",
      "<re.Match object; span=(279, 280), match='1'>\n",
      "<re.Match object; span=(280, 281), match='2'>\n",
      "<re.Match object; span=(281, 282), match='3'>\n",
      "<re.Match object; span=(282, 283), match='*'>\n",
      "<re.Match object; span=(283, 284), match='5'>\n",
      "<re.Match object; span=(284, 285), match='5'>\n",
      "<re.Match object; span=(285, 286), match='5'>\n",
      "<re.Match object; span=(286, 287), match='*'>\n",
      "<re.Match object; span=(287, 288), match='1'>\n",
      "<re.Match object; span=(288, 289), match='2'>\n",
      "<re.Match object; span=(289, 290), match='3'>\n",
      "<re.Match object; span=(290, 291), match='4'>\n",
      "<re.Match object; span=(292, 293), match='8'>\n",
      "<re.Match object; span=(293, 294), match='0'>\n",
      "<re.Match object; span=(294, 295), match='0'>\n",
      "<re.Match object; span=(295, 296), match='-'>\n",
      "<re.Match object; span=(296, 297), match='5'>\n",
      "<re.Match object; span=(297, 298), match='5'>\n",
      "<re.Match object; span=(298, 299), match='5'>\n",
      "<re.Match object; span=(299, 300), match='-'>\n",
      "<re.Match object; span=(300, 301), match='1'>\n",
      "<re.Match object; span=(301, 302), match='2'>\n",
      "<re.Match object; span=(302, 303), match='3'>\n",
      "<re.Match object; span=(303, 304), match='4'>\n",
      "<re.Match object; span=(305, 306), match='9'>\n",
      "<re.Match object; span=(306, 307), match='0'>\n",
      "<re.Match object; span=(307, 308), match='0'>\n",
      "<re.Match object; span=(308, 309), match='-'>\n",
      "<re.Match object; span=(309, 310), match='5'>\n",
      "<re.Match object; span=(310, 311), match='5'>\n",
      "<re.Match object; span=(311, 312), match='5'>\n",
      "<re.Match object; span=(312, 313), match='-'>\n",
      "<re.Match object; span=(313, 314), match='1'>\n",
      "<re.Match object; span=(314, 315), match='2'>\n",
      "<re.Match object; span=(315, 316), match='3'>\n",
      "<re.Match object; span=(316, 317), match='4'>\n",
      "<re.Match object; span=(318, 319), match='1'>\n",
      "<re.Match object; span=(319, 320), match='0'>\n",
      "<re.Match object; span=(320, 321), match='0'>\n",
      "<re.Match object; span=(321, 322), match='a'>\n",
      "<re.Match object; span=(322, 323), match='1'>\n",
      "<re.Match object; span=(323, 324), match='2'>\n",
      "<re.Match object; span=(324, 325), match='1'>\n",
      "<re.Match object; span=(325, 326), match='C'>\n",
      "<re.Match object; span=(326, 327), match='4'>\n",
      "<re.Match object; span=(327, 328), match='5'>\n",
      "<re.Match object; span=(328, 329), match='4'>\n",
      "<re.Match object; span=(329, 330), match='3'>\n",
      "<re.Match object; span=(331, 332), match='M'>\n",
      "<re.Match object; span=(332, 333), match='r'>\n",
      "<re.Match object; span=(333, 334), match='.'>\n",
      "<re.Match object; span=(334, 335), match=' '>\n",
      "<re.Match object; span=(335, 336), match='S'>\n",
      "<re.Match object; span=(336, 337), match='c'>\n",
      "<re.Match object; span=(337, 338), match='h'>\n",
      "<re.Match object; span=(338, 339), match='a'>\n",
      "<re.Match object; span=(339, 340), match='f'>\n",
      "<re.Match object; span=(340, 341), match='e'>\n",
      "<re.Match object; span=(341, 342), match='r'>\n",
      "<re.Match object; span=(343, 344), match='M'>\n",
      "<re.Match object; span=(344, 345), match='r'>\n",
      "<re.Match object; span=(345, 346), match=' '>\n",
      "<re.Match object; span=(346, 347), match='S'>\n",
      "<re.Match object; span=(347, 348), match='m'>\n",
      "<re.Match object; span=(348, 349), match='i'>\n",
      "<re.Match object; span=(349, 350), match='t'>\n",
      "<re.Match object; span=(350, 351), match='h'>\n",
      "<re.Match object; span=(352, 353), match='M'>\n",
      "<re.Match object; span=(353, 354), match='s'>\n",
      "<re.Match object; span=(354, 355), match=' '>\n",
      "<re.Match object; span=(355, 356), match='D'>\n",
      "<re.Match object; span=(356, 357), match='a'>\n",
      "<re.Match object; span=(357, 358), match='v'>\n",
      "<re.Match object; span=(358, 359), match='i'>\n",
      "<re.Match object; span=(359, 360), match='s'>\n",
      "<re.Match object; span=(361, 362), match='M'>\n",
      "<re.Match object; span=(362, 363), match='r'>\n",
      "<re.Match object; span=(363, 364), match='s'>\n",
      "<re.Match object; span=(364, 365), match='.'>\n",
      "<re.Match object; span=(365, 366), match=' '>\n",
      "<re.Match object; span=(366, 367), match='R'>\n",
      "<re.Match object; span=(367, 368), match='o'>\n",
      "<re.Match object; span=(368, 369), match='b'>\n",
      "<re.Match object; span=(369, 370), match='i'>\n",
      "<re.Match object; span=(370, 371), match='n'>\n",
      "<re.Match object; span=(371, 372), match='s'>\n",
      "<re.Match object; span=(372, 373), match='o'>\n",
      "<re.Match object; span=(373, 374), match='n'>\n",
      "<re.Match object; span=(375, 376), match='M'>\n",
      "<re.Match object; span=(376, 377), match='r'>\n",
      "<re.Match object; span=(377, 378), match='.'>\n",
      "<re.Match object; span=(378, 379), match=' '>\n",
      "<re.Match object; span=(379, 380), match='T'>\n"
     ]
    }
   ],
   "source": [
    "pattern = re.compile(\".\") # same as : re.compile(r\".\")\n",
    "matches = pattern.finditer(text_to_search)\n",
    "\n",
    "for match in matches:\n",
    "    print(match)       # prints everything except new lines"
   ]
  },
  {
   "cell_type": "code",
   "execution_count": 11,
   "id": "8192bcee",
   "metadata": {
    "ExecuteTime": {
     "end_time": "2021-12-23T07:28:36.902335Z",
     "start_time": "2021-12-23T07:28:36.895743Z"
    }
   },
   "outputs": [
    {
     "name": "stdout",
     "output_type": "stream",
     "text": [
      "<re.Match object; span=(54, 56), match='12'>\n",
      "<re.Match object; span=(56, 58), match='34'>\n",
      "<re.Match object; span=(58, 60), match='56'>\n",
      "<re.Match object; span=(60, 62), match='78'>\n",
      "<re.Match object; span=(62, 64), match='90'>\n",
      "<re.Match object; span=(64, 66), match='10'>\n",
      "<re.Match object; span=(169, 171), match='01'>\n",
      "<re.Match object; span=(171, 173), match='09'>\n",
      "<re.Match object; span=(173, 175), match='23'>\n",
      "<re.Match object; span=(175, 177), match='29'>\n",
      "<re.Match object; span=(177, 179), match='34'>\n",
      "<re.Match object; span=(181, 183), match='01'>\n",
      "<re.Match object; span=(183, 185), match='12'>\n",
      "<re.Match object; span=(185, 187), match='32'>\n",
      "<re.Match object; span=(187, 189), match='34'>\n",
      "<re.Match object; span=(189, 191), match='35'>\n",
      "<re.Match object; span=(193, 195), match='01'>\n",
      "<re.Match object; span=(195, 197), match='02'>\n",
      "<re.Match object; span=(197, 199), match='34'>\n",
      "<re.Match object; span=(199, 201), match='55'>\n",
      "<re.Match object; span=(201, 203), match='41'>\n",
      "<re.Match object; span=(205, 207), match='01'>\n",
      "<re.Match object; span=(207, 209), match='23'>\n",
      "<re.Match object; span=(209, 211), match='45'>\n",
      "<re.Match object; span=(211, 213), match='67'>\n",
      "<re.Match object; span=(213, 215), match='87'>\n",
      "<re.Match object; span=(217, 219), match='01'>\n",
      "<re.Match object; span=(219, 221), match='53'>\n",
      "<re.Match object; span=(221, 223), match='45'>\n",
      "<re.Match object; span=(223, 225), match='67'>\n",
      "<re.Match object; span=(225, 227), match='45'>\n",
      "<re.Match object; span=(229, 231), match='01'>\n",
      "<re.Match object; span=(231, 233), match='13'>\n",
      "<re.Match object; span=(233, 235), match='45'>\n",
      "<re.Match object; span=(235, 237), match='67'>\n",
      "<re.Match object; span=(237, 239), match='85'>\n",
      "<re.Match object; span=(253, 255), match='32'>\n",
      "<re.Match object; span=(257, 259), match='55'>\n",
      "<re.Match object; span=(261, 263), match='43'>\n",
      "<re.Match object; span=(263, 265), match='21'>\n",
      "<re.Match object; span=(266, 268), match='12'>\n",
      "<re.Match object; span=(270, 272), match='55'>\n",
      "<re.Match object; span=(274, 276), match='12'>\n",
      "<re.Match object; span=(276, 278), match='34'>\n",
      "<re.Match object; span=(279, 281), match='12'>\n",
      "<re.Match object; span=(283, 285), match='55'>\n",
      "<re.Match object; span=(287, 289), match='12'>\n",
      "<re.Match object; span=(289, 291), match='34'>\n",
      "<re.Match object; span=(292, 294), match='80'>\n",
      "<re.Match object; span=(296, 298), match='55'>\n",
      "<re.Match object; span=(300, 302), match='12'>\n",
      "<re.Match object; span=(302, 304), match='34'>\n",
      "<re.Match object; span=(305, 307), match='90'>\n",
      "<re.Match object; span=(309, 311), match='55'>\n",
      "<re.Match object; span=(313, 315), match='12'>\n",
      "<re.Match object; span=(315, 317), match='34'>\n",
      "<re.Match object; span=(318, 320), match='10'>\n",
      "<re.Match object; span=(322, 324), match='12'>\n",
      "<re.Match object; span=(326, 328), match='45'>\n",
      "<re.Match object; span=(328, 330), match='43'>\n"
     ]
    }
   ],
   "source": [
    "pattern = re.compile(r\"\\d\\d\") #prints two consecutive digits without repeating\n",
    "matches = pattern.finditer(text_to_search)\n",
    "\n",
    "for match in matches:\n",
    "    print(match)"
   ]
  },
  {
   "cell_type": "code",
   "execution_count": 12,
   "id": "3aca240a",
   "metadata": {
    "ExecuteTime": {
     "end_time": "2021-12-23T07:29:22.912214Z",
     "start_time": "2021-12-23T07:29:22.903764Z"
    }
   },
   "outputs": [
    {
     "name": "stdout",
     "output_type": "stream",
     "text": [
      "<re.Match object; span=(54, 57), match='123'>\n",
      "<re.Match object; span=(57, 60), match='456'>\n",
      "<re.Match object; span=(60, 63), match='789'>\n",
      "<re.Match object; span=(63, 66), match='010'>\n",
      "<re.Match object; span=(169, 172), match='010'>\n",
      "<re.Match object; span=(172, 175), match='923'>\n",
      "<re.Match object; span=(175, 178), match='293'>\n",
      "<re.Match object; span=(181, 184), match='011'>\n",
      "<re.Match object; span=(184, 187), match='232'>\n",
      "<re.Match object; span=(187, 190), match='343'>\n",
      "<re.Match object; span=(193, 196), match='010'>\n",
      "<re.Match object; span=(196, 199), match='234'>\n",
      "<re.Match object; span=(199, 202), match='554'>\n",
      "<re.Match object; span=(205, 208), match='012'>\n",
      "<re.Match object; span=(208, 211), match='345'>\n",
      "<re.Match object; span=(211, 214), match='678'>\n",
      "<re.Match object; span=(217, 220), match='015'>\n",
      "<re.Match object; span=(220, 223), match='345'>\n",
      "<re.Match object; span=(223, 226), match='674'>\n",
      "<re.Match object; span=(229, 232), match='011'>\n",
      "<re.Match object; span=(232, 235), match='345'>\n",
      "<re.Match object; span=(235, 238), match='678'>\n",
      "<re.Match object; span=(253, 256), match='321'>\n",
      "<re.Match object; span=(257, 260), match='555'>\n",
      "<re.Match object; span=(261, 264), match='432'>\n",
      "<re.Match object; span=(266, 269), match='123'>\n",
      "<re.Match object; span=(270, 273), match='555'>\n",
      "<re.Match object; span=(274, 277), match='123'>\n",
      "<re.Match object; span=(279, 282), match='123'>\n",
      "<re.Match object; span=(283, 286), match='555'>\n",
      "<re.Match object; span=(287, 290), match='123'>\n",
      "<re.Match object; span=(292, 295), match='800'>\n",
      "<re.Match object; span=(296, 299), match='555'>\n",
      "<re.Match object; span=(300, 303), match='123'>\n",
      "<re.Match object; span=(305, 308), match='900'>\n",
      "<re.Match object; span=(309, 312), match='555'>\n",
      "<re.Match object; span=(313, 316), match='123'>\n",
      "<re.Match object; span=(318, 321), match='100'>\n",
      "<re.Match object; span=(322, 325), match='121'>\n",
      "<re.Match object; span=(326, 329), match='454'>\n"
     ]
    }
   ],
   "source": [
    "pattern = re.compile(r\"\\d{3}\") #prints three consecutive digits without repeating\n",
    "matches = pattern.finditer(text_to_search)\n",
    "\n",
    "for match in matches:\n",
    "    print(match)"
   ]
  },
  {
   "cell_type": "code",
   "execution_count": 13,
   "id": "63af237b",
   "metadata": {
    "ExecuteTime": {
     "end_time": "2021-12-23T07:30:57.678535Z",
     "start_time": "2021-12-23T07:30:57.664585Z"
    }
   },
   "outputs": [
    {
     "name": "stdout",
     "output_type": "stream",
     "text": [
      "<re.Match object; span=(0, 1), match='a'>\n",
      "<re.Match object; span=(1, 2), match='b'>\n",
      "<re.Match object; span=(2, 3), match='c'>\n",
      "<re.Match object; span=(3, 4), match='d'>\n",
      "<re.Match object; span=(4, 5), match='e'>\n",
      "<re.Match object; span=(5, 6), match='f'>\n",
      "<re.Match object; span=(6, 7), match='g'>\n",
      "<re.Match object; span=(7, 8), match='h'>\n",
      "<re.Match object; span=(8, 9), match='i'>\n",
      "<re.Match object; span=(9, 10), match='j'>\n",
      "<re.Match object; span=(10, 11), match='k'>\n",
      "<re.Match object; span=(11, 12), match='l'>\n",
      "<re.Match object; span=(12, 13), match='m'>\n",
      "<re.Match object; span=(13, 14), match='n'>\n",
      "<re.Match object; span=(14, 15), match='o'>\n",
      "<re.Match object; span=(15, 16), match='p'>\n",
      "<re.Match object; span=(16, 17), match='q'>\n",
      "<re.Match object; span=(17, 18), match='u'>\n",
      "<re.Match object; span=(18, 19), match='r'>\n",
      "<re.Match object; span=(19, 20), match='t'>\n",
      "<re.Match object; span=(20, 21), match='u'>\n",
      "<re.Match object; span=(21, 22), match='v'>\n",
      "<re.Match object; span=(22, 23), match='w'>\n",
      "<re.Match object; span=(23, 24), match='x'>\n",
      "<re.Match object; span=(24, 25), match='y'>\n",
      "<re.Match object; span=(25, 26), match='z'>\n",
      "<re.Match object; span=(26, 27), match='\\n'>\n",
      "<re.Match object; span=(27, 28), match='A'>\n",
      "<re.Match object; span=(28, 29), match='B'>\n",
      "<re.Match object; span=(29, 30), match='C'>\n",
      "<re.Match object; span=(30, 31), match='D'>\n",
      "<re.Match object; span=(31, 32), match='E'>\n",
      "<re.Match object; span=(32, 33), match='F'>\n",
      "<re.Match object; span=(33, 34), match='G'>\n",
      "<re.Match object; span=(34, 35), match='H'>\n",
      "<re.Match object; span=(35, 36), match='I'>\n",
      "<re.Match object; span=(36, 37), match='J'>\n",
      "<re.Match object; span=(37, 38), match='K'>\n",
      "<re.Match object; span=(38, 39), match='L'>\n",
      "<re.Match object; span=(39, 40), match='M'>\n",
      "<re.Match object; span=(40, 41), match='N'>\n",
      "<re.Match object; span=(41, 42), match='O'>\n",
      "<re.Match object; span=(42, 43), match='P'>\n",
      "<re.Match object; span=(43, 44), match='Q'>\n",
      "<re.Match object; span=(44, 45), match='R'>\n",
      "<re.Match object; span=(45, 46), match='S'>\n",
      "<re.Match object; span=(46, 47), match='T'>\n",
      "<re.Match object; span=(47, 48), match='U'>\n",
      "<re.Match object; span=(48, 49), match='V'>\n",
      "<re.Match object; span=(49, 50), match='W'>\n",
      "<re.Match object; span=(50, 51), match='X'>\n",
      "<re.Match object; span=(51, 52), match='Y'>\n",
      "<re.Match object; span=(52, 53), match='Z'>\n",
      "<re.Match object; span=(53, 54), match='\\n'>\n",
      "<re.Match object; span=(66, 67), match='\\n'>\n",
      "<re.Match object; span=(67, 68), match='H'>\n",
      "<re.Match object; span=(68, 69), match='a'>\n",
      "<re.Match object; span=(69, 70), match=' '>\n",
      "<re.Match object; span=(70, 71), match='H'>\n",
      "<re.Match object; span=(71, 72), match='a'>\n",
      "<re.Match object; span=(72, 73), match='H'>\n",
      "<re.Match object; span=(73, 74), match='a'>\n",
      "<re.Match object; span=(74, 75), match='\\n'>\n",
      "<re.Match object; span=(75, 76), match='M'>\n",
      "<re.Match object; span=(76, 77), match='e'>\n",
      "<re.Match object; span=(77, 78), match='t'>\n",
      "<re.Match object; span=(78, 79), match='a'>\n",
      "<re.Match object; span=(79, 80), match='C'>\n",
      "<re.Match object; span=(80, 81), match='h'>\n",
      "<re.Match object; span=(81, 82), match='a'>\n",
      "<re.Match object; span=(82, 83), match='r'>\n",
      "<re.Match object; span=(83, 84), match='a'>\n",
      "<re.Match object; span=(84, 85), match='c'>\n",
      "<re.Match object; span=(85, 86), match='t'>\n",
      "<re.Match object; span=(86, 87), match='e'>\n",
      "<re.Match object; span=(87, 88), match='r'>\n",
      "<re.Match object; span=(88, 89), match='s'>\n",
      "<re.Match object; span=(89, 90), match=' '>\n",
      "<re.Match object; span=(90, 91), match='('>\n",
      "<re.Match object; span=(91, 92), match='N'>\n",
      "<re.Match object; span=(92, 93), match='e'>\n",
      "<re.Match object; span=(93, 94), match='e'>\n",
      "<re.Match object; span=(94, 95), match='d'>\n",
      "<re.Match object; span=(95, 96), match=' '>\n",
      "<re.Match object; span=(96, 97), match='t'>\n",
      "<re.Match object; span=(97, 98), match='o'>\n",
      "<re.Match object; span=(98, 99), match=' '>\n",
      "<re.Match object; span=(99, 100), match='b'>\n",
      "<re.Match object; span=(100, 101), match='e'>\n",
      "<re.Match object; span=(101, 102), match=' '>\n",
      "<re.Match object; span=(102, 103), match='e'>\n",
      "<re.Match object; span=(103, 104), match='s'>\n",
      "<re.Match object; span=(104, 105), match='c'>\n",
      "<re.Match object; span=(105, 106), match='a'>\n",
      "<re.Match object; span=(106, 107), match='p'>\n",
      "<re.Match object; span=(107, 108), match='e'>\n",
      "<re.Match object; span=(108, 109), match='d'>\n",
      "<re.Match object; span=(109, 110), match=')'>\n",
      "<re.Match object; span=(110, 111), match=':'>\n",
      "<re.Match object; span=(111, 112), match='\\n'>\n",
      "<re.Match object; span=(112, 113), match='.'>\n",
      "<re.Match object; span=(113, 114), match=' '>\n",
      "<re.Match object; span=(114, 115), match='^'>\n",
      "<re.Match object; span=(115, 116), match=' '>\n",
      "<re.Match object; span=(116, 117), match='$'>\n",
      "<re.Match object; span=(117, 118), match=' '>\n",
      "<re.Match object; span=(118, 119), match='*'>\n",
      "<re.Match object; span=(119, 120), match=' '>\n",
      "<re.Match object; span=(120, 121), match='+'>\n",
      "<re.Match object; span=(121, 122), match=' '>\n",
      "<re.Match object; span=(122, 123), match='?'>\n",
      "<re.Match object; span=(123, 124), match=' '>\n",
      "<re.Match object; span=(124, 125), match='{'>\n",
      "<re.Match object; span=(125, 126), match=' '>\n",
      "<re.Match object; span=(126, 127), match='}'>\n",
      "<re.Match object; span=(127, 128), match=' '>\n",
      "<re.Match object; span=(128, 129), match='['>\n",
      "<re.Match object; span=(129, 130), match=' '>\n",
      "<re.Match object; span=(130, 131), match=']'>\n",
      "<re.Match object; span=(131, 132), match=' '>\n",
      "<re.Match object; span=(132, 133), match='\\\\'>\n",
      "<re.Match object; span=(133, 134), match=' '>\n",
      "<re.Match object; span=(134, 135), match='|'>\n",
      "<re.Match object; span=(135, 136), match=' '>\n",
      "<re.Match object; span=(136, 137), match='('>\n",
      "<re.Match object; span=(137, 138), match=' '>\n",
      "<re.Match object; span=(138, 139), match=')'>\n",
      "<re.Match object; span=(139, 140), match='\\n'>\n",
      "<re.Match object; span=(140, 141), match='a'>\n",
      "<re.Match object; span=(141, 142), match='b'>\n",
      "<re.Match object; span=(142, 143), match='c'>\n",
      "<re.Match object; span=(143, 144), match='\\n'>\n",
      "<re.Match object; span=(144, 145), match='c'>\n",
      "<re.Match object; span=(145, 146), match='a'>\n",
      "<re.Match object; span=(146, 147), match='t'>\n",
      "<re.Match object; span=(147, 148), match='\\n'>\n",
      "<re.Match object; span=(148, 149), match='m'>\n",
      "<re.Match object; span=(149, 150), match='a'>\n",
      "<re.Match object; span=(150, 151), match='t'>\n",
      "<re.Match object; span=(151, 152), match=' '>\n",
      "<re.Match object; span=(152, 153), match='\\n'>\n",
      "<re.Match object; span=(153, 154), match='h'>\n",
      "<re.Match object; span=(154, 155), match='a'>\n",
      "<re.Match object; span=(155, 156), match='t'>\n",
      "<re.Match object; span=(156, 157), match='\\n'>\n",
      "<re.Match object; span=(157, 158), match='b'>\n",
      "<re.Match object; span=(158, 159), match='a'>\n",
      "<re.Match object; span=(159, 160), match='t'>\n",
      "<re.Match object; span=(160, 161), match='\\n'>\n",
      "<re.Match object; span=(161, 162), match='f'>\n",
      "<re.Match object; span=(162, 163), match='a'>\n",
      "<re.Match object; span=(163, 164), match='t'>\n",
      "<re.Match object; span=(164, 165), match='\\n'>\n",
      "<re.Match object; span=(165, 166), match='s'>\n",
      "<re.Match object; span=(166, 167), match='a'>\n",
      "<re.Match object; span=(167, 168), match='t'>\n",
      "<re.Match object; span=(168, 169), match='\\n'>\n",
      "<re.Match object; span=(180, 181), match='\\n'>\n",
      "<re.Match object; span=(192, 193), match='\\n'>\n",
      "<re.Match object; span=(204, 205), match='\\n'>\n",
      "<re.Match object; span=(216, 217), match='\\n'>\n",
      "<re.Match object; span=(228, 229), match='\\n'>\n",
      "<re.Match object; span=(240, 241), match='\\n'>\n",
      "<re.Match object; span=(241, 242), match='c'>\n",
      "<re.Match object; span=(242, 243), match='o'>\n",
      "<re.Match object; span=(243, 244), match='r'>\n",
      "<re.Match object; span=(244, 245), match='e'>\n",
      "<re.Match object; span=(245, 246), match='y'>\n",
      "<re.Match object; span=(246, 247), match='m'>\n",
      "<re.Match object; span=(247, 248), match='s'>\n",
      "<re.Match object; span=(248, 249), match='-'>\n",
      "<re.Match object; span=(249, 250), match='c'>\n",
      "<re.Match object; span=(250, 251), match='o'>\n",
      "<re.Match object; span=(251, 252), match='m'>\n",
      "<re.Match object; span=(252, 253), match='\\n'>\n",
      "<re.Match object; span=(256, 257), match='-'>\n",
      "<re.Match object; span=(260, 261), match='-'>\n",
      "<re.Match object; span=(265, 266), match='\\n'>\n",
      "<re.Match object; span=(269, 270), match='.'>\n",
      "<re.Match object; span=(273, 274), match='.'>\n",
      "<re.Match object; span=(278, 279), match='\\n'>\n",
      "<re.Match object; span=(282, 283), match='*'>\n",
      "<re.Match object; span=(286, 287), match='*'>\n",
      "<re.Match object; span=(291, 292), match='\\n'>\n",
      "<re.Match object; span=(295, 296), match='-'>\n",
      "<re.Match object; span=(299, 300), match='-'>\n",
      "<re.Match object; span=(304, 305), match='\\n'>\n",
      "<re.Match object; span=(308, 309), match='-'>\n",
      "<re.Match object; span=(312, 313), match='-'>\n",
      "<re.Match object; span=(317, 318), match='\\n'>\n",
      "<re.Match object; span=(321, 322), match='a'>\n",
      "<re.Match object; span=(325, 326), match='C'>\n",
      "<re.Match object; span=(330, 331), match='\\n'>\n",
      "<re.Match object; span=(331, 332), match='M'>\n",
      "<re.Match object; span=(332, 333), match='r'>\n",
      "<re.Match object; span=(333, 334), match='.'>\n",
      "<re.Match object; span=(334, 335), match=' '>\n",
      "<re.Match object; span=(335, 336), match='S'>\n",
      "<re.Match object; span=(336, 337), match='c'>\n",
      "<re.Match object; span=(337, 338), match='h'>\n",
      "<re.Match object; span=(338, 339), match='a'>\n",
      "<re.Match object; span=(339, 340), match='f'>\n",
      "<re.Match object; span=(340, 341), match='e'>\n",
      "<re.Match object; span=(341, 342), match='r'>\n",
      "<re.Match object; span=(342, 343), match='\\n'>\n",
      "<re.Match object; span=(343, 344), match='M'>\n",
      "<re.Match object; span=(344, 345), match='r'>\n",
      "<re.Match object; span=(345, 346), match=' '>\n",
      "<re.Match object; span=(346, 347), match='S'>\n",
      "<re.Match object; span=(347, 348), match='m'>\n",
      "<re.Match object; span=(348, 349), match='i'>\n",
      "<re.Match object; span=(349, 350), match='t'>\n",
      "<re.Match object; span=(350, 351), match='h'>\n",
      "<re.Match object; span=(351, 352), match='\\n'>\n",
      "<re.Match object; span=(352, 353), match='M'>\n",
      "<re.Match object; span=(353, 354), match='s'>\n",
      "<re.Match object; span=(354, 355), match=' '>\n",
      "<re.Match object; span=(355, 356), match='D'>\n",
      "<re.Match object; span=(356, 357), match='a'>\n",
      "<re.Match object; span=(357, 358), match='v'>\n",
      "<re.Match object; span=(358, 359), match='i'>\n",
      "<re.Match object; span=(359, 360), match='s'>\n",
      "<re.Match object; span=(360, 361), match='\\n'>\n",
      "<re.Match object; span=(361, 362), match='M'>\n",
      "<re.Match object; span=(362, 363), match='r'>\n",
      "<re.Match object; span=(363, 364), match='s'>\n",
      "<re.Match object; span=(364, 365), match='.'>\n",
      "<re.Match object; span=(365, 366), match=' '>\n",
      "<re.Match object; span=(366, 367), match='R'>\n",
      "<re.Match object; span=(367, 368), match='o'>\n",
      "<re.Match object; span=(368, 369), match='b'>\n",
      "<re.Match object; span=(369, 370), match='i'>\n",
      "<re.Match object; span=(370, 371), match='n'>\n",
      "<re.Match object; span=(371, 372), match='s'>\n",
      "<re.Match object; span=(372, 373), match='o'>\n",
      "<re.Match object; span=(373, 374), match='n'>\n",
      "<re.Match object; span=(374, 375), match='\\n'>\n",
      "<re.Match object; span=(375, 376), match='M'>\n",
      "<re.Match object; span=(376, 377), match='r'>\n",
      "<re.Match object; span=(377, 378), match='.'>\n",
      "<re.Match object; span=(378, 379), match=' '>\n",
      "<re.Match object; span=(379, 380), match='T'>\n",
      "<re.Match object; span=(380, 381), match='\\n'>\n"
     ]
    }
   ],
   "source": [
    "pattern = re.compile(r\"\\D\") # anything except digits \n",
    "matches = pattern.finditer(text_to_search)\n",
    "\n",
    "for match in matches:\n",
    "    print(match)"
   ]
  },
  {
   "cell_type": "code",
   "execution_count": 14,
   "id": "4cf54b39",
   "metadata": {
    "ExecuteTime": {
     "end_time": "2021-12-23T07:32:26.049125Z",
     "start_time": "2021-12-23T07:32:26.036782Z"
    }
   },
   "outputs": [
    {
     "name": "stdout",
     "output_type": "stream",
     "text": [
      "<re.Match object; span=(0, 2), match='ab'>\n",
      "<re.Match object; span=(2, 4), match='cd'>\n",
      "<re.Match object; span=(4, 6), match='ef'>\n",
      "<re.Match object; span=(6, 8), match='gh'>\n",
      "<re.Match object; span=(8, 10), match='ij'>\n",
      "<re.Match object; span=(10, 12), match='kl'>\n",
      "<re.Match object; span=(12, 14), match='mn'>\n",
      "<re.Match object; span=(14, 16), match='op'>\n",
      "<re.Match object; span=(16, 18), match='qu'>\n",
      "<re.Match object; span=(18, 20), match='rt'>\n",
      "<re.Match object; span=(20, 22), match='uv'>\n",
      "<re.Match object; span=(22, 24), match='wx'>\n",
      "<re.Match object; span=(24, 26), match='yz'>\n",
      "<re.Match object; span=(27, 29), match='AB'>\n",
      "<re.Match object; span=(29, 31), match='CD'>\n",
      "<re.Match object; span=(31, 33), match='EF'>\n",
      "<re.Match object; span=(33, 35), match='GH'>\n",
      "<re.Match object; span=(35, 37), match='IJ'>\n",
      "<re.Match object; span=(37, 39), match='KL'>\n",
      "<re.Match object; span=(39, 41), match='MN'>\n",
      "<re.Match object; span=(41, 43), match='OP'>\n",
      "<re.Match object; span=(43, 45), match='QR'>\n",
      "<re.Match object; span=(45, 47), match='ST'>\n",
      "<re.Match object; span=(47, 49), match='UV'>\n",
      "<re.Match object; span=(49, 51), match='WX'>\n",
      "<re.Match object; span=(51, 53), match='YZ'>\n",
      "<re.Match object; span=(54, 56), match='12'>\n",
      "<re.Match object; span=(56, 58), match='34'>\n",
      "<re.Match object; span=(58, 60), match='56'>\n",
      "<re.Match object; span=(60, 62), match='78'>\n",
      "<re.Match object; span=(62, 64), match='90'>\n",
      "<re.Match object; span=(64, 66), match='10'>\n",
      "<re.Match object; span=(67, 69), match='Ha'>\n",
      "<re.Match object; span=(70, 72), match='Ha'>\n",
      "<re.Match object; span=(72, 74), match='Ha'>\n",
      "<re.Match object; span=(75, 77), match='Me'>\n",
      "<re.Match object; span=(77, 79), match='ta'>\n",
      "<re.Match object; span=(79, 81), match='Ch'>\n",
      "<re.Match object; span=(81, 83), match='ar'>\n",
      "<re.Match object; span=(83, 85), match='ac'>\n",
      "<re.Match object; span=(85, 87), match='te'>\n",
      "<re.Match object; span=(87, 89), match='rs'>\n",
      "<re.Match object; span=(91, 93), match='Ne'>\n",
      "<re.Match object; span=(93, 95), match='ed'>\n",
      "<re.Match object; span=(96, 98), match='to'>\n",
      "<re.Match object; span=(99, 101), match='be'>\n",
      "<re.Match object; span=(102, 104), match='es'>\n",
      "<re.Match object; span=(104, 106), match='ca'>\n",
      "<re.Match object; span=(106, 108), match='pe'>\n",
      "<re.Match object; span=(140, 142), match='ab'>\n",
      "<re.Match object; span=(144, 146), match='ca'>\n",
      "<re.Match object; span=(148, 150), match='ma'>\n",
      "<re.Match object; span=(153, 155), match='ha'>\n",
      "<re.Match object; span=(157, 159), match='ba'>\n",
      "<re.Match object; span=(161, 163), match='fa'>\n",
      "<re.Match object; span=(165, 167), match='sa'>\n",
      "<re.Match object; span=(169, 171), match='01'>\n",
      "<re.Match object; span=(171, 173), match='09'>\n",
      "<re.Match object; span=(173, 175), match='23'>\n",
      "<re.Match object; span=(175, 177), match='29'>\n",
      "<re.Match object; span=(177, 179), match='34'>\n",
      "<re.Match object; span=(181, 183), match='01'>\n",
      "<re.Match object; span=(183, 185), match='12'>\n",
      "<re.Match object; span=(185, 187), match='32'>\n",
      "<re.Match object; span=(187, 189), match='34'>\n",
      "<re.Match object; span=(189, 191), match='35'>\n",
      "<re.Match object; span=(193, 195), match='01'>\n",
      "<re.Match object; span=(195, 197), match='02'>\n",
      "<re.Match object; span=(197, 199), match='34'>\n",
      "<re.Match object; span=(199, 201), match='55'>\n",
      "<re.Match object; span=(201, 203), match='41'>\n",
      "<re.Match object; span=(205, 207), match='01'>\n",
      "<re.Match object; span=(207, 209), match='23'>\n",
      "<re.Match object; span=(209, 211), match='45'>\n",
      "<re.Match object; span=(211, 213), match='67'>\n",
      "<re.Match object; span=(213, 215), match='87'>\n",
      "<re.Match object; span=(217, 219), match='01'>\n",
      "<re.Match object; span=(219, 221), match='53'>\n",
      "<re.Match object; span=(221, 223), match='45'>\n",
      "<re.Match object; span=(223, 225), match='67'>\n",
      "<re.Match object; span=(225, 227), match='45'>\n",
      "<re.Match object; span=(229, 231), match='01'>\n",
      "<re.Match object; span=(231, 233), match='13'>\n",
      "<re.Match object; span=(233, 235), match='45'>\n",
      "<re.Match object; span=(235, 237), match='67'>\n",
      "<re.Match object; span=(237, 239), match='85'>\n",
      "<re.Match object; span=(241, 243), match='co'>\n",
      "<re.Match object; span=(243, 245), match='re'>\n",
      "<re.Match object; span=(245, 247), match='ym'>\n",
      "<re.Match object; span=(249, 251), match='co'>\n",
      "<re.Match object; span=(253, 255), match='32'>\n",
      "<re.Match object; span=(257, 259), match='55'>\n",
      "<re.Match object; span=(261, 263), match='43'>\n",
      "<re.Match object; span=(263, 265), match='21'>\n",
      "<re.Match object; span=(266, 268), match='12'>\n",
      "<re.Match object; span=(270, 272), match='55'>\n",
      "<re.Match object; span=(274, 276), match='12'>\n",
      "<re.Match object; span=(276, 278), match='34'>\n",
      "<re.Match object; span=(279, 281), match='12'>\n",
      "<re.Match object; span=(283, 285), match='55'>\n",
      "<re.Match object; span=(287, 289), match='12'>\n",
      "<re.Match object; span=(289, 291), match='34'>\n",
      "<re.Match object; span=(292, 294), match='80'>\n",
      "<re.Match object; span=(296, 298), match='55'>\n",
      "<re.Match object; span=(300, 302), match='12'>\n",
      "<re.Match object; span=(302, 304), match='34'>\n",
      "<re.Match object; span=(305, 307), match='90'>\n",
      "<re.Match object; span=(309, 311), match='55'>\n",
      "<re.Match object; span=(313, 315), match='12'>\n",
      "<re.Match object; span=(315, 317), match='34'>\n",
      "<re.Match object; span=(318, 320), match='10'>\n",
      "<re.Match object; span=(320, 322), match='0a'>\n",
      "<re.Match object; span=(322, 324), match='12'>\n",
      "<re.Match object; span=(324, 326), match='1C'>\n",
      "<re.Match object; span=(326, 328), match='45'>\n",
      "<re.Match object; span=(328, 330), match='43'>\n",
      "<re.Match object; span=(331, 333), match='Mr'>\n",
      "<re.Match object; span=(335, 337), match='Sc'>\n",
      "<re.Match object; span=(337, 339), match='ha'>\n",
      "<re.Match object; span=(339, 341), match='fe'>\n",
      "<re.Match object; span=(343, 345), match='Mr'>\n",
      "<re.Match object; span=(346, 348), match='Sm'>\n",
      "<re.Match object; span=(348, 350), match='it'>\n",
      "<re.Match object; span=(352, 354), match='Ms'>\n",
      "<re.Match object; span=(355, 357), match='Da'>\n",
      "<re.Match object; span=(357, 359), match='vi'>\n",
      "<re.Match object; span=(361, 363), match='Mr'>\n",
      "<re.Match object; span=(366, 368), match='Ro'>\n",
      "<re.Match object; span=(368, 370), match='bi'>\n",
      "<re.Match object; span=(370, 372), match='ns'>\n",
      "<re.Match object; span=(372, 374), match='on'>\n",
      "<re.Match object; span=(375, 377), match='Mr'>\n"
     ]
    }
   ],
   "source": [
    "pattern = re.compile(r\"\\w\\w\") # two unique consecutive characters, digits, underscores \n",
    "matches = pattern.finditer(text_to_search)\n",
    "\n",
    "for match in matches:\n",
    "    print(match)"
   ]
  },
  {
   "cell_type": "code",
   "execution_count": 15,
   "id": "18182f7c",
   "metadata": {
    "ExecuteTime": {
     "end_time": "2021-12-23T07:34:06.036762Z",
     "start_time": "2021-12-23T07:34:06.028815Z"
    }
   },
   "outputs": [
    {
     "name": "stdout",
     "output_type": "stream",
     "text": [
      "<re.Match object; span=(23, 26), match='end'>\n"
     ]
    }
   ],
   "source": [
    "sentence = 'this is the sentence\\'s end'\n",
    "pattern = re.compile(r\"end$\") # matches 'end' if it is the end of the string sentence\n",
    "matches = pattern.finditer(sentence)\n",
    "\n",
    "for match in matches:\n",
    "    print(match)"
   ]
  },
  {
   "cell_type": "code",
   "execution_count": 16,
   "id": "ebc30de7",
   "metadata": {
    "ExecuteTime": {
     "end_time": "2021-12-23T07:36:23.276314Z",
     "start_time": "2021-12-23T07:36:23.269654Z"
    }
   },
   "outputs": [
    {
     "name": "stdout",
     "output_type": "stream",
     "text": [
      "<re.Match object; span=(54, 66), match='123456789010'>\n",
      "<re.Match object; span=(253, 265), match='321-555-4321'>\n",
      "<re.Match object; span=(266, 278), match='123.555.1234'>\n",
      "<re.Match object; span=(279, 291), match='123*555*1234'>\n",
      "<re.Match object; span=(292, 304), match='800-555-1234'>\n",
      "<re.Match object; span=(305, 317), match='900-555-1234'>\n",
      "<re.Match object; span=(318, 330), match='100a121C4543'>\n"
     ]
    }
   ],
   "source": [
    "pattern = re.compile(r\"\\d\\d\\d.\\d\\d\\d.\\d\\d\\d\\d\") # 3 digits+anything+ 3 digits + anything+ 4 digits\n",
    "matches = pattern.finditer(text_to_search)\n",
    "\n",
    "for match in matches:\n",
    "    print(match)"
   ]
  },
  {
   "cell_type": "code",
   "execution_count": 17,
   "id": "7f4fbae9",
   "metadata": {
    "ExecuteTime": {
     "end_time": "2021-12-23T07:39:44.194824Z",
     "start_time": "2021-12-23T07:39:44.189706Z"
    }
   },
   "outputs": [
    {
     "name": "stdout",
     "output_type": "stream",
     "text": [
      "<re.Match object; span=(253, 265), match='321-555-4321'>\n",
      "<re.Match object; span=(266, 278), match='123.555.1234'>\n",
      "<re.Match object; span=(292, 304), match='800-555-1234'>\n",
      "<re.Match object; span=(305, 317), match='900-555-1234'>\n"
     ]
    }
   ],
   "source": [
    "pattern = re.compile(r\"\\d\\d\\d[-.]\\d\\d\\d[-.]\\d\\d\\d\\d\") # [- or .] . is a dot\n",
    "matches = pattern.finditer(text_to_search)\n",
    "\n",
    "for match in matches:\n",
    "    print(match)"
   ]
  },
  {
   "cell_type": "code",
   "execution_count": 20,
   "id": "6779598c",
   "metadata": {
    "ExecuteTime": {
     "end_time": "2021-12-23T07:41:27.181579Z",
     "start_time": "2021-12-23T07:41:27.177201Z"
    }
   },
   "outputs": [
    {
     "name": "stdout",
     "output_type": "stream",
     "text": [
      "<re.Match object; span=(292, 304), match='800-555-1234'>\n",
      "<re.Match object; span=(305, 317), match='900-555-1234'>\n"
     ]
    }
   ],
   "source": [
    "pattern = re.compile(r\"[89]00[-.]\\d\\d\\d[-.]\\d\\d\\d\\d\") # numbers starting with 800 or 900\n",
    "matches = pattern.finditer(text_to_search)\n",
    "\n",
    "for match in matches:\n",
    "    print(match)"
   ]
  },
  {
   "cell_type": "code",
   "execution_count": 22,
   "id": "80230950",
   "metadata": {
    "ExecuteTime": {
     "end_time": "2021-12-23T07:42:38.644516Z",
     "start_time": "2021-12-23T07:42:38.638090Z"
    }
   },
   "outputs": [
    {
     "name": "stdout",
     "output_type": "stream",
     "text": [
      "<re.Match object; span=(253, 265), match='321-555-4321'>\n",
      "<re.Match object; span=(266, 278), match='123.555.1234'>\n",
      "<re.Match object; span=(279, 291), match='123*555*1234'>\n",
      "<re.Match object; span=(292, 304), match='800-555-1234'>\n",
      "<re.Match object; span=(305, 317), match='900-555-1234'>\n"
     ]
    }
   ],
   "source": [
    "pattern = re.compile(r\"\\d\\d\\d[-.*]\\d\\d\\d[-.*]\\d\\d\\d\\d\") # numbers starting with 800 or 900\n",
    "matches = pattern.finditer(text_to_search)\n",
    "\n",
    "for match in matches:\n",
    "    print(match)"
   ]
  },
  {
   "cell_type": "code",
   "execution_count": 24,
   "id": "0eeba542",
   "metadata": {
    "ExecuteTime": {
     "end_time": "2021-12-23T07:43:44.408721Z",
     "start_time": "2021-12-23T07:43:44.403591Z"
    }
   },
   "outputs": [
    {
     "name": "stdout",
     "output_type": "stream",
     "text": [
      "<re.Match object; span=(169, 173), match='0109'>\n"
     ]
    }
   ],
   "source": [
    "pattern = re.compile(r\"0109\") \n",
    "matches = pattern.finditer(text_to_search)\n",
    "\n",
    "for match in matches:\n",
    "    print(match)"
   ]
  },
  {
   "cell_type": "code",
   "execution_count": 25,
   "id": "84673cf0",
   "metadata": {
    "ExecuteTime": {
     "end_time": "2021-12-23T07:44:11.586745Z",
     "start_time": "2021-12-23T07:44:11.578713Z"
    }
   },
   "outputs": [
    {
     "name": "stdout",
     "output_type": "stream",
     "text": [
      "<re.Match object; span=(169, 180), match='01092329340'>\n",
      "<re.Match object; span=(193, 204), match='01023455411'>\n"
     ]
    }
   ],
   "source": [
    "pattern = re.compile(r\"010\\d\\d\\d\\d\\d\\d\\d\\d\") # numbers starting with 010\n",
    "matches = pattern.finditer(text_to_search)\n",
    "\n",
    "for match in matches:\n",
    "    print(match)"
   ]
  },
  {
   "cell_type": "code",
   "execution_count": 28,
   "id": "6637e514",
   "metadata": {
    "ExecuteTime": {
     "end_time": "2021-12-23T07:52:09.443069Z",
     "start_time": "2021-12-23T07:52:09.436795Z"
    }
   },
   "outputs": [
    {
     "name": "stdout",
     "output_type": "stream",
     "text": [
      "(6, 17) <re.Match object; span=(6, 17), match='01023443534'>\n"
     ]
    }
   ],
   "source": [
    "contacts = \"Ahmed:01023443534,  Ali:011465829593\" \n",
    "pattern = re.compile(r\"010\\d\\d\\d\\d\\d\\d\\d\\d\")\n",
    "matches = pattern.finditer(contacts)\n",
    "\n",
    "for match in matches:\n",
    "    print(match.span(), match)"
   ]
  },
  {
   "cell_type": "code",
   "execution_count": 35,
   "id": "db817f7d",
   "metadata": {
    "ExecuteTime": {
     "end_time": "2021-12-23T07:56:26.256270Z",
     "start_time": "2021-12-23T07:56:26.250637Z"
    }
   },
   "outputs": [
    {
     "name": "stdout",
     "output_type": "stream",
     "text": [
      "<re.Match object; span=(24, 35), match='01146582959'>\n",
      "  Ali\n"
     ]
    }
   ],
   "source": [
    "contacts = \"Ahmed:01023443534,  Ali:011465829593\" \n",
    "pattern = re.compile(r\"011\\d\\d\\d\\d\\d\\d\\d\\d\")\n",
    "matches = pattern.finditer(contacts)\n",
    "string = \"\"\n",
    "\n",
    "for match in matches:\n",
    "    print(match)\n",
    "    string = contacts[int(match.span()[0])-6:int(match.span()[0]-1)]\n",
    "print(string)"
   ]
  },
  {
   "cell_type": "code",
   "execution_count": 46,
   "id": "705c80aa",
   "metadata": {
    "ExecuteTime": {
     "end_time": "2021-12-23T08:08:13.073732Z",
     "start_time": "2021-12-23T08:08:13.065763Z"
    }
   },
   "outputs": [
    {
     "name": "stdout",
     "output_type": "stream",
     "text": [
      "<re.Match object; span=(24, 35), match='01146582959'>\n",
      "Ali\n"
     ]
    }
   ],
   "source": [
    "# general code without knowing the lenght of the user \n",
    "contacts = \"Ahmed:01023443534,  Ali:011465829593\" \n",
    "contactslist = contacts.split(',')\n",
    "#list = [\"Ahmed:01023443534\", \"  Ali:011465829593\"]\n",
    "pattern = re.compile(r\"011\\d\\d\\d\\d\\d\\d\\d\\d\")\n",
    "matches = pattern.finditer(contacts)\n",
    "string = \"\"\n",
    "\n",
    "for match in matches:\n",
    "    print(match)\n",
    "    string = contacts[match.span()[0]:match.span()[1]]\n",
    "    for i in contactslist:\n",
    "        if string in i :\n",
    "            i = i.strip(\" \")\n",
    "            print(i[:i.find(':')])"
   ]
  },
  {
   "cell_type": "code",
   "execution_count": 49,
   "id": "da278ede",
   "metadata": {
    "ExecuteTime": {
     "end_time": "2021-12-23T08:11:41.982387Z",
     "start_time": "2021-12-23T08:11:41.970979Z"
    }
   },
   "outputs": [
    {
     "name": "stdout",
     "output_type": "stream",
     "text": [
      "<re.Match object; span=(54, 55), match='1'>\n",
      "<re.Match object; span=(55, 56), match='2'>\n",
      "<re.Match object; span=(56, 57), match='3'>\n",
      "<re.Match object; span=(57, 58), match='4'>\n",
      "<re.Match object; span=(58, 59), match='5'>\n",
      "<re.Match object; span=(64, 65), match='1'>\n",
      "<re.Match object; span=(170, 171), match='1'>\n",
      "<re.Match object; span=(173, 174), match='2'>\n",
      "<re.Match object; span=(174, 175), match='3'>\n",
      "<re.Match object; span=(175, 176), match='2'>\n",
      "<re.Match object; span=(177, 178), match='3'>\n",
      "<re.Match object; span=(178, 179), match='4'>\n",
      "<re.Match object; span=(182, 183), match='1'>\n",
      "<re.Match object; span=(183, 184), match='1'>\n",
      "<re.Match object; span=(184, 185), match='2'>\n",
      "<re.Match object; span=(185, 186), match='3'>\n",
      "<re.Match object; span=(186, 187), match='2'>\n",
      "<re.Match object; span=(187, 188), match='3'>\n",
      "<re.Match object; span=(188, 189), match='4'>\n",
      "<re.Match object; span=(189, 190), match='3'>\n",
      "<re.Match object; span=(190, 191), match='5'>\n",
      "<re.Match object; span=(191, 192), match='5'>\n",
      "<re.Match object; span=(194, 195), match='1'>\n",
      "<re.Match object; span=(196, 197), match='2'>\n",
      "<re.Match object; span=(197, 198), match='3'>\n",
      "<re.Match object; span=(198, 199), match='4'>\n",
      "<re.Match object; span=(199, 200), match='5'>\n",
      "<re.Match object; span=(200, 201), match='5'>\n",
      "<re.Match object; span=(201, 202), match='4'>\n",
      "<re.Match object; span=(202, 203), match='1'>\n",
      "<re.Match object; span=(203, 204), match='1'>\n",
      "<re.Match object; span=(206, 207), match='1'>\n",
      "<re.Match object; span=(207, 208), match='2'>\n",
      "<re.Match object; span=(208, 209), match='3'>\n",
      "<re.Match object; span=(209, 210), match='4'>\n",
      "<re.Match object; span=(210, 211), match='5'>\n",
      "<re.Match object; span=(215, 216), match='5'>\n",
      "<re.Match object; span=(218, 219), match='1'>\n",
      "<re.Match object; span=(219, 220), match='5'>\n",
      "<re.Match object; span=(220, 221), match='3'>\n",
      "<re.Match object; span=(221, 222), match='4'>\n",
      "<re.Match object; span=(222, 223), match='5'>\n",
      "<re.Match object; span=(225, 226), match='4'>\n",
      "<re.Match object; span=(226, 227), match='5'>\n",
      "<re.Match object; span=(230, 231), match='1'>\n",
      "<re.Match object; span=(231, 232), match='1'>\n",
      "<re.Match object; span=(232, 233), match='3'>\n",
      "<re.Match object; span=(233, 234), match='4'>\n",
      "<re.Match object; span=(234, 235), match='5'>\n",
      "<re.Match object; span=(238, 239), match='5'>\n",
      "<re.Match object; span=(253, 254), match='3'>\n",
      "<re.Match object; span=(254, 255), match='2'>\n",
      "<re.Match object; span=(255, 256), match='1'>\n",
      "<re.Match object; span=(257, 258), match='5'>\n",
      "<re.Match object; span=(258, 259), match='5'>\n",
      "<re.Match object; span=(259, 260), match='5'>\n",
      "<re.Match object; span=(261, 262), match='4'>\n",
      "<re.Match object; span=(262, 263), match='3'>\n",
      "<re.Match object; span=(263, 264), match='2'>\n",
      "<re.Match object; span=(264, 265), match='1'>\n",
      "<re.Match object; span=(266, 267), match='1'>\n",
      "<re.Match object; span=(267, 268), match='2'>\n",
      "<re.Match object; span=(268, 269), match='3'>\n",
      "<re.Match object; span=(270, 271), match='5'>\n",
      "<re.Match object; span=(271, 272), match='5'>\n",
      "<re.Match object; span=(272, 273), match='5'>\n",
      "<re.Match object; span=(274, 275), match='1'>\n",
      "<re.Match object; span=(275, 276), match='2'>\n",
      "<re.Match object; span=(276, 277), match='3'>\n",
      "<re.Match object; span=(277, 278), match='4'>\n",
      "<re.Match object; span=(279, 280), match='1'>\n",
      "<re.Match object; span=(280, 281), match='2'>\n",
      "<re.Match object; span=(281, 282), match='3'>\n",
      "<re.Match object; span=(283, 284), match='5'>\n",
      "<re.Match object; span=(284, 285), match='5'>\n",
      "<re.Match object; span=(285, 286), match='5'>\n",
      "<re.Match object; span=(287, 288), match='1'>\n",
      "<re.Match object; span=(288, 289), match='2'>\n",
      "<re.Match object; span=(289, 290), match='3'>\n",
      "<re.Match object; span=(290, 291), match='4'>\n",
      "<re.Match object; span=(296, 297), match='5'>\n",
      "<re.Match object; span=(297, 298), match='5'>\n",
      "<re.Match object; span=(298, 299), match='5'>\n",
      "<re.Match object; span=(300, 301), match='1'>\n",
      "<re.Match object; span=(301, 302), match='2'>\n",
      "<re.Match object; span=(302, 303), match='3'>\n",
      "<re.Match object; span=(303, 304), match='4'>\n",
      "<re.Match object; span=(309, 310), match='5'>\n",
      "<re.Match object; span=(310, 311), match='5'>\n",
      "<re.Match object; span=(311, 312), match='5'>\n",
      "<re.Match object; span=(313, 314), match='1'>\n",
      "<re.Match object; span=(314, 315), match='2'>\n",
      "<re.Match object; span=(315, 316), match='3'>\n",
      "<re.Match object; span=(316, 317), match='4'>\n",
      "<re.Match object; span=(318, 319), match='1'>\n",
      "<re.Match object; span=(322, 323), match='1'>\n",
      "<re.Match object; span=(323, 324), match='2'>\n",
      "<re.Match object; span=(324, 325), match='1'>\n",
      "<re.Match object; span=(326, 327), match='4'>\n",
      "<re.Match object; span=(327, 328), match='5'>\n",
      "<re.Match object; span=(328, 329), match='4'>\n",
      "<re.Match object; span=(329, 330), match='3'>\n"
     ]
    }
   ],
   "source": [
    "pattern = re.compile(r\"[1-5]\") # any number from 1 to 5 \n",
    "matches = pattern.finditer(text_to_search)\n",
    "\n",
    "for match in matches:\n",
    "    print(match)"
   ]
  },
  {
   "cell_type": "code",
   "execution_count": 50,
   "id": "b9a0d2f7",
   "metadata": {
    "ExecuteTime": {
     "end_time": "2021-12-23T08:12:18.230735Z",
     "start_time": "2021-12-23T08:12:18.221139Z"
    }
   },
   "outputs": [
    {
     "name": "stdout",
     "output_type": "stream",
     "text": [
      "<re.Match object; span=(54, 55), match='1'>\n",
      "<re.Match object; span=(58, 59), match='5'>\n",
      "<re.Match object; span=(64, 65), match='1'>\n",
      "<re.Match object; span=(170, 171), match='1'>\n",
      "<re.Match object; span=(182, 183), match='1'>\n",
      "<re.Match object; span=(183, 184), match='1'>\n",
      "<re.Match object; span=(190, 191), match='5'>\n",
      "<re.Match object; span=(191, 192), match='5'>\n",
      "<re.Match object; span=(194, 195), match='1'>\n",
      "<re.Match object; span=(199, 200), match='5'>\n",
      "<re.Match object; span=(200, 201), match='5'>\n",
      "<re.Match object; span=(202, 203), match='1'>\n",
      "<re.Match object; span=(203, 204), match='1'>\n",
      "<re.Match object; span=(206, 207), match='1'>\n",
      "<re.Match object; span=(210, 211), match='5'>\n",
      "<re.Match object; span=(215, 216), match='5'>\n",
      "<re.Match object; span=(218, 219), match='1'>\n",
      "<re.Match object; span=(219, 220), match='5'>\n",
      "<re.Match object; span=(222, 223), match='5'>\n",
      "<re.Match object; span=(226, 227), match='5'>\n",
      "<re.Match object; span=(230, 231), match='1'>\n",
      "<re.Match object; span=(231, 232), match='1'>\n",
      "<re.Match object; span=(234, 235), match='5'>\n",
      "<re.Match object; span=(238, 239), match='5'>\n",
      "<re.Match object; span=(248, 249), match='-'>\n",
      "<re.Match object; span=(255, 256), match='1'>\n",
      "<re.Match object; span=(256, 257), match='-'>\n",
      "<re.Match object; span=(257, 258), match='5'>\n",
      "<re.Match object; span=(258, 259), match='5'>\n",
      "<re.Match object; span=(259, 260), match='5'>\n",
      "<re.Match object; span=(260, 261), match='-'>\n",
      "<re.Match object; span=(264, 265), match='1'>\n",
      "<re.Match object; span=(266, 267), match='1'>\n",
      "<re.Match object; span=(270, 271), match='5'>\n",
      "<re.Match object; span=(271, 272), match='5'>\n",
      "<re.Match object; span=(272, 273), match='5'>\n",
      "<re.Match object; span=(274, 275), match='1'>\n",
      "<re.Match object; span=(279, 280), match='1'>\n",
      "<re.Match object; span=(283, 284), match='5'>\n",
      "<re.Match object; span=(284, 285), match='5'>\n",
      "<re.Match object; span=(285, 286), match='5'>\n",
      "<re.Match object; span=(287, 288), match='1'>\n",
      "<re.Match object; span=(295, 296), match='-'>\n",
      "<re.Match object; span=(296, 297), match='5'>\n",
      "<re.Match object; span=(297, 298), match='5'>\n",
      "<re.Match object; span=(298, 299), match='5'>\n",
      "<re.Match object; span=(299, 300), match='-'>\n",
      "<re.Match object; span=(300, 301), match='1'>\n",
      "<re.Match object; span=(308, 309), match='-'>\n",
      "<re.Match object; span=(309, 310), match='5'>\n",
      "<re.Match object; span=(310, 311), match='5'>\n",
      "<re.Match object; span=(311, 312), match='5'>\n",
      "<re.Match object; span=(312, 313), match='-'>\n",
      "<re.Match object; span=(313, 314), match='1'>\n",
      "<re.Match object; span=(318, 319), match='1'>\n",
      "<re.Match object; span=(322, 323), match='1'>\n",
      "<re.Match object; span=(324, 325), match='1'>\n",
      "<re.Match object; span=(327, 328), match='5'>\n"
     ]
    }
   ],
   "source": [
    "pattern = re.compile(r\"[-15]\") # -,1 or 5\n",
    "matches = pattern.finditer(text_to_search)\n",
    "\n",
    "for match in matches:\n",
    "    print(match)"
   ]
  },
  {
   "cell_type": "code",
   "execution_count": 51,
   "id": "d2deb696",
   "metadata": {
    "ExecuteTime": {
     "end_time": "2021-12-23T08:12:42.110216Z",
     "start_time": "2021-12-23T08:12:42.099488Z"
    }
   },
   "outputs": [
    {
     "name": "stdout",
     "output_type": "stream",
     "text": [
      "<re.Match object; span=(54, 55), match='1'>\n",
      "<re.Match object; span=(55, 56), match='2'>\n",
      "<re.Match object; span=(56, 57), match='3'>\n",
      "<re.Match object; span=(57, 58), match='4'>\n",
      "<re.Match object; span=(58, 59), match='5'>\n",
      "<re.Match object; span=(64, 65), match='1'>\n",
      "<re.Match object; span=(170, 171), match='1'>\n",
      "<re.Match object; span=(173, 174), match='2'>\n",
      "<re.Match object; span=(174, 175), match='3'>\n",
      "<re.Match object; span=(175, 176), match='2'>\n",
      "<re.Match object; span=(177, 178), match='3'>\n",
      "<re.Match object; span=(178, 179), match='4'>\n",
      "<re.Match object; span=(182, 183), match='1'>\n",
      "<re.Match object; span=(183, 184), match='1'>\n",
      "<re.Match object; span=(184, 185), match='2'>\n",
      "<re.Match object; span=(185, 186), match='3'>\n",
      "<re.Match object; span=(186, 187), match='2'>\n",
      "<re.Match object; span=(187, 188), match='3'>\n",
      "<re.Match object; span=(188, 189), match='4'>\n",
      "<re.Match object; span=(189, 190), match='3'>\n",
      "<re.Match object; span=(190, 191), match='5'>\n",
      "<re.Match object; span=(191, 192), match='5'>\n",
      "<re.Match object; span=(194, 195), match='1'>\n",
      "<re.Match object; span=(196, 197), match='2'>\n",
      "<re.Match object; span=(197, 198), match='3'>\n",
      "<re.Match object; span=(198, 199), match='4'>\n",
      "<re.Match object; span=(199, 200), match='5'>\n",
      "<re.Match object; span=(200, 201), match='5'>\n",
      "<re.Match object; span=(201, 202), match='4'>\n",
      "<re.Match object; span=(202, 203), match='1'>\n",
      "<re.Match object; span=(203, 204), match='1'>\n",
      "<re.Match object; span=(206, 207), match='1'>\n",
      "<re.Match object; span=(207, 208), match='2'>\n",
      "<re.Match object; span=(208, 209), match='3'>\n",
      "<re.Match object; span=(209, 210), match='4'>\n",
      "<re.Match object; span=(210, 211), match='5'>\n",
      "<re.Match object; span=(215, 216), match='5'>\n",
      "<re.Match object; span=(218, 219), match='1'>\n",
      "<re.Match object; span=(219, 220), match='5'>\n",
      "<re.Match object; span=(220, 221), match='3'>\n",
      "<re.Match object; span=(221, 222), match='4'>\n",
      "<re.Match object; span=(222, 223), match='5'>\n",
      "<re.Match object; span=(225, 226), match='4'>\n",
      "<re.Match object; span=(226, 227), match='5'>\n",
      "<re.Match object; span=(230, 231), match='1'>\n",
      "<re.Match object; span=(231, 232), match='1'>\n",
      "<re.Match object; span=(232, 233), match='3'>\n",
      "<re.Match object; span=(233, 234), match='4'>\n",
      "<re.Match object; span=(234, 235), match='5'>\n",
      "<re.Match object; span=(238, 239), match='5'>\n",
      "<re.Match object; span=(248, 249), match='-'>\n",
      "<re.Match object; span=(253, 254), match='3'>\n",
      "<re.Match object; span=(254, 255), match='2'>\n",
      "<re.Match object; span=(255, 256), match='1'>\n",
      "<re.Match object; span=(256, 257), match='-'>\n",
      "<re.Match object; span=(257, 258), match='5'>\n",
      "<re.Match object; span=(258, 259), match='5'>\n",
      "<re.Match object; span=(259, 260), match='5'>\n",
      "<re.Match object; span=(260, 261), match='-'>\n",
      "<re.Match object; span=(261, 262), match='4'>\n",
      "<re.Match object; span=(262, 263), match='3'>\n",
      "<re.Match object; span=(263, 264), match='2'>\n",
      "<re.Match object; span=(264, 265), match='1'>\n",
      "<re.Match object; span=(266, 267), match='1'>\n",
      "<re.Match object; span=(267, 268), match='2'>\n",
      "<re.Match object; span=(268, 269), match='3'>\n",
      "<re.Match object; span=(270, 271), match='5'>\n",
      "<re.Match object; span=(271, 272), match='5'>\n",
      "<re.Match object; span=(272, 273), match='5'>\n",
      "<re.Match object; span=(274, 275), match='1'>\n",
      "<re.Match object; span=(275, 276), match='2'>\n",
      "<re.Match object; span=(276, 277), match='3'>\n",
      "<re.Match object; span=(277, 278), match='4'>\n",
      "<re.Match object; span=(279, 280), match='1'>\n",
      "<re.Match object; span=(280, 281), match='2'>\n",
      "<re.Match object; span=(281, 282), match='3'>\n",
      "<re.Match object; span=(283, 284), match='5'>\n",
      "<re.Match object; span=(284, 285), match='5'>\n",
      "<re.Match object; span=(285, 286), match='5'>\n",
      "<re.Match object; span=(287, 288), match='1'>\n",
      "<re.Match object; span=(288, 289), match='2'>\n",
      "<re.Match object; span=(289, 290), match='3'>\n",
      "<re.Match object; span=(290, 291), match='4'>\n",
      "<re.Match object; span=(295, 296), match='-'>\n",
      "<re.Match object; span=(296, 297), match='5'>\n",
      "<re.Match object; span=(297, 298), match='5'>\n",
      "<re.Match object; span=(298, 299), match='5'>\n",
      "<re.Match object; span=(299, 300), match='-'>\n",
      "<re.Match object; span=(300, 301), match='1'>\n",
      "<re.Match object; span=(301, 302), match='2'>\n",
      "<re.Match object; span=(302, 303), match='3'>\n",
      "<re.Match object; span=(303, 304), match='4'>\n",
      "<re.Match object; span=(308, 309), match='-'>\n",
      "<re.Match object; span=(309, 310), match='5'>\n",
      "<re.Match object; span=(310, 311), match='5'>\n",
      "<re.Match object; span=(311, 312), match='5'>\n",
      "<re.Match object; span=(312, 313), match='-'>\n",
      "<re.Match object; span=(313, 314), match='1'>\n",
      "<re.Match object; span=(314, 315), match='2'>\n",
      "<re.Match object; span=(315, 316), match='3'>\n",
      "<re.Match object; span=(316, 317), match='4'>\n",
      "<re.Match object; span=(318, 319), match='1'>\n",
      "<re.Match object; span=(322, 323), match='1'>\n",
      "<re.Match object; span=(323, 324), match='2'>\n",
      "<re.Match object; span=(324, 325), match='1'>\n",
      "<re.Match object; span=(326, 327), match='4'>\n",
      "<re.Match object; span=(327, 328), match='5'>\n",
      "<re.Match object; span=(328, 329), match='4'>\n",
      "<re.Match object; span=(329, 330), match='3'>\n"
     ]
    }
   ],
   "source": [
    "pattern = re.compile(r\"[1-5-]\") # from 1 to 5 or -\n",
    "matches = pattern.finditer(text_to_search)\n",
    "\n",
    "for match in matches:\n",
    "    print(match)"
   ]
  },
  {
   "cell_type": "code",
   "execution_count": 52,
   "id": "392d035c",
   "metadata": {
    "ExecuteTime": {
     "end_time": "2021-12-23T08:13:28.633866Z",
     "start_time": "2021-12-23T08:13:28.627825Z"
    }
   },
   "outputs": [
    {
     "name": "stdout",
     "output_type": "stream",
     "text": [
      "<re.Match object; span=(0, 1), match='a'>\n",
      "<re.Match object; span=(25, 26), match='z'>\n",
      "<re.Match object; span=(68, 69), match='a'>\n",
      "<re.Match object; span=(71, 72), match='a'>\n",
      "<re.Match object; span=(73, 74), match='a'>\n",
      "<re.Match object; span=(78, 79), match='a'>\n",
      "<re.Match object; span=(81, 82), match='a'>\n",
      "<re.Match object; span=(83, 84), match='a'>\n",
      "<re.Match object; span=(105, 106), match='a'>\n",
      "<re.Match object; span=(140, 141), match='a'>\n",
      "<re.Match object; span=(145, 146), match='a'>\n",
      "<re.Match object; span=(149, 150), match='a'>\n",
      "<re.Match object; span=(154, 155), match='a'>\n",
      "<re.Match object; span=(158, 159), match='a'>\n",
      "<re.Match object; span=(162, 163), match='a'>\n",
      "<re.Match object; span=(166, 167), match='a'>\n",
      "<re.Match object; span=(248, 249), match='-'>\n",
      "<re.Match object; span=(256, 257), match='-'>\n",
      "<re.Match object; span=(260, 261), match='-'>\n",
      "<re.Match object; span=(295, 296), match='-'>\n",
      "<re.Match object; span=(299, 300), match='-'>\n",
      "<re.Match object; span=(308, 309), match='-'>\n",
      "<re.Match object; span=(312, 313), match='-'>\n",
      "<re.Match object; span=(321, 322), match='a'>\n",
      "<re.Match object; span=(338, 339), match='a'>\n",
      "<re.Match object; span=(356, 357), match='a'>\n"
     ]
    }
   ],
   "source": [
    "pattern = re.compile(r\"[az-]\") \n",
    "matches = pattern.finditer(text_to_search)\n",
    "\n",
    "for match in matches:\n",
    "    print(match)"
   ]
  },
  {
   "cell_type": "code",
   "execution_count": 53,
   "id": "5d14bdb0",
   "metadata": {
    "ExecuteTime": {
     "end_time": "2021-12-23T08:13:53.217737Z",
     "start_time": "2021-12-23T08:13:53.209283Z"
    }
   },
   "outputs": [
    {
     "name": "stdout",
     "output_type": "stream",
     "text": [
      "<re.Match object; span=(0, 1), match='a'>\n",
      "<re.Match object; span=(1, 2), match='b'>\n",
      "<re.Match object; span=(2, 3), match='c'>\n",
      "<re.Match object; span=(3, 4), match='d'>\n",
      "<re.Match object; span=(4, 5), match='e'>\n",
      "<re.Match object; span=(5, 6), match='f'>\n",
      "<re.Match object; span=(6, 7), match='g'>\n",
      "<re.Match object; span=(7, 8), match='h'>\n",
      "<re.Match object; span=(8, 9), match='i'>\n",
      "<re.Match object; span=(9, 10), match='j'>\n",
      "<re.Match object; span=(10, 11), match='k'>\n",
      "<re.Match object; span=(11, 12), match='l'>\n",
      "<re.Match object; span=(12, 13), match='m'>\n",
      "<re.Match object; span=(13, 14), match='n'>\n",
      "<re.Match object; span=(14, 15), match='o'>\n",
      "<re.Match object; span=(15, 16), match='p'>\n",
      "<re.Match object; span=(16, 17), match='q'>\n",
      "<re.Match object; span=(17, 18), match='u'>\n",
      "<re.Match object; span=(18, 19), match='r'>\n",
      "<re.Match object; span=(19, 20), match='t'>\n",
      "<re.Match object; span=(20, 21), match='u'>\n",
      "<re.Match object; span=(21, 22), match='v'>\n",
      "<re.Match object; span=(22, 23), match='w'>\n",
      "<re.Match object; span=(23, 24), match='x'>\n",
      "<re.Match object; span=(24, 25), match='y'>\n",
      "<re.Match object; span=(25, 26), match='z'>\n",
      "<re.Match object; span=(68, 69), match='a'>\n",
      "<re.Match object; span=(71, 72), match='a'>\n",
      "<re.Match object; span=(73, 74), match='a'>\n",
      "<re.Match object; span=(76, 77), match='e'>\n",
      "<re.Match object; span=(77, 78), match='t'>\n",
      "<re.Match object; span=(78, 79), match='a'>\n",
      "<re.Match object; span=(80, 81), match='h'>\n",
      "<re.Match object; span=(81, 82), match='a'>\n",
      "<re.Match object; span=(82, 83), match='r'>\n",
      "<re.Match object; span=(83, 84), match='a'>\n",
      "<re.Match object; span=(84, 85), match='c'>\n",
      "<re.Match object; span=(85, 86), match='t'>\n",
      "<re.Match object; span=(86, 87), match='e'>\n",
      "<re.Match object; span=(87, 88), match='r'>\n",
      "<re.Match object; span=(88, 89), match='s'>\n",
      "<re.Match object; span=(92, 93), match='e'>\n",
      "<re.Match object; span=(93, 94), match='e'>\n",
      "<re.Match object; span=(94, 95), match='d'>\n",
      "<re.Match object; span=(96, 97), match='t'>\n",
      "<re.Match object; span=(97, 98), match='o'>\n",
      "<re.Match object; span=(99, 100), match='b'>\n",
      "<re.Match object; span=(100, 101), match='e'>\n",
      "<re.Match object; span=(102, 103), match='e'>\n",
      "<re.Match object; span=(103, 104), match='s'>\n",
      "<re.Match object; span=(104, 105), match='c'>\n",
      "<re.Match object; span=(105, 106), match='a'>\n",
      "<re.Match object; span=(106, 107), match='p'>\n",
      "<re.Match object; span=(107, 108), match='e'>\n",
      "<re.Match object; span=(108, 109), match='d'>\n",
      "<re.Match object; span=(140, 141), match='a'>\n",
      "<re.Match object; span=(141, 142), match='b'>\n",
      "<re.Match object; span=(142, 143), match='c'>\n",
      "<re.Match object; span=(144, 145), match='c'>\n",
      "<re.Match object; span=(145, 146), match='a'>\n",
      "<re.Match object; span=(146, 147), match='t'>\n",
      "<re.Match object; span=(148, 149), match='m'>\n",
      "<re.Match object; span=(149, 150), match='a'>\n",
      "<re.Match object; span=(150, 151), match='t'>\n",
      "<re.Match object; span=(153, 154), match='h'>\n",
      "<re.Match object; span=(154, 155), match='a'>\n",
      "<re.Match object; span=(155, 156), match='t'>\n",
      "<re.Match object; span=(157, 158), match='b'>\n",
      "<re.Match object; span=(158, 159), match='a'>\n",
      "<re.Match object; span=(159, 160), match='t'>\n",
      "<re.Match object; span=(161, 162), match='f'>\n",
      "<re.Match object; span=(162, 163), match='a'>\n",
      "<re.Match object; span=(163, 164), match='t'>\n",
      "<re.Match object; span=(165, 166), match='s'>\n",
      "<re.Match object; span=(166, 167), match='a'>\n",
      "<re.Match object; span=(167, 168), match='t'>\n",
      "<re.Match object; span=(241, 242), match='c'>\n",
      "<re.Match object; span=(242, 243), match='o'>\n",
      "<re.Match object; span=(243, 244), match='r'>\n",
      "<re.Match object; span=(244, 245), match='e'>\n",
      "<re.Match object; span=(245, 246), match='y'>\n",
      "<re.Match object; span=(246, 247), match='m'>\n",
      "<re.Match object; span=(247, 248), match='s'>\n",
      "<re.Match object; span=(249, 250), match='c'>\n",
      "<re.Match object; span=(250, 251), match='o'>\n",
      "<re.Match object; span=(251, 252), match='m'>\n",
      "<re.Match object; span=(321, 322), match='a'>\n",
      "<re.Match object; span=(332, 333), match='r'>\n",
      "<re.Match object; span=(336, 337), match='c'>\n",
      "<re.Match object; span=(337, 338), match='h'>\n",
      "<re.Match object; span=(338, 339), match='a'>\n",
      "<re.Match object; span=(339, 340), match='f'>\n",
      "<re.Match object; span=(340, 341), match='e'>\n",
      "<re.Match object; span=(341, 342), match='r'>\n",
      "<re.Match object; span=(344, 345), match='r'>\n",
      "<re.Match object; span=(347, 348), match='m'>\n",
      "<re.Match object; span=(348, 349), match='i'>\n",
      "<re.Match object; span=(349, 350), match='t'>\n",
      "<re.Match object; span=(350, 351), match='h'>\n",
      "<re.Match object; span=(353, 354), match='s'>\n",
      "<re.Match object; span=(356, 357), match='a'>\n",
      "<re.Match object; span=(357, 358), match='v'>\n",
      "<re.Match object; span=(358, 359), match='i'>\n",
      "<re.Match object; span=(359, 360), match='s'>\n",
      "<re.Match object; span=(362, 363), match='r'>\n",
      "<re.Match object; span=(363, 364), match='s'>\n",
      "<re.Match object; span=(367, 368), match='o'>\n",
      "<re.Match object; span=(368, 369), match='b'>\n",
      "<re.Match object; span=(369, 370), match='i'>\n",
      "<re.Match object; span=(370, 371), match='n'>\n",
      "<re.Match object; span=(371, 372), match='s'>\n",
      "<re.Match object; span=(372, 373), match='o'>\n",
      "<re.Match object; span=(373, 374), match='n'>\n",
      "<re.Match object; span=(376, 377), match='r'>\n"
     ]
    }
   ],
   "source": [
    "pattern = re.compile(r\"[a-z]\") # a to z\n",
    "matches = pattern.finditer(text_to_search)\n",
    "\n",
    "for match in matches:\n",
    "    print(match)"
   ]
  },
  {
   "cell_type": "code",
   "execution_count": 56,
   "id": "c289dcdb",
   "metadata": {
    "ExecuteTime": {
     "end_time": "2021-12-23T08:14:41.715056Z",
     "start_time": "2021-12-23T08:14:41.706192Z"
    }
   },
   "outputs": [
    {
     "name": "stdout",
     "output_type": "stream",
     "text": [
      "<re.Match object; span=(0, 1), match='a'>\n",
      "<re.Match object; span=(27, 28), match='A'>\n",
      "<re.Match object; span=(28, 29), match='B'>\n",
      "<re.Match object; span=(29, 30), match='C'>\n",
      "<re.Match object; span=(30, 31), match='D'>\n",
      "<re.Match object; span=(31, 32), match='E'>\n",
      "<re.Match object; span=(32, 33), match='F'>\n",
      "<re.Match object; span=(33, 34), match='G'>\n",
      "<re.Match object; span=(34, 35), match='H'>\n",
      "<re.Match object; span=(35, 36), match='I'>\n",
      "<re.Match object; span=(36, 37), match='J'>\n",
      "<re.Match object; span=(37, 38), match='K'>\n",
      "<re.Match object; span=(38, 39), match='L'>\n",
      "<re.Match object; span=(39, 40), match='M'>\n",
      "<re.Match object; span=(40, 41), match='N'>\n",
      "<re.Match object; span=(41, 42), match='O'>\n",
      "<re.Match object; span=(42, 43), match='P'>\n",
      "<re.Match object; span=(43, 44), match='Q'>\n",
      "<re.Match object; span=(44, 45), match='R'>\n",
      "<re.Match object; span=(45, 46), match='S'>\n",
      "<re.Match object; span=(46, 47), match='T'>\n",
      "<re.Match object; span=(47, 48), match='U'>\n",
      "<re.Match object; span=(48, 49), match='V'>\n",
      "<re.Match object; span=(49, 50), match='W'>\n",
      "<re.Match object; span=(50, 51), match='X'>\n",
      "<re.Match object; span=(51, 52), match='Y'>\n",
      "<re.Match object; span=(52, 53), match='Z'>\n",
      "<re.Match object; span=(67, 68), match='H'>\n",
      "<re.Match object; span=(68, 69), match='a'>\n",
      "<re.Match object; span=(70, 71), match='H'>\n",
      "<re.Match object; span=(71, 72), match='a'>\n",
      "<re.Match object; span=(72, 73), match='H'>\n",
      "<re.Match object; span=(73, 74), match='a'>\n",
      "<re.Match object; span=(75, 76), match='M'>\n",
      "<re.Match object; span=(78, 79), match='a'>\n",
      "<re.Match object; span=(79, 80), match='C'>\n",
      "<re.Match object; span=(81, 82), match='a'>\n",
      "<re.Match object; span=(83, 84), match='a'>\n",
      "<re.Match object; span=(91, 92), match='N'>\n",
      "<re.Match object; span=(105, 106), match='a'>\n",
      "<re.Match object; span=(114, 115), match='^'>\n",
      "<re.Match object; span=(128, 129), match='['>\n",
      "<re.Match object; span=(130, 131), match=']'>\n",
      "<re.Match object; span=(132, 133), match='\\\\'>\n",
      "<re.Match object; span=(140, 141), match='a'>\n",
      "<re.Match object; span=(145, 146), match='a'>\n",
      "<re.Match object; span=(149, 150), match='a'>\n",
      "<re.Match object; span=(154, 155), match='a'>\n",
      "<re.Match object; span=(158, 159), match='a'>\n",
      "<re.Match object; span=(162, 163), match='a'>\n",
      "<re.Match object; span=(166, 167), match='a'>\n",
      "<re.Match object; span=(321, 322), match='a'>\n",
      "<re.Match object; span=(325, 326), match='C'>\n",
      "<re.Match object; span=(331, 332), match='M'>\n",
      "<re.Match object; span=(335, 336), match='S'>\n",
      "<re.Match object; span=(338, 339), match='a'>\n",
      "<re.Match object; span=(343, 344), match='M'>\n",
      "<re.Match object; span=(346, 347), match='S'>\n",
      "<re.Match object; span=(352, 353), match='M'>\n",
      "<re.Match object; span=(355, 356), match='D'>\n",
      "<re.Match object; span=(356, 357), match='a'>\n",
      "<re.Match object; span=(361, 362), match='M'>\n",
      "<re.Match object; span=(366, 367), match='R'>\n",
      "<re.Match object; span=(375, 376), match='M'>\n",
      "<re.Match object; span=(379, 380), match='T'>\n"
     ]
    }
   ],
   "source": [
    "pattern = re.compile(r\"[A-a]\") # from A to a according to the ascii table\n",
    "matches = pattern.finditer(text_to_search)\n",
    "\n",
    "for match in matches:\n",
    "    print(match)"
   ]
  },
  {
   "cell_type": "code",
   "execution_count": 57,
   "id": "f9c18858",
   "metadata": {
    "ExecuteTime": {
     "end_time": "2021-12-23T08:17:10.137083Z",
     "start_time": "2021-12-23T08:17:10.122788Z"
    }
   },
   "outputs": [
    {
     "name": "stdout",
     "output_type": "stream",
     "text": [
      "<re.Match object; span=(0, 1), match='a'>\n",
      "<re.Match object; span=(1, 2), match='b'>\n",
      "<re.Match object; span=(2, 3), match='c'>\n",
      "<re.Match object; span=(3, 4), match='d'>\n",
      "<re.Match object; span=(4, 5), match='e'>\n",
      "<re.Match object; span=(5, 6), match='f'>\n",
      "<re.Match object; span=(6, 7), match='g'>\n",
      "<re.Match object; span=(7, 8), match='h'>\n",
      "<re.Match object; span=(8, 9), match='i'>\n",
      "<re.Match object; span=(9, 10), match='j'>\n",
      "<re.Match object; span=(10, 11), match='k'>\n",
      "<re.Match object; span=(11, 12), match='l'>\n",
      "<re.Match object; span=(12, 13), match='m'>\n",
      "<re.Match object; span=(13, 14), match='n'>\n",
      "<re.Match object; span=(14, 15), match='o'>\n",
      "<re.Match object; span=(15, 16), match='p'>\n",
      "<re.Match object; span=(16, 17), match='q'>\n",
      "<re.Match object; span=(17, 18), match='u'>\n",
      "<re.Match object; span=(18, 19), match='r'>\n",
      "<re.Match object; span=(19, 20), match='t'>\n",
      "<re.Match object; span=(20, 21), match='u'>\n",
      "<re.Match object; span=(21, 22), match='v'>\n",
      "<re.Match object; span=(22, 23), match='w'>\n",
      "<re.Match object; span=(23, 24), match='x'>\n",
      "<re.Match object; span=(24, 25), match='y'>\n",
      "<re.Match object; span=(25, 26), match='z'>\n",
      "<re.Match object; span=(27, 28), match='A'>\n",
      "<re.Match object; span=(28, 29), match='B'>\n",
      "<re.Match object; span=(29, 30), match='C'>\n",
      "<re.Match object; span=(30, 31), match='D'>\n",
      "<re.Match object; span=(31, 32), match='E'>\n",
      "<re.Match object; span=(32, 33), match='F'>\n",
      "<re.Match object; span=(33, 34), match='G'>\n",
      "<re.Match object; span=(34, 35), match='H'>\n",
      "<re.Match object; span=(35, 36), match='I'>\n",
      "<re.Match object; span=(36, 37), match='J'>\n",
      "<re.Match object; span=(37, 38), match='K'>\n",
      "<re.Match object; span=(38, 39), match='L'>\n",
      "<re.Match object; span=(39, 40), match='M'>\n",
      "<re.Match object; span=(40, 41), match='N'>\n",
      "<re.Match object; span=(41, 42), match='O'>\n",
      "<re.Match object; span=(42, 43), match='P'>\n",
      "<re.Match object; span=(43, 44), match='Q'>\n",
      "<re.Match object; span=(44, 45), match='R'>\n",
      "<re.Match object; span=(45, 46), match='S'>\n",
      "<re.Match object; span=(46, 47), match='T'>\n",
      "<re.Match object; span=(47, 48), match='U'>\n",
      "<re.Match object; span=(48, 49), match='V'>\n",
      "<re.Match object; span=(49, 50), match='W'>\n",
      "<re.Match object; span=(50, 51), match='X'>\n",
      "<re.Match object; span=(51, 52), match='Y'>\n",
      "<re.Match object; span=(52, 53), match='Z'>\n",
      "<re.Match object; span=(67, 68), match='H'>\n",
      "<re.Match object; span=(68, 69), match='a'>\n",
      "<re.Match object; span=(70, 71), match='H'>\n",
      "<re.Match object; span=(71, 72), match='a'>\n",
      "<re.Match object; span=(72, 73), match='H'>\n",
      "<re.Match object; span=(73, 74), match='a'>\n",
      "<re.Match object; span=(75, 76), match='M'>\n",
      "<re.Match object; span=(76, 77), match='e'>\n",
      "<re.Match object; span=(77, 78), match='t'>\n",
      "<re.Match object; span=(78, 79), match='a'>\n",
      "<re.Match object; span=(79, 80), match='C'>\n",
      "<re.Match object; span=(80, 81), match='h'>\n",
      "<re.Match object; span=(81, 82), match='a'>\n",
      "<re.Match object; span=(82, 83), match='r'>\n",
      "<re.Match object; span=(83, 84), match='a'>\n",
      "<re.Match object; span=(84, 85), match='c'>\n",
      "<re.Match object; span=(85, 86), match='t'>\n",
      "<re.Match object; span=(86, 87), match='e'>\n",
      "<re.Match object; span=(87, 88), match='r'>\n",
      "<re.Match object; span=(88, 89), match='s'>\n",
      "<re.Match object; span=(91, 92), match='N'>\n",
      "<re.Match object; span=(92, 93), match='e'>\n",
      "<re.Match object; span=(93, 94), match='e'>\n",
      "<re.Match object; span=(94, 95), match='d'>\n",
      "<re.Match object; span=(96, 97), match='t'>\n",
      "<re.Match object; span=(97, 98), match='o'>\n",
      "<re.Match object; span=(99, 100), match='b'>\n",
      "<re.Match object; span=(100, 101), match='e'>\n",
      "<re.Match object; span=(102, 103), match='e'>\n",
      "<re.Match object; span=(103, 104), match='s'>\n",
      "<re.Match object; span=(104, 105), match='c'>\n",
      "<re.Match object; span=(105, 106), match='a'>\n",
      "<re.Match object; span=(106, 107), match='p'>\n",
      "<re.Match object; span=(107, 108), match='e'>\n",
      "<re.Match object; span=(108, 109), match='d'>\n",
      "<re.Match object; span=(114, 115), match='^'>\n",
      "<re.Match object; span=(128, 129), match='['>\n",
      "<re.Match object; span=(130, 131), match=']'>\n",
      "<re.Match object; span=(132, 133), match='\\\\'>\n",
      "<re.Match object; span=(140, 141), match='a'>\n",
      "<re.Match object; span=(141, 142), match='b'>\n",
      "<re.Match object; span=(142, 143), match='c'>\n",
      "<re.Match object; span=(144, 145), match='c'>\n",
      "<re.Match object; span=(145, 146), match='a'>\n",
      "<re.Match object; span=(146, 147), match='t'>\n",
      "<re.Match object; span=(148, 149), match='m'>\n",
      "<re.Match object; span=(149, 150), match='a'>\n",
      "<re.Match object; span=(150, 151), match='t'>\n",
      "<re.Match object; span=(153, 154), match='h'>\n",
      "<re.Match object; span=(154, 155), match='a'>\n",
      "<re.Match object; span=(155, 156), match='t'>\n",
      "<re.Match object; span=(157, 158), match='b'>\n",
      "<re.Match object; span=(158, 159), match='a'>\n",
      "<re.Match object; span=(159, 160), match='t'>\n",
      "<re.Match object; span=(161, 162), match='f'>\n",
      "<re.Match object; span=(162, 163), match='a'>\n",
      "<re.Match object; span=(163, 164), match='t'>\n",
      "<re.Match object; span=(165, 166), match='s'>\n",
      "<re.Match object; span=(166, 167), match='a'>\n",
      "<re.Match object; span=(167, 168), match='t'>\n",
      "<re.Match object; span=(241, 242), match='c'>\n",
      "<re.Match object; span=(242, 243), match='o'>\n",
      "<re.Match object; span=(243, 244), match='r'>\n",
      "<re.Match object; span=(244, 245), match='e'>\n",
      "<re.Match object; span=(245, 246), match='y'>\n",
      "<re.Match object; span=(246, 247), match='m'>\n",
      "<re.Match object; span=(247, 248), match='s'>\n",
      "<re.Match object; span=(249, 250), match='c'>\n",
      "<re.Match object; span=(250, 251), match='o'>\n",
      "<re.Match object; span=(251, 252), match='m'>\n",
      "<re.Match object; span=(321, 322), match='a'>\n",
      "<re.Match object; span=(325, 326), match='C'>\n",
      "<re.Match object; span=(331, 332), match='M'>\n",
      "<re.Match object; span=(332, 333), match='r'>\n",
      "<re.Match object; span=(335, 336), match='S'>\n",
      "<re.Match object; span=(336, 337), match='c'>\n",
      "<re.Match object; span=(337, 338), match='h'>\n",
      "<re.Match object; span=(338, 339), match='a'>\n",
      "<re.Match object; span=(339, 340), match='f'>\n",
      "<re.Match object; span=(340, 341), match='e'>\n",
      "<re.Match object; span=(341, 342), match='r'>\n",
      "<re.Match object; span=(343, 344), match='M'>\n",
      "<re.Match object; span=(344, 345), match='r'>\n",
      "<re.Match object; span=(346, 347), match='S'>\n",
      "<re.Match object; span=(347, 348), match='m'>\n",
      "<re.Match object; span=(348, 349), match='i'>\n",
      "<re.Match object; span=(349, 350), match='t'>\n",
      "<re.Match object; span=(350, 351), match='h'>\n",
      "<re.Match object; span=(352, 353), match='M'>\n",
      "<re.Match object; span=(353, 354), match='s'>\n",
      "<re.Match object; span=(355, 356), match='D'>\n",
      "<re.Match object; span=(356, 357), match='a'>\n",
      "<re.Match object; span=(357, 358), match='v'>\n",
      "<re.Match object; span=(358, 359), match='i'>\n",
      "<re.Match object; span=(359, 360), match='s'>\n",
      "<re.Match object; span=(361, 362), match='M'>\n",
      "<re.Match object; span=(362, 363), match='r'>\n",
      "<re.Match object; span=(363, 364), match='s'>\n",
      "<re.Match object; span=(366, 367), match='R'>\n",
      "<re.Match object; span=(367, 368), match='o'>\n",
      "<re.Match object; span=(368, 369), match='b'>\n",
      "<re.Match object; span=(369, 370), match='i'>\n",
      "<re.Match object; span=(370, 371), match='n'>\n",
      "<re.Match object; span=(371, 372), match='s'>\n",
      "<re.Match object; span=(372, 373), match='o'>\n",
      "<re.Match object; span=(373, 374), match='n'>\n",
      "<re.Match object; span=(375, 376), match='M'>\n",
      "<re.Match object; span=(376, 377), match='r'>\n",
      "<re.Match object; span=(379, 380), match='T'>\n"
     ]
    }
   ],
   "source": [
    "pattern = re.compile(r\"[a-zA-z]\") # only characters\n",
    "matches = pattern.finditer(text_to_search)\n",
    "\n",
    "for match in matches:\n",
    "    print(match)"
   ]
  },
  {
   "cell_type": "code",
   "execution_count": 58,
   "id": "ccb0ecf9",
   "metadata": {
    "ExecuteTime": {
     "end_time": "2021-12-23T08:17:39.830541Z",
     "start_time": "2021-12-23T08:17:39.813262Z"
    }
   },
   "outputs": [
    {
     "name": "stdout",
     "output_type": "stream",
     "text": [
      "<re.Match object; span=(26, 27), match='\\n'>\n",
      "<re.Match object; span=(53, 54), match='\\n'>\n",
      "<re.Match object; span=(54, 55), match='1'>\n",
      "<re.Match object; span=(55, 56), match='2'>\n",
      "<re.Match object; span=(56, 57), match='3'>\n",
      "<re.Match object; span=(57, 58), match='4'>\n",
      "<re.Match object; span=(58, 59), match='5'>\n",
      "<re.Match object; span=(59, 60), match='6'>\n",
      "<re.Match object; span=(60, 61), match='7'>\n",
      "<re.Match object; span=(61, 62), match='8'>\n",
      "<re.Match object; span=(62, 63), match='9'>\n",
      "<re.Match object; span=(63, 64), match='0'>\n",
      "<re.Match object; span=(64, 65), match='1'>\n",
      "<re.Match object; span=(65, 66), match='0'>\n",
      "<re.Match object; span=(66, 67), match='\\n'>\n",
      "<re.Match object; span=(69, 70), match=' '>\n",
      "<re.Match object; span=(74, 75), match='\\n'>\n",
      "<re.Match object; span=(89, 90), match=' '>\n",
      "<re.Match object; span=(90, 91), match='('>\n",
      "<re.Match object; span=(95, 96), match=' '>\n",
      "<re.Match object; span=(98, 99), match=' '>\n",
      "<re.Match object; span=(101, 102), match=' '>\n",
      "<re.Match object; span=(109, 110), match=')'>\n",
      "<re.Match object; span=(110, 111), match=':'>\n",
      "<re.Match object; span=(111, 112), match='\\n'>\n",
      "<re.Match object; span=(112, 113), match='.'>\n",
      "<re.Match object; span=(113, 114), match=' '>\n",
      "<re.Match object; span=(115, 116), match=' '>\n",
      "<re.Match object; span=(116, 117), match='$'>\n",
      "<re.Match object; span=(117, 118), match=' '>\n",
      "<re.Match object; span=(118, 119), match='*'>\n",
      "<re.Match object; span=(119, 120), match=' '>\n",
      "<re.Match object; span=(120, 121), match='+'>\n",
      "<re.Match object; span=(121, 122), match=' '>\n",
      "<re.Match object; span=(122, 123), match='?'>\n",
      "<re.Match object; span=(123, 124), match=' '>\n",
      "<re.Match object; span=(124, 125), match='{'>\n",
      "<re.Match object; span=(125, 126), match=' '>\n",
      "<re.Match object; span=(126, 127), match='}'>\n",
      "<re.Match object; span=(127, 128), match=' '>\n",
      "<re.Match object; span=(129, 130), match=' '>\n",
      "<re.Match object; span=(131, 132), match=' '>\n",
      "<re.Match object; span=(133, 134), match=' '>\n",
      "<re.Match object; span=(134, 135), match='|'>\n",
      "<re.Match object; span=(135, 136), match=' '>\n",
      "<re.Match object; span=(136, 137), match='('>\n",
      "<re.Match object; span=(137, 138), match=' '>\n",
      "<re.Match object; span=(138, 139), match=')'>\n",
      "<re.Match object; span=(139, 140), match='\\n'>\n",
      "<re.Match object; span=(143, 144), match='\\n'>\n",
      "<re.Match object; span=(147, 148), match='\\n'>\n",
      "<re.Match object; span=(151, 152), match=' '>\n",
      "<re.Match object; span=(152, 153), match='\\n'>\n",
      "<re.Match object; span=(156, 157), match='\\n'>\n",
      "<re.Match object; span=(160, 161), match='\\n'>\n",
      "<re.Match object; span=(164, 165), match='\\n'>\n",
      "<re.Match object; span=(168, 169), match='\\n'>\n",
      "<re.Match object; span=(169, 170), match='0'>\n",
      "<re.Match object; span=(170, 171), match='1'>\n",
      "<re.Match object; span=(171, 172), match='0'>\n",
      "<re.Match object; span=(172, 173), match='9'>\n",
      "<re.Match object; span=(173, 174), match='2'>\n",
      "<re.Match object; span=(174, 175), match='3'>\n",
      "<re.Match object; span=(175, 176), match='2'>\n",
      "<re.Match object; span=(176, 177), match='9'>\n",
      "<re.Match object; span=(177, 178), match='3'>\n",
      "<re.Match object; span=(178, 179), match='4'>\n",
      "<re.Match object; span=(179, 180), match='0'>\n",
      "<re.Match object; span=(180, 181), match='\\n'>\n",
      "<re.Match object; span=(181, 182), match='0'>\n",
      "<re.Match object; span=(182, 183), match='1'>\n",
      "<re.Match object; span=(183, 184), match='1'>\n",
      "<re.Match object; span=(184, 185), match='2'>\n",
      "<re.Match object; span=(185, 186), match='3'>\n",
      "<re.Match object; span=(186, 187), match='2'>\n",
      "<re.Match object; span=(187, 188), match='3'>\n",
      "<re.Match object; span=(188, 189), match='4'>\n",
      "<re.Match object; span=(189, 190), match='3'>\n",
      "<re.Match object; span=(190, 191), match='5'>\n",
      "<re.Match object; span=(191, 192), match='5'>\n",
      "<re.Match object; span=(192, 193), match='\\n'>\n",
      "<re.Match object; span=(193, 194), match='0'>\n",
      "<re.Match object; span=(194, 195), match='1'>\n",
      "<re.Match object; span=(195, 196), match='0'>\n",
      "<re.Match object; span=(196, 197), match='2'>\n",
      "<re.Match object; span=(197, 198), match='3'>\n",
      "<re.Match object; span=(198, 199), match='4'>\n",
      "<re.Match object; span=(199, 200), match='5'>\n",
      "<re.Match object; span=(200, 201), match='5'>\n",
      "<re.Match object; span=(201, 202), match='4'>\n",
      "<re.Match object; span=(202, 203), match='1'>\n",
      "<re.Match object; span=(203, 204), match='1'>\n",
      "<re.Match object; span=(204, 205), match='\\n'>\n",
      "<re.Match object; span=(205, 206), match='0'>\n",
      "<re.Match object; span=(206, 207), match='1'>\n",
      "<re.Match object; span=(207, 208), match='2'>\n",
      "<re.Match object; span=(208, 209), match='3'>\n",
      "<re.Match object; span=(209, 210), match='4'>\n",
      "<re.Match object; span=(210, 211), match='5'>\n",
      "<re.Match object; span=(211, 212), match='6'>\n",
      "<re.Match object; span=(212, 213), match='7'>\n",
      "<re.Match object; span=(213, 214), match='8'>\n",
      "<re.Match object; span=(214, 215), match='7'>\n",
      "<re.Match object; span=(215, 216), match='5'>\n",
      "<re.Match object; span=(216, 217), match='\\n'>\n",
      "<re.Match object; span=(217, 218), match='0'>\n",
      "<re.Match object; span=(218, 219), match='1'>\n",
      "<re.Match object; span=(219, 220), match='5'>\n",
      "<re.Match object; span=(220, 221), match='3'>\n",
      "<re.Match object; span=(221, 222), match='4'>\n",
      "<re.Match object; span=(222, 223), match='5'>\n",
      "<re.Match object; span=(223, 224), match='6'>\n",
      "<re.Match object; span=(224, 225), match='7'>\n",
      "<re.Match object; span=(225, 226), match='4'>\n",
      "<re.Match object; span=(226, 227), match='5'>\n",
      "<re.Match object; span=(227, 228), match='6'>\n",
      "<re.Match object; span=(228, 229), match='\\n'>\n",
      "<re.Match object; span=(229, 230), match='0'>\n",
      "<re.Match object; span=(230, 231), match='1'>\n",
      "<re.Match object; span=(231, 232), match='1'>\n",
      "<re.Match object; span=(232, 233), match='3'>\n",
      "<re.Match object; span=(233, 234), match='4'>\n",
      "<re.Match object; span=(234, 235), match='5'>\n",
      "<re.Match object; span=(235, 236), match='6'>\n",
      "<re.Match object; span=(236, 237), match='7'>\n",
      "<re.Match object; span=(237, 238), match='8'>\n",
      "<re.Match object; span=(238, 239), match='5'>\n",
      "<re.Match object; span=(239, 240), match='6'>\n",
      "<re.Match object; span=(240, 241), match='\\n'>\n",
      "<re.Match object; span=(248, 249), match='-'>\n",
      "<re.Match object; span=(252, 253), match='\\n'>\n",
      "<re.Match object; span=(253, 254), match='3'>\n",
      "<re.Match object; span=(254, 255), match='2'>\n",
      "<re.Match object; span=(255, 256), match='1'>\n",
      "<re.Match object; span=(256, 257), match='-'>\n",
      "<re.Match object; span=(257, 258), match='5'>\n",
      "<re.Match object; span=(258, 259), match='5'>\n",
      "<re.Match object; span=(259, 260), match='5'>\n",
      "<re.Match object; span=(260, 261), match='-'>\n",
      "<re.Match object; span=(261, 262), match='4'>\n",
      "<re.Match object; span=(262, 263), match='3'>\n",
      "<re.Match object; span=(263, 264), match='2'>\n",
      "<re.Match object; span=(264, 265), match='1'>\n",
      "<re.Match object; span=(265, 266), match='\\n'>\n",
      "<re.Match object; span=(266, 267), match='1'>\n",
      "<re.Match object; span=(267, 268), match='2'>\n",
      "<re.Match object; span=(268, 269), match='3'>\n",
      "<re.Match object; span=(269, 270), match='.'>\n",
      "<re.Match object; span=(270, 271), match='5'>\n",
      "<re.Match object; span=(271, 272), match='5'>\n",
      "<re.Match object; span=(272, 273), match='5'>\n",
      "<re.Match object; span=(273, 274), match='.'>\n",
      "<re.Match object; span=(274, 275), match='1'>\n",
      "<re.Match object; span=(275, 276), match='2'>\n",
      "<re.Match object; span=(276, 277), match='3'>\n",
      "<re.Match object; span=(277, 278), match='4'>\n",
      "<re.Match object; span=(278, 279), match='\\n'>\n",
      "<re.Match object; span=(279, 280), match='1'>\n",
      "<re.Match object; span=(280, 281), match='2'>\n",
      "<re.Match object; span=(281, 282), match='3'>\n",
      "<re.Match object; span=(282, 283), match='*'>\n",
      "<re.Match object; span=(283, 284), match='5'>\n",
      "<re.Match object; span=(284, 285), match='5'>\n",
      "<re.Match object; span=(285, 286), match='5'>\n",
      "<re.Match object; span=(286, 287), match='*'>\n",
      "<re.Match object; span=(287, 288), match='1'>\n",
      "<re.Match object; span=(288, 289), match='2'>\n",
      "<re.Match object; span=(289, 290), match='3'>\n",
      "<re.Match object; span=(290, 291), match='4'>\n",
      "<re.Match object; span=(291, 292), match='\\n'>\n",
      "<re.Match object; span=(292, 293), match='8'>\n",
      "<re.Match object; span=(293, 294), match='0'>\n",
      "<re.Match object; span=(294, 295), match='0'>\n",
      "<re.Match object; span=(295, 296), match='-'>\n",
      "<re.Match object; span=(296, 297), match='5'>\n",
      "<re.Match object; span=(297, 298), match='5'>\n",
      "<re.Match object; span=(298, 299), match='5'>\n",
      "<re.Match object; span=(299, 300), match='-'>\n",
      "<re.Match object; span=(300, 301), match='1'>\n",
      "<re.Match object; span=(301, 302), match='2'>\n",
      "<re.Match object; span=(302, 303), match='3'>\n",
      "<re.Match object; span=(303, 304), match='4'>\n",
      "<re.Match object; span=(304, 305), match='\\n'>\n",
      "<re.Match object; span=(305, 306), match='9'>\n",
      "<re.Match object; span=(306, 307), match='0'>\n",
      "<re.Match object; span=(307, 308), match='0'>\n",
      "<re.Match object; span=(308, 309), match='-'>\n",
      "<re.Match object; span=(309, 310), match='5'>\n",
      "<re.Match object; span=(310, 311), match='5'>\n",
      "<re.Match object; span=(311, 312), match='5'>\n",
      "<re.Match object; span=(312, 313), match='-'>\n",
      "<re.Match object; span=(313, 314), match='1'>\n",
      "<re.Match object; span=(314, 315), match='2'>\n",
      "<re.Match object; span=(315, 316), match='3'>\n",
      "<re.Match object; span=(316, 317), match='4'>\n",
      "<re.Match object; span=(317, 318), match='\\n'>\n",
      "<re.Match object; span=(318, 319), match='1'>\n",
      "<re.Match object; span=(319, 320), match='0'>\n",
      "<re.Match object; span=(320, 321), match='0'>\n",
      "<re.Match object; span=(322, 323), match='1'>\n",
      "<re.Match object; span=(323, 324), match='2'>\n",
      "<re.Match object; span=(324, 325), match='1'>\n",
      "<re.Match object; span=(326, 327), match='4'>\n",
      "<re.Match object; span=(327, 328), match='5'>\n",
      "<re.Match object; span=(328, 329), match='4'>\n",
      "<re.Match object; span=(329, 330), match='3'>\n",
      "<re.Match object; span=(330, 331), match='\\n'>\n",
      "<re.Match object; span=(333, 334), match='.'>\n",
      "<re.Match object; span=(334, 335), match=' '>\n",
      "<re.Match object; span=(342, 343), match='\\n'>\n",
      "<re.Match object; span=(345, 346), match=' '>\n",
      "<re.Match object; span=(351, 352), match='\\n'>\n",
      "<re.Match object; span=(354, 355), match=' '>\n",
      "<re.Match object; span=(360, 361), match='\\n'>\n",
      "<re.Match object; span=(364, 365), match='.'>\n",
      "<re.Match object; span=(365, 366), match=' '>\n",
      "<re.Match object; span=(374, 375), match='\\n'>\n",
      "<re.Match object; span=(377, 378), match='.'>\n",
      "<re.Match object; span=(378, 379), match=' '>\n",
      "<re.Match object; span=(380, 381), match='\\n'>\n"
     ]
    }
   ],
   "source": [
    "pattern = re.compile(r\"[^a-zA-z]\") # not characters\n",
    "matches = pattern.finditer(text_to_search)\n",
    "\n",
    "for match in matches:\n",
    "    print(match)"
   ]
  },
  {
   "cell_type": "code",
   "execution_count": 59,
   "id": "ebe76ddf",
   "metadata": {
    "ExecuteTime": {
     "end_time": "2021-12-23T08:18:13.552519Z",
     "start_time": "2021-12-23T08:18:13.547694Z"
    }
   },
   "outputs": [
    {
     "name": "stdout",
     "output_type": "stream",
     "text": [
      "<re.Match object; span=(148, 151), match='mat'>\n",
      "<re.Match object; span=(153, 156), match='hat'>\n",
      "<re.Match object; span=(157, 160), match='bat'>\n",
      "<re.Match object; span=(161, 164), match='fat'>\n",
      "<re.Match object; span=(165, 168), match='sat'>\n"
     ]
    }
   ],
   "source": [
    "pattern = re.compile(r\"[^c]at\")\n",
    "matches = pattern.finditer(text_to_search)\n",
    "\n",
    "for match in matches:\n",
    "    print(match)"
   ]
  },
  {
   "cell_type": "code",
   "execution_count": 61,
   "id": "099f3797",
   "metadata": {
    "ExecuteTime": {
     "end_time": "2021-12-23T08:19:51.767920Z",
     "start_time": "2021-12-23T08:19:51.762909Z"
    }
   },
   "outputs": [
    {
     "name": "stdout",
     "output_type": "stream",
     "text": [
      "<re.Match object; span=(253, 265), match='321-555-4321'>\n",
      "<re.Match object; span=(292, 304), match='800-555-1234'>\n",
      "<re.Match object; span=(305, 317), match='900-555-1234'>\n"
     ]
    }
   ],
   "source": [
    "pattern = re.compile(r\"\\d{3}-\\d{3}-\\d{4}\") # easier syntax\n",
    "matches = pattern.finditer(text_to_search)\n",
    "\n",
    "for match in matches:\n",
    "    print(match)"
   ]
  },
  {
   "cell_type": "code",
   "execution_count": 62,
   "id": "f9ce950b",
   "metadata": {
    "ExecuteTime": {
     "end_time": "2021-12-23T08:20:46.844811Z",
     "start_time": "2021-12-23T08:20:46.840095Z"
    }
   },
   "outputs": [
    {
     "name": "stdout",
     "output_type": "stream",
     "text": [
      "<re.Match object; span=(331, 334), match='Mr.'>\n",
      "<re.Match object; span=(343, 346), match='Mr '>\n",
      "<re.Match object; span=(361, 364), match='Mrs'>\n",
      "<re.Match object; span=(375, 378), match='Mr.'>\n"
     ]
    }
   ],
   "source": [
    "pattern = re.compile(r\"Mr.\") # Mr then anything\n",
    "matches = pattern.finditer(text_to_search)\n",
    "\n",
    "for match in matches:\n",
    "    print(match)"
   ]
  },
  {
   "cell_type": "code",
   "execution_count": 64,
   "id": "b4ed8d46",
   "metadata": {
    "ExecuteTime": {
     "end_time": "2021-12-23T08:21:18.746837Z",
     "start_time": "2021-12-23T08:21:18.742396Z"
    }
   },
   "outputs": [
    {
     "name": "stdout",
     "output_type": "stream",
     "text": [
      "<re.Match object; span=(331, 334), match='Mr.'>\n",
      "<re.Match object; span=(375, 378), match='Mr.'>\n"
     ]
    }
   ],
   "source": [
    "pattern = re.compile(r\"Mr\\.\") # Mr then .\n",
    "matches = pattern.finditer(text_to_search)\n",
    "\n",
    "for match in matches:\n",
    "    print(match)"
   ]
  },
  {
   "cell_type": "code",
   "execution_count": 65,
   "id": "c50ef892",
   "metadata": {
    "ExecuteTime": {
     "end_time": "2021-12-23T08:22:22.536256Z",
     "start_time": "2021-12-23T08:22:22.531632Z"
    }
   },
   "outputs": [
    {
     "name": "stdout",
     "output_type": "stream",
     "text": [
      "<re.Match object; span=(331, 334), match='Mr.'>\n",
      "<re.Match object; span=(343, 345), match='Mr'>\n",
      "<re.Match object; span=(361, 363), match='Mr'>\n",
      "<re.Match object; span=(375, 378), match='Mr.'>\n"
     ]
    }
   ],
   "source": [
    "pattern = re.compile(r\"Mr\\.?\") # prints either Mr is followed by . or not\n",
    "matches = pattern.finditer(text_to_search)\n",
    "\n",
    "for match in matches:\n",
    "    print(match)"
   ]
  },
  {
   "cell_type": "code",
   "execution_count": 70,
   "id": "95df7b00",
   "metadata": {
    "ExecuteTime": {
     "end_time": "2021-12-23T08:25:11.174110Z",
     "start_time": "2021-12-23T08:25:11.169839Z"
    }
   },
   "outputs": [
    {
     "name": "stdout",
     "output_type": "stream",
     "text": [
      "<re.Match object; span=(331, 339), match='Mr. Scha'>\n",
      "<re.Match object; span=(343, 350), match='Mr Smit'>\n"
     ]
    }
   ],
   "source": [
    "pattern = re.compile(r\"Mr\\.?\\s[A-Z]?\\w{3}\") \n",
    "matches = pattern.finditer(text_to_search)\n",
    "\n",
    "for match in matches:\n",
    "    print(match)"
   ]
  },
  {
   "cell_type": "code",
   "execution_count": 72,
   "id": "20002f51",
   "metadata": {
    "ExecuteTime": {
     "end_time": "2021-12-23T08:27:04.040582Z",
     "start_time": "2021-12-23T08:27:04.035429Z"
    }
   },
   "outputs": [
    {
     "name": "stdout",
     "output_type": "stream",
     "text": [
      "<re.Match object; span=(331, 342), match='Mr. Schafer'>\n",
      "<re.Match object; span=(343, 351), match='Mr Smith'>\n",
      "<re.Match object; span=(375, 380), match='Mr. T'>\n"
     ]
    }
   ],
   "source": [
    "pattern = re.compile(r\"Mr\\.?\\s[A-Z]?\\w+\") \n",
    "matches = pattern.finditer(text_to_search)\n",
    "\n",
    "for match in matches:\n",
    "    print(match)"
   ]
  },
  {
   "cell_type": "code",
   "execution_count": 73,
   "id": "ba9cd094",
   "metadata": {
    "ExecuteTime": {
     "end_time": "2021-12-23T08:27:41.647200Z",
     "start_time": "2021-12-23T08:27:41.641607Z"
    }
   },
   "outputs": [
    {
     "name": "stdout",
     "output_type": "stream",
     "text": [
      "<re.Match object; span=(331, 342), match='Mr. Schafer'>\n",
      "<re.Match object; span=(343, 351), match='Mr Smith'>\n",
      "<re.Match object; span=(352, 360), match='Ms Davis'>\n",
      "<re.Match object; span=(361, 374), match='Mrs. Robinson'>\n",
      "<re.Match object; span=(375, 380), match='Mr. T'>\n"
     ]
    }
   ],
   "source": [
    "pattern = re.compile(r\"M(r|s|rs)\\.?\\s[A-Z]?\\w+\") \n",
    "matches = pattern.finditer(text_to_search)\n",
    "\n",
    "for match in matches:\n",
    "    print(match)"
   ]
  },
  {
   "cell_type": "code",
   "execution_count": 75,
   "id": "327f87ed",
   "metadata": {
    "ExecuteTime": {
     "end_time": "2021-12-23T08:31:11.975817Z",
     "start_time": "2021-12-23T08:31:11.971024Z"
    }
   },
   "outputs": [
    {
     "name": "stdout",
     "output_type": "stream",
     "text": [
      "<re.Match object; span=(1, 24), match='CoreyMSchafer@gmail.com'>\n"
     ]
    }
   ],
   "source": [
    "emails = '''\n",
    "CoreyMSchafer@gmail.com\n",
    "corey.schafer@university.edu\n",
    "corey-321-schafer@my-work.net\n",
    "'''\n",
    "\n",
    "pattern = re.compile(r\"[a-zA-Z]+@[a-zA-Z]+\\.com\")\n",
    "\n",
    "matches = pattern.finditer(emails)\n",
    "\n",
    "for match in matches:\n",
    "    print(match)"
   ]
  },
  {
   "cell_type": "code",
   "execution_count": 76,
   "id": "b4c35053",
   "metadata": {
    "ExecuteTime": {
     "end_time": "2021-12-23T08:31:38.901917Z",
     "start_time": "2021-12-23T08:31:38.897172Z"
    }
   },
   "outputs": [
    {
     "name": "stdout",
     "output_type": "stream",
     "text": [
      "<re.Match object; span=(25, 53), match='corey.schafer@university.edu'>\n"
     ]
    }
   ],
   "source": [
    "emails = '''\n",
    "CoreyMSchafer@gmail.com\n",
    "corey.schafer@university.edu\n",
    "corey-321-schafer@my-work.net\n",
    "'''\n",
    "\n",
    "pattern = re.compile(r\"[a-zA-Z-.]+@[a-zA-Z]+\\.edu\")\n",
    "\n",
    "matches = pattern.finditer(emails)\n",
    "\n",
    "for match in matches:\n",
    "    print(match)"
   ]
  },
  {
   "cell_type": "code",
   "execution_count": 77,
   "id": "1d291343",
   "metadata": {
    "ExecuteTime": {
     "end_time": "2021-12-23T08:33:03.573960Z",
     "start_time": "2021-12-23T08:33:03.569049Z"
    }
   },
   "outputs": [
    {
     "name": "stdout",
     "output_type": "stream",
     "text": [
      "<re.Match object; span=(54, 83), match='corey-321-schafer@my-work.net'>\n"
     ]
    }
   ],
   "source": [
    "emails = '''\n",
    "CoreyMSchafer@gmail.com\n",
    "corey.schafer@university.edu\n",
    "corey-321-schafer@my-work.net\n",
    "'''\n",
    "\n",
    "pattern = re.compile(r\"[a-zA-Z-0-9]+@[a-zA-Z-]+\\.net\")\n",
    "\n",
    "matches = pattern.finditer(emails)\n",
    "\n",
    "for match in matches:\n",
    "    print(match)"
   ]
  },
  {
   "cell_type": "code",
   "execution_count": 78,
   "id": "03929f5e",
   "metadata": {
    "ExecuteTime": {
     "end_time": "2021-12-23T08:33:22.878922Z",
     "start_time": "2021-12-23T08:33:22.873893Z"
    }
   },
   "outputs": [
    {
     "name": "stdout",
     "output_type": "stream",
     "text": [
      "<re.Match object; span=(1, 24), match='CoreyMSchafer@gmail.com'>\n",
      "<re.Match object; span=(31, 53), match='schafer@university.edu'>\n",
      "<re.Match object; span=(54, 83), match='corey-321-schafer@my-work.net'>\n"
     ]
    }
   ],
   "source": [
    "emails = '''\n",
    "CoreyMSchafer@gmail.com\n",
    "corey.schafer@university.edu\n",
    "corey-321-schafer@my-work.net\n",
    "'''\n",
    "\n",
    "pattern = re.compile(r\"[a-zA-Z-0-9]+@[a-zA-Z-]+\\.(com|edu|net)\")\n",
    "\n",
    "matches = pattern.finditer(emails)\n",
    "\n",
    "for match in matches:\n",
    "    print(match)"
   ]
  },
  {
   "cell_type": "code",
   "execution_count": 81,
   "id": "b6376a62",
   "metadata": {
    "ExecuteTime": {
     "end_time": "2021-12-23T08:34:43.937724Z",
     "start_time": "2021-12-23T08:34:43.931435Z"
    }
   },
   "outputs": [
    {
     "name": "stdout",
     "output_type": "stream",
     "text": [
      "<re.Match object; span=(1, 24), match='CoreyMSchafer@gmail.com'>\n",
      "<re.Match object; span=(31, 53), match='schafer@university.edu'>\n",
      "<re.Match object; span=(54, 83), match='corey-321-schafer@my-work.net'>\n",
      "<re.Match object; span=(84, 99), match='hendy@gmail.myw'>\n"
     ]
    }
   ],
   "source": [
    "emails = '''\n",
    "CoreyMSchafer@gmail.com\n",
    "corey.schafer@university.edu\n",
    "corey-321-schafer@my-work.net\n",
    "hendy@gmail.mywork\n",
    "'''\n",
    "\n",
    "pattern = re.compile(r\"[a-zA-Z-0-9]+@[a-zA-Z-]+\\.\\w{3}\")\n",
    "\n",
    "matches = pattern.finditer(emails)\n",
    "\n",
    "for match in matches:\n",
    "    print(match)"
   ]
  },
  {
   "cell_type": "code",
   "execution_count": 83,
   "id": "574453a3",
   "metadata": {
    "ExecuteTime": {
     "end_time": "2021-12-23T08:35:55.994866Z",
     "start_time": "2021-12-23T08:35:55.988718Z"
    }
   },
   "outputs": [
    {
     "name": "stdout",
     "output_type": "stream",
     "text": [
      "<re.Match object; span=(1, 24), match='CoreyMSchafer@gmail.com'>\n",
      "<re.Match object; span=(31, 53), match='schafer@university.edu'>\n",
      "<re.Match object; span=(54, 83), match='corey-321-schafer@my-work.net'>\n",
      "<re.Match object; span=(84, 102), match='hendy@gmail.mywork'>\n"
     ]
    }
   ],
   "source": [
    "emails = '''\n",
    "CoreyMSchafer@gmail.com\n",
    "corey.schafer@university.edu\n",
    "corey-321-schafer@my-work.net\n",
    "hendy@gmail.mywork\n",
    "'''\n",
    "\n",
    "pattern = re.compile(r\"[a-zA-Z-0-9]+@[a-zA-Z-0-9]+\\.[a-zA-Z-0-9]+\")\n",
    "\n",
    "matches = pattern.finditer(emails)\n",
    "\n",
    "for match in matches:\n",
    "    print(match)"
   ]
  },
  {
   "cell_type": "code",
   "execution_count": 86,
   "id": "e86dce4a",
   "metadata": {
    "ExecuteTime": {
     "end_time": "2021-12-23T08:38:09.571633Z",
     "start_time": "2021-12-23T08:38:09.566048Z"
    }
   },
   "outputs": [
    {
     "name": "stdout",
     "output_type": "stream",
     "text": [
      "<re.Match object; span=(1, 24), match='CoreyMSchafer@gmail.com'>\n",
      "<re.Match object; span=(31, 53), match='schafer@university.edu'>\n",
      "<re.Match object; span=(54, 83), match='corey-321-schafer@my-work.net'>\n",
      "<re.Match object; span=(84, 100), match='hendy@gmail.mywo'>\n"
     ]
    }
   ],
   "source": [
    "emails = '''\n",
    "CoreyMSchafer@gmail.com\n",
    "corey.schafer@university.edu\n",
    "corey-321-schafer@my-work.net\n",
    "hendy@gmail.mywork\n",
    "'''\n",
    "\n",
    "pattern = re.compile(r\"[a-zA-Z-0-9]+@[a-zA-Z-0-9]+\\.[a-zA-Z-0-9]{3,4}\")\n",
    "\n",
    "matches = pattern.finditer(emails)\n",
    "\n",
    "for match in matches:\n",
    "    print(match)"
   ]
  },
  {
   "cell_type": "code",
   "execution_count": null,
   "id": "210bd647",
   "metadata": {},
   "outputs": [],
   "source": []
  }
 ],
 "metadata": {
  "kernelspec": {
   "display_name": "Python 3",
   "language": "python",
   "name": "python3"
  },
  "language_info": {
   "codemirror_mode": {
    "name": "ipython",
    "version": 3
   },
   "file_extension": ".py",
   "mimetype": "text/x-python",
   "name": "python",
   "nbconvert_exporter": "python",
   "pygments_lexer": "ipython3",
   "version": "3.8.8"
  },
  "toc": {
   "base_numbering": 1,
   "nav_menu": {},
   "number_sections": true,
   "sideBar": true,
   "skip_h1_title": false,
   "title_cell": "Table of Contents",
   "title_sidebar": "Contents",
   "toc_cell": false,
   "toc_position": {},
   "toc_section_display": true,
   "toc_window_display": false
  },
  "varInspector": {
   "cols": {
    "lenName": 16,
    "lenType": 16,
    "lenVar": 40
   },
   "kernels_config": {
    "python": {
     "delete_cmd_postfix": "",
     "delete_cmd_prefix": "del ",
     "library": "var_list.py",
     "varRefreshCmd": "print(var_dic_list())"
    },
    "r": {
     "delete_cmd_postfix": ") ",
     "delete_cmd_prefix": "rm(",
     "library": "var_list.r",
     "varRefreshCmd": "cat(var_dic_list()) "
    }
   },
   "types_to_exclude": [
    "module",
    "function",
    "builtin_function_or_method",
    "instance",
    "_Feature"
   ],
   "window_display": false
  }
 },
 "nbformat": 4,
 "nbformat_minor": 5
}
